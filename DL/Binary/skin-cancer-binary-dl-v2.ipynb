{
 "cells": [
  {
   "cell_type": "code",
   "execution_count": 1,
   "id": "dea9c680",
   "metadata": {
    "execution": {
     "iopub.execute_input": "2025-01-15T07:58:31.033255Z",
     "iopub.status.busy": "2025-01-15T07:58:31.032978Z",
     "iopub.status.idle": "2025-01-15T07:58:40.497265Z",
     "shell.execute_reply": "2025-01-15T07:58:40.496206Z"
    },
    "papermill": {
     "duration": 9.481385,
     "end_time": "2025-01-15T07:58:40.499346",
     "exception": false,
     "start_time": "2025-01-15T07:58:31.017961",
     "status": "completed"
    },
    "tags": []
   },
   "outputs": [
    {
     "name": "stdout",
     "output_type": "stream",
     "text": [
      "Collecting torcheval\r\n",
      "  Downloading torcheval-0.0.7-py3-none-any.whl.metadata (8.6 kB)\r\n",
      "Requirement already satisfied: typing-extensions in /opt/conda/lib/python3.10/site-packages (from torcheval) (4.12.2)\r\n",
      "Downloading torcheval-0.0.7-py3-none-any.whl (179 kB)\r\n",
      "\u001b[2K   \u001b[90m━━━━━━━━━━━━━━━━━━━━━━━━━━━━━━━━━━━━━━━━\u001b[0m \u001b[32m179.2/179.2 kB\u001b[0m \u001b[31m4.8 MB/s\u001b[0m eta \u001b[36m0:00:00\u001b[0m\r\n",
      "\u001b[?25hInstalling collected packages: torcheval\r\n",
      "Successfully installed torcheval-0.0.7\r\n"
     ]
    }
   ],
   "source": [
    "!pip install torcheval"
   ]
  },
  {
   "cell_type": "code",
   "execution_count": 2,
   "id": "401588e6",
   "metadata": {
    "execution": {
     "iopub.execute_input": "2025-01-15T07:58:40.525658Z",
     "iopub.status.busy": "2025-01-15T07:58:40.525341Z",
     "iopub.status.idle": "2025-01-15T07:59:02.684987Z",
     "shell.execute_reply": "2025-01-15T07:59:02.684148Z"
    },
    "papermill": {
     "duration": 22.175049,
     "end_time": "2025-01-15T07:59:02.687051",
     "exception": false,
     "start_time": "2025-01-15T07:58:40.512002",
     "status": "completed"
    },
    "tags": []
   },
   "outputs": [
    {
     "name": "stdout",
     "output_type": "stream",
     "text": [
      "Requirement already satisfied: wandb in /opt/conda/lib/python3.10/site-packages (0.18.3)\r\n",
      "Collecting wandb\r\n",
      "  Downloading wandb-0.19.3-py3-none-manylinux_2_17_x86_64.manylinux2014_x86_64.whl.metadata (10 kB)\r\n",
      "Requirement already satisfied: click!=8.0.0,>=7.1 in /opt/conda/lib/python3.10/site-packages (from wandb) (8.1.7)\r\n",
      "Requirement already satisfied: docker-pycreds>=0.4.0 in /opt/conda/lib/python3.10/site-packages (from wandb) (0.4.0)\r\n",
      "Requirement already satisfied: gitpython!=3.1.29,>=1.0.0 in /opt/conda/lib/python3.10/site-packages (from wandb) (3.1.43)\r\n",
      "Requirement already satisfied: platformdirs in /opt/conda/lib/python3.10/site-packages (from wandb) (3.11.0)\r\n",
      "Requirement already satisfied: protobuf!=4.21.0,!=5.28.0,<6,>=3.19.0 in /opt/conda/lib/python3.10/site-packages (from wandb) (3.20.3)\r\n",
      "Requirement already satisfied: psutil>=5.0.0 in /opt/conda/lib/python3.10/site-packages (from wandb) (5.9.3)\r\n",
      "Requirement already satisfied: pydantic<3,>=2.6 in /opt/conda/lib/python3.10/site-packages (from wandb) (2.9.2)\r\n",
      "Requirement already satisfied: pyyaml in /opt/conda/lib/python3.10/site-packages (from wandb) (6.0.2)\r\n",
      "Requirement already satisfied: requests<3,>=2.0.0 in /opt/conda/lib/python3.10/site-packages (from wandb) (2.32.3)\r\n",
      "Requirement already satisfied: sentry-sdk>=2.0.0 in /opt/conda/lib/python3.10/site-packages (from wandb) (2.15.0)\r\n",
      "Requirement already satisfied: setproctitle in /opt/conda/lib/python3.10/site-packages (from wandb) (1.3.3)\r\n",
      "Requirement already satisfied: setuptools in /opt/conda/lib/python3.10/site-packages (from wandb) (70.0.0)\r\n",
      "Requirement already satisfied: typing-extensions<5,>=4.4 in /opt/conda/lib/python3.10/site-packages (from wandb) (4.12.2)\r\n",
      "Requirement already satisfied: six>=1.4.0 in /opt/conda/lib/python3.10/site-packages (from docker-pycreds>=0.4.0->wandb) (1.16.0)\r\n",
      "Requirement already satisfied: gitdb<5,>=4.0.1 in /opt/conda/lib/python3.10/site-packages (from gitpython!=3.1.29,>=1.0.0->wandb) (4.0.11)\r\n",
      "Requirement already satisfied: annotated-types>=0.6.0 in /opt/conda/lib/python3.10/site-packages (from pydantic<3,>=2.6->wandb) (0.7.0)\r\n",
      "Requirement already satisfied: pydantic-core==2.23.4 in /opt/conda/lib/python3.10/site-packages (from pydantic<3,>=2.6->wandb) (2.23.4)\r\n",
      "Requirement already satisfied: charset-normalizer<4,>=2 in /opt/conda/lib/python3.10/site-packages (from requests<3,>=2.0.0->wandb) (3.3.2)\r\n",
      "Requirement already satisfied: idna<4,>=2.5 in /opt/conda/lib/python3.10/site-packages (from requests<3,>=2.0.0->wandb) (3.7)\r\n",
      "Requirement already satisfied: urllib3<3,>=1.21.1 in /opt/conda/lib/python3.10/site-packages (from requests<3,>=2.0.0->wandb) (1.26.18)\r\n",
      "Requirement already satisfied: certifi>=2017.4.17 in /opt/conda/lib/python3.10/site-packages (from requests<3,>=2.0.0->wandb) (2024.8.30)\r\n",
      "Requirement already satisfied: smmap<6,>=3.0.1 in /opt/conda/lib/python3.10/site-packages (from gitdb<5,>=4.0.1->gitpython!=3.1.29,>=1.0.0->wandb) (5.0.1)\r\n",
      "Downloading wandb-0.19.3-py3-none-manylinux_2_17_x86_64.manylinux2014_x86_64.whl (20.3 MB)\r\n",
      "\u001b[2K   \u001b[90m━━━━━━━━━━━━━━━━━━━━━━━━━━━━━━━━━━━━━━━━\u001b[0m \u001b[32m20.3/20.3 MB\u001b[0m \u001b[31m84.1 MB/s\u001b[0m eta \u001b[36m0:00:00\u001b[0m\r\n",
      "\u001b[?25hInstalling collected packages: wandb\r\n",
      "  Attempting uninstall: wandb\r\n",
      "    Found existing installation: wandb 0.18.3\r\n",
      "    Uninstalling wandb-0.18.3:\r\n",
      "      Successfully uninstalled wandb-0.18.3\r\n",
      "Successfully installed wandb-0.19.3\r\n"
     ]
    }
   ],
   "source": [
    "!pip install --upgrade wandb\n"
   ]
  },
  {
   "cell_type": "markdown",
   "id": "0d54d359",
   "metadata": {
    "papermill": {
     "duration": 0.012677,
     "end_time": "2025-01-15T07:59:02.712910",
     "exception": false,
     "start_time": "2025-01-15T07:59:02.700233",
     "status": "completed"
    },
    "tags": []
   },
   "source": [
    "## Import Libraries"
   ]
  },
  {
   "cell_type": "code",
   "execution_count": 3,
   "id": "b4bfb7bc",
   "metadata": {
    "execution": {
     "iopub.execute_input": "2025-01-15T07:59:02.739877Z",
     "iopub.status.busy": "2025-01-15T07:59:02.739550Z",
     "iopub.status.idle": "2025-01-15T07:59:12.541458Z",
     "shell.execute_reply": "2025-01-15T07:59:12.540607Z"
    },
    "papermill": {
     "duration": 9.817686,
     "end_time": "2025-01-15T07:59:12.543338",
     "exception": false,
     "start_time": "2025-01-15T07:59:02.725652",
     "status": "completed"
    },
    "tags": []
   },
   "outputs": [
    {
     "name": "stderr",
     "output_type": "stream",
     "text": [
      "/opt/conda/lib/python3.10/site-packages/albumentations/__init__.py:13: UserWarning: A new version of Albumentations is available: 2.0.0 (you have 1.4.17). Upgrade using: pip install -U albumentations. To disable automatic update checks, set the environment variable NO_ALBUMENTATIONS_UPDATE to 1.\n",
      "  check_for_updates()\n"
     ]
    }
   ],
   "source": [
    "import cv2 as cv\n",
    "from skimage import segmentation\n",
    "import cv2\n",
    "import os\n",
    "import gc\n",
    "import math\n",
    "import copy\n",
    "import time\n",
    "import random\n",
    "import glob\n",
    "from matplotlib import pyplot as plt\n",
    "\n",
    "# For data manipulation\n",
    "import numpy as np\n",
    "import pandas as pd\n",
    "\n",
    "# Pytorch Imports\n",
    "import torch\n",
    "import torch.nn as nn\n",
    "import torch.optim as optim\n",
    "import torch.nn.functional as F\n",
    "from torch.optim import lr_scheduler\n",
    "from torch.utils.data import Dataset, DataLoader\n",
    "from torch.cuda import amp\n",
    "import torchvision\n",
    "from torch.cuda.amp import GradScaler, autocast\n",
    "from torcheval.metrics.functional import binary_auroc\n",
    "from torchmetrics.classification import BinaryAccuracy, BinaryPrecision, BinaryRecall, BinaryAUROC\n",
    "\n",
    "\n",
    "# Utils\n",
    "import joblib\n",
    "from tqdm import tqdm\n",
    "from collections import defaultdict\n",
    "\n",
    "# Sklearn Imports\n",
    "from sklearn.preprocessing import LabelEncoder\n",
    "from sklearn.model_selection import StratifiedKFold, StratifiedGroupKFold \n",
    "from sklearn.utils.class_weight import compute_class_weight\n",
    "\n",
    "\n",
    "# For Image Models\n",
    "import timm\n",
    "\n",
    "import wandb\n",
    "\n",
    "# Albumentations for augmentations\n",
    "import albumentations as A\n",
    "from albumentations.pytorch import ToTensorV2\n",
    "\n",
    "# For colored terminal text\n",
    "from colorama import Fore, Back, Style\n",
    "b_ = Fore.BLUE\n",
    "sr_ = Style.RESET_ALL\n",
    "\n",
    "import warnings\n",
    "warnings.filterwarnings(\"ignore\")\n",
    "\n",
    "# For descriptive error messages\n",
    "os.environ['CUDA_LAUNCH_BLOCKING'] = \"1\""
   ]
  },
  {
   "cell_type": "code",
   "execution_count": 4,
   "id": "222afd39",
   "metadata": {
    "execution": {
     "iopub.execute_input": "2025-01-15T07:59:12.570134Z",
     "iopub.status.busy": "2025-01-15T07:59:12.569856Z",
     "iopub.status.idle": "2025-01-15T07:59:12.945242Z",
     "shell.execute_reply": "2025-01-15T07:59:12.944430Z"
    },
    "papermill": {
     "duration": 0.390777,
     "end_time": "2025-01-15T07:59:12.947042",
     "exception": false,
     "start_time": "2025-01-15T07:59:12.556265",
     "status": "completed"
    },
    "tags": []
   },
   "outputs": [
    {
     "name": "stderr",
     "output_type": "stream",
     "text": [
      "\u001b[34m\u001b[1mwandb\u001b[0m: Currently logged in as: \u001b[33mmahdiiut079\u001b[0m (\u001b[33mmi79\u001b[0m). Use \u001b[1m`wandb login --relogin`\u001b[0m to force relogin\n",
      "\u001b[34m\u001b[1mwandb\u001b[0m: \u001b[33mWARNING\u001b[0m If you're specifying your api key in code, ensure this code is not shared publicly.\n",
      "\u001b[34m\u001b[1mwandb\u001b[0m: \u001b[33mWARNING\u001b[0m Consider setting the WANDB_API_KEY environment variable, or running `wandb login` from the command line.\n",
      "\u001b[34m\u001b[1mwandb\u001b[0m: Appending key for api.wandb.ai to your netrc file: /root/.netrc\n"
     ]
    }
   ],
   "source": [
    "try:\n",
    "    from kaggle_secrets import UserSecretsClient\n",
    "    user_secrets = UserSecretsClient()\n",
    "    api_key = user_secrets.get_secret(\"WANDB\")\n",
    "    wandb.login(key=api_key)\n",
    "    anonymous = None\n",
    "except:\n",
    "    anonymous = \"must\"\n",
    "    print('To use your W&B account,\\nGo to Add-ons -> Secrets and provide your W&B access token. Use the Label name as WANDB. \\nGet your W&B access token from here: https://wandb.ai/authorize')"
   ]
  },
  {
   "cell_type": "code",
   "execution_count": 5,
   "id": "552020dd",
   "metadata": {
    "execution": {
     "iopub.execute_input": "2025-01-15T07:59:12.974287Z",
     "iopub.status.busy": "2025-01-15T07:59:12.974025Z",
     "iopub.status.idle": "2025-01-15T07:59:12.980609Z",
     "shell.execute_reply": "2025-01-15T07:59:12.979901Z"
    },
    "papermill": {
     "duration": 0.021714,
     "end_time": "2025-01-15T07:59:12.982066",
     "exception": false,
     "start_time": "2025-01-15T07:59:12.960352",
     "status": "completed"
    },
    "tags": []
   },
   "outputs": [
    {
     "data": {
      "text/plain": [
       "True"
      ]
     },
     "execution_count": 5,
     "metadata": {},
     "output_type": "execute_result"
    }
   ],
   "source": [
    "import wandb\n",
    "\n",
    "wandb.login()  # Ensure you are logged in properly before running\n"
   ]
  },
  {
   "cell_type": "markdown",
   "id": "539d209b",
   "metadata": {
    "papermill": {
     "duration": 0.012669,
     "end_time": "2025-01-15T07:59:13.007634",
     "exception": false,
     "start_time": "2025-01-15T07:59:12.994965",
     "status": "completed"
    },
    "tags": []
   },
   "source": [
    "## Configurations for EfficientNetB4"
   ]
  },
  {
   "cell_type": "code",
   "execution_count": 6,
   "id": "454daa89",
   "metadata": {
    "execution": {
     "iopub.execute_input": "2025-01-15T07:59:13.034071Z",
     "iopub.status.busy": "2025-01-15T07:59:13.033842Z",
     "iopub.status.idle": "2025-01-15T07:59:13.103739Z",
     "shell.execute_reply": "2025-01-15T07:59:13.103031Z"
    },
    "papermill": {
     "duration": 0.085002,
     "end_time": "2025-01-15T07:59:13.105259",
     "exception": false,
     "start_time": "2025-01-15T07:59:13.020257",
     "status": "completed"
    },
    "tags": []
   },
   "outputs": [],
   "source": [
    "CONFIG = {\n",
    "    \"seed\": 42,\n",
    "    \"epochs\": 50,  # Increased epochs\n",
    "    \"img_size\": 224,\n",
    "    \"model_name\": \"tf_efficientnet_b4_ns\",\n",
    "    \"train_batch_size\": 16,\n",
    "    \"valid_batch_size\": 64,\n",
    "    \"learning_rate\": 1e-4,  # Slightly higher learning rate\n",
    "    \"scheduler\": 'ReduceLROnPlateau',\n",
    "    \"min_lr\": 1e-6,\n",
    "    # \"T_max\": 20,  # Adjusted for longer training duration\n",
    "    \"weight_decay\": 1e-8,\n",
    "    \"fold\": 0,\n",
    "    \"n_fold\": 5,\n",
    "    \"n_accumulate\": 1,\n",
    "    \"device\": torch.device(\"cuda:0\" if torch.cuda.is_available() else \"cpu\"),\n",
    "    \"patience\": 10,  # Add patience for early stopping\n",
    "}\n"
   ]
  },
  {
   "cell_type": "markdown",
   "id": "12e321fd",
   "metadata": {
    "papermill": {
     "duration": 0.013363,
     "end_time": "2025-01-15T07:59:13.132484",
     "exception": false,
     "start_time": "2025-01-15T07:59:13.119121",
     "status": "completed"
    },
    "tags": []
   },
   "source": [
    "## Configurations for Swin Transformer"
   ]
  },
  {
   "cell_type": "code",
   "execution_count": 7,
   "id": "5a1e2b1c",
   "metadata": {
    "execution": {
     "iopub.execute_input": "2025-01-15T07:59:13.159813Z",
     "iopub.status.busy": "2025-01-15T07:59:13.159167Z",
     "iopub.status.idle": "2025-01-15T07:59:13.163083Z",
     "shell.execute_reply": "2025-01-15T07:59:13.162350Z"
    },
    "papermill": {
     "duration": 0.019479,
     "end_time": "2025-01-15T07:59:13.164934",
     "exception": false,
     "start_time": "2025-01-15T07:59:13.145455",
     "status": "completed"
    },
    "tags": []
   },
   "outputs": [],
   "source": [
    "# CONFIG = {\n",
    "#     \"seed\": 42,\n",
    "#     \"epochs\": 40,\n",
    "#     \"img_size\": 224,\n",
    "#     \"model_name\": \"swin_tiny_patch4_window7_224\",  # Smaller Swin Transformer\n",
    "#     \"train_batch_size\": 16,  # Reduced batch size\n",
    "#     \"valid_batch_size\": 16,  # Match training batch size\n",
    "#     \"learning_rate\": 5e-5,\n",
    "#     \"scheduler\": 'CosineAnnealingLR',\n",
    "#     \"min_lr\": 1e-6,\n",
    "#     \"T_max\": 10,\n",
    "#     \"weight_decay\": 1e-4,\n",
    "#     \"fold\": 0,\n",
    "#     \"n_fold\": 5,\n",
    "#     \"n_accumulate\": 2,  # Gradient accumulation\n",
    "#     \"device\": torch.device(\"cuda:0\" if torch.cuda.is_available() else \"cpu\"),\n",
    "#     \"patience\": 5,\n",
    "# }\n"
   ]
  },
  {
   "cell_type": "code",
   "execution_count": 8,
   "id": "6d3c616b",
   "metadata": {
    "execution": {
     "iopub.execute_input": "2025-01-15T07:59:13.191970Z",
     "iopub.status.busy": "2025-01-15T07:59:13.191720Z",
     "iopub.status.idle": "2025-01-15T07:59:13.195276Z",
     "shell.execute_reply": "2025-01-15T07:59:13.194558Z"
    },
    "papermill": {
     "duration": 0.018764,
     "end_time": "2025-01-15T07:59:13.196835",
     "exception": false,
     "start_time": "2025-01-15T07:59:13.178071",
     "status": "completed"
    },
    "tags": []
   },
   "outputs": [],
   "source": [
    "# CONFIG = {\n",
    "#     \"seed\": 42,\n",
    "#     \"epochs\": 25,  # Reduced to prevent overfitting\n",
    "#     \"img_size\": 224,\n",
    "#     \"model_name\": \"swin_tiny_patch4_window7_224\",\n",
    "#     \"train_batch_size\": 16,\n",
    "#     \"valid_batch_size\": 16,\n",
    "#     \"learning_rate\": 5e-5,  # Initial learning rate\n",
    "#     \"scheduler\": 'ReduceLROnPlateau',  # Changed to ReduceLROnPlateau\n",
    "#     \"min_lr\": 1e-6,  # Minimum LR for scheduler\n",
    "#     \"weight_decay\": 1e-4,\n",
    "#     \"fold\": 0,\n",
    "#     \"n_fold\": 5,\n",
    "#     \"n_accumulate\": 2,  # Gradient accumulation\n",
    "#     \"device\": torch.device(\"cuda:0\" if torch.cuda.is_available() else \"cpu\"),\n",
    "#     \"patience\": 3,  # Patience for ReduceLROnPlateau\n",
    "# }\n"
   ]
  },
  {
   "cell_type": "markdown",
   "id": "09b29890",
   "metadata": {
    "papermill": {
     "duration": 0.012443,
     "end_time": "2025-01-15T07:59:13.221946",
     "exception": false,
     "start_time": "2025-01-15T07:59:13.209503",
     "status": "completed"
    },
    "tags": []
   },
   "source": [
    "## Reproducibility"
   ]
  },
  {
   "cell_type": "code",
   "execution_count": 9,
   "id": "96620977",
   "metadata": {
    "execution": {
     "iopub.execute_input": "2025-01-15T07:59:13.248411Z",
     "iopub.status.busy": "2025-01-15T07:59:13.247886Z",
     "iopub.status.idle": "2025-01-15T07:59:13.257853Z",
     "shell.execute_reply": "2025-01-15T07:59:13.257103Z"
    },
    "papermill": {
     "duration": 0.024976,
     "end_time": "2025-01-15T07:59:13.259511",
     "exception": false,
     "start_time": "2025-01-15T07:59:13.234535",
     "status": "completed"
    },
    "tags": []
   },
   "outputs": [],
   "source": [
    "def set_seed(seed=42):\n",
    "    '''Sets the seed of the entire notebook so results are the same every time we run.\n",
    "    This is for REPRODUCIBILITY.'''\n",
    "    np.random.seed(seed)\n",
    "    torch.manual_seed(seed)\n",
    "    torch.cuda.manual_seed(seed)\n",
    "    # When running on the CuDNN backend, two further options must be set\n",
    "    torch.backends.cudnn.deterministic = True\n",
    "    torch.backends.cudnn.benchmark = False\n",
    "    # Set a fixed value for the hash seed\n",
    "    os.environ['PYTHONHASHSEED'] = str(seed)\n",
    "    \n",
    "set_seed(CONFIG['seed'])"
   ]
  },
  {
   "cell_type": "markdown",
   "id": "db0f30ca",
   "metadata": {
    "papermill": {
     "duration": 0.012512,
     "end_time": "2025-01-15T07:59:13.284959",
     "exception": false,
     "start_time": "2025-01-15T07:59:13.272447",
     "status": "completed"
    },
    "tags": []
   },
   "source": [
    "## Data loading"
   ]
  },
  {
   "cell_type": "code",
   "execution_count": 10,
   "id": "5d993b35",
   "metadata": {
    "execution": {
     "iopub.execute_input": "2025-01-15T07:59:13.311871Z",
     "iopub.status.busy": "2025-01-15T07:59:13.311626Z",
     "iopub.status.idle": "2025-01-15T07:59:13.315164Z",
     "shell.execute_reply": "2025-01-15T07:59:13.314466Z"
    },
    "jupyter": {
     "source_hidden": true
    },
    "papermill": {
     "duration": 0.018983,
     "end_time": "2025-01-15T07:59:13.316627",
     "exception": false,
     "start_time": "2025-01-15T07:59:13.297644",
     "status": "completed"
    },
    "tags": []
   },
   "outputs": [],
   "source": [
    "# # Define classes and the directory where files were extracted\n",
    "# classes = ['others', 'nevus']\n",
    "# image_dir_train = '/kaggle/input/skin-cancer-detecttion/train'\n",
    "\n",
    "# # Initialize an empty list to store image file paths and their corresponding labels\n",
    "# data = []\n",
    "\n",
    "# # Loop through each class folder and each image within that folder\n",
    "# for i, c in enumerate(classes):\n",
    "#     class_dir = os.path.join(image_dir_train, c)\n",
    "    \n",
    "#     if os.path.exists(class_dir):\n",
    "#         for filename in os.listdir(class_dir):\n",
    "#             if filename.endswith(('.png', '.jpg', '.jpeg')):  # Filter image files\n",
    "#                 image_path = os.path.join(class_dir, filename)\n",
    "#                 data.append([image_path, c, i])  # Append image path and its label (class)\n",
    "\n",
    "# # Create a pandas DataFrame from the data\n",
    "# df_train = pd.DataFrame(data, columns=['image_path', 'label_name', 'label'])"
   ]
  },
  {
   "cell_type": "code",
   "execution_count": 11,
   "id": "360cef6f",
   "metadata": {
    "execution": {
     "iopub.execute_input": "2025-01-15T07:59:13.343541Z",
     "iopub.status.busy": "2025-01-15T07:59:13.343039Z",
     "iopub.status.idle": "2025-01-15T07:59:13.600240Z",
     "shell.execute_reply": "2025-01-15T07:59:13.599522Z"
    },
    "papermill": {
     "duration": 0.272658,
     "end_time": "2025-01-15T07:59:13.602130",
     "exception": false,
     "start_time": "2025-01-15T07:59:13.329472",
     "status": "completed"
    },
    "tags": []
   },
   "outputs": [],
   "source": [
    "# Data Loading\n",
    "classes = ['others', 'nevus']\n",
    "image_dir_train = '/kaggle/input/skin-cancer-detecttion/train'\n",
    "\n",
    "def load_data(image_dir, classes):\n",
    "    data = []\n",
    "    for i, c in enumerate(classes):\n",
    "        class_dir = os.path.join(image_dir, c)\n",
    "        if os.path.exists(class_dir):\n",
    "            for filename in os.listdir(class_dir):\n",
    "                if filename.endswith(('.png', '.jpg', '.jpeg')):\n",
    "                    data.append([os.path.join(class_dir, filename), c, i])\n",
    "    return pd.DataFrame(data, columns=['image_path', 'label_name', 'label'])\n",
    "\n",
    "df_train = load_data(image_dir_train, classes)"
   ]
  },
  {
   "cell_type": "code",
   "execution_count": 12,
   "id": "4846416a",
   "metadata": {
    "execution": {
     "iopub.execute_input": "2025-01-15T07:59:13.630954Z",
     "iopub.status.busy": "2025-01-15T07:59:13.630425Z",
     "iopub.status.idle": "2025-01-15T07:59:13.713261Z",
     "shell.execute_reply": "2025-01-15T07:59:13.712652Z"
    },
    "papermill": {
     "duration": 0.098337,
     "end_time": "2025-01-15T07:59:13.714933",
     "exception": false,
     "start_time": "2025-01-15T07:59:13.616596",
     "status": "completed"
    },
    "tags": []
   },
   "outputs": [],
   "source": [
    "image_dir_valid = '/kaggle/input/skin-cancer-detecttion/val'\n",
    "\n",
    "# Initialize an empty list to store image file paths and their corresponding labels\n",
    "data = []\n",
    "\n",
    "# Loop through each class folder and each image within that folder\n",
    "for c in classes:\n",
    "    class_dir = os.path.join(image_dir_valid, c)\n",
    "    \n",
    "    if os.path.exists(class_dir):\n",
    "        for filename in os.listdir(class_dir):\n",
    "            if filename.endswith(('.png', '.jpg', '.jpeg')):  # Filter image files\n",
    "                image_path = os.path.join(class_dir, filename)\n",
    "                data.append([image_path, c])  # Append image path and its label (class)\n",
    "\n",
    "# Create a pandas DataFrame from the data\n",
    "df_valid = pd.DataFrame(data, columns=['image_path', 'label'])"
   ]
  },
  {
   "cell_type": "code",
   "execution_count": 13,
   "id": "2d2e992a",
   "metadata": {
    "execution": {
     "iopub.execute_input": "2025-01-15T07:59:13.742166Z",
     "iopub.status.busy": "2025-01-15T07:59:13.741661Z",
     "iopub.status.idle": "2025-01-15T07:59:13.757575Z",
     "shell.execute_reply": "2025-01-15T07:59:13.756789Z"
    },
    "papermill": {
     "duration": 0.031059,
     "end_time": "2025-01-15T07:59:13.759193",
     "exception": false,
     "start_time": "2025-01-15T07:59:13.728134",
     "status": "completed"
    },
    "tags": []
   },
   "outputs": [
    {
     "data": {
      "text/html": [
       "<div>\n",
       "<style scoped>\n",
       "    .dataframe tbody tr th:only-of-type {\n",
       "        vertical-align: middle;\n",
       "    }\n",
       "\n",
       "    .dataframe tbody tr th {\n",
       "        vertical-align: top;\n",
       "    }\n",
       "\n",
       "    .dataframe thead th {\n",
       "        text-align: right;\n",
       "    }\n",
       "</style>\n",
       "<table border=\"1\" class=\"dataframe\">\n",
       "  <thead>\n",
       "    <tr style=\"text-align: right;\">\n",
       "      <th></th>\n",
       "      <th>image_path</th>\n",
       "      <th>label_name</th>\n",
       "      <th>label</th>\n",
       "    </tr>\n",
       "  </thead>\n",
       "  <tbody>\n",
       "    <tr>\n",
       "      <th>0</th>\n",
       "      <td>/kaggle/input/skin-cancer-detecttion/train/oth...</td>\n",
       "      <td>others</td>\n",
       "      <td>0</td>\n",
       "    </tr>\n",
       "    <tr>\n",
       "      <th>1</th>\n",
       "      <td>/kaggle/input/skin-cancer-detecttion/train/oth...</td>\n",
       "      <td>others</td>\n",
       "      <td>0</td>\n",
       "    </tr>\n",
       "    <tr>\n",
       "      <th>2</th>\n",
       "      <td>/kaggle/input/skin-cancer-detecttion/train/oth...</td>\n",
       "      <td>others</td>\n",
       "      <td>0</td>\n",
       "    </tr>\n",
       "    <tr>\n",
       "      <th>3</th>\n",
       "      <td>/kaggle/input/skin-cancer-detecttion/train/oth...</td>\n",
       "      <td>others</td>\n",
       "      <td>0</td>\n",
       "    </tr>\n",
       "    <tr>\n",
       "      <th>4</th>\n",
       "      <td>/kaggle/input/skin-cancer-detecttion/train/oth...</td>\n",
       "      <td>others</td>\n",
       "      <td>0</td>\n",
       "    </tr>\n",
       "    <tr>\n",
       "      <th>...</th>\n",
       "      <td>...</td>\n",
       "      <td>...</td>\n",
       "      <td>...</td>\n",
       "    </tr>\n",
       "    <tr>\n",
       "      <th>15190</th>\n",
       "      <td>/kaggle/input/skin-cancer-detecttion/train/nev...</td>\n",
       "      <td>nevus</td>\n",
       "      <td>1</td>\n",
       "    </tr>\n",
       "    <tr>\n",
       "      <th>15191</th>\n",
       "      <td>/kaggle/input/skin-cancer-detecttion/train/nev...</td>\n",
       "      <td>nevus</td>\n",
       "      <td>1</td>\n",
       "    </tr>\n",
       "    <tr>\n",
       "      <th>15192</th>\n",
       "      <td>/kaggle/input/skin-cancer-detecttion/train/nev...</td>\n",
       "      <td>nevus</td>\n",
       "      <td>1</td>\n",
       "    </tr>\n",
       "    <tr>\n",
       "      <th>15193</th>\n",
       "      <td>/kaggle/input/skin-cancer-detecttion/train/nev...</td>\n",
       "      <td>nevus</td>\n",
       "      <td>1</td>\n",
       "    </tr>\n",
       "    <tr>\n",
       "      <th>15194</th>\n",
       "      <td>/kaggle/input/skin-cancer-detecttion/train/nev...</td>\n",
       "      <td>nevus</td>\n",
       "      <td>1</td>\n",
       "    </tr>\n",
       "  </tbody>\n",
       "</table>\n",
       "<p>15195 rows × 3 columns</p>\n",
       "</div>"
      ],
      "text/plain": [
       "                                              image_path label_name  label\n",
       "0      /kaggle/input/skin-cancer-detecttion/train/oth...     others      0\n",
       "1      /kaggle/input/skin-cancer-detecttion/train/oth...     others      0\n",
       "2      /kaggle/input/skin-cancer-detecttion/train/oth...     others      0\n",
       "3      /kaggle/input/skin-cancer-detecttion/train/oth...     others      0\n",
       "4      /kaggle/input/skin-cancer-detecttion/train/oth...     others      0\n",
       "...                                                  ...        ...    ...\n",
       "15190  /kaggle/input/skin-cancer-detecttion/train/nev...      nevus      1\n",
       "15191  /kaggle/input/skin-cancer-detecttion/train/nev...      nevus      1\n",
       "15192  /kaggle/input/skin-cancer-detecttion/train/nev...      nevus      1\n",
       "15193  /kaggle/input/skin-cancer-detecttion/train/nev...      nevus      1\n",
       "15194  /kaggle/input/skin-cancer-detecttion/train/nev...      nevus      1\n",
       "\n",
       "[15195 rows x 3 columns]"
      ]
     },
     "execution_count": 13,
     "metadata": {},
     "output_type": "execute_result"
    }
   ],
   "source": [
    "df_train"
   ]
  },
  {
   "cell_type": "code",
   "execution_count": 14,
   "id": "23cdc080",
   "metadata": {
    "execution": {
     "iopub.execute_input": "2025-01-15T07:59:13.786426Z",
     "iopub.status.busy": "2025-01-15T07:59:13.786140Z",
     "iopub.status.idle": "2025-01-15T07:59:13.794312Z",
     "shell.execute_reply": "2025-01-15T07:59:13.793505Z"
    },
    "papermill": {
     "duration": 0.023477,
     "end_time": "2025-01-15T07:59:13.795841",
     "exception": false,
     "start_time": "2025-01-15T07:59:13.772364",
     "status": "completed"
    },
    "tags": []
   },
   "outputs": [
    {
     "data": {
      "text/html": [
       "<div>\n",
       "<style scoped>\n",
       "    .dataframe tbody tr th:only-of-type {\n",
       "        vertical-align: middle;\n",
       "    }\n",
       "\n",
       "    .dataframe tbody tr th {\n",
       "        vertical-align: top;\n",
       "    }\n",
       "\n",
       "    .dataframe thead th {\n",
       "        text-align: right;\n",
       "    }\n",
       "</style>\n",
       "<table border=\"1\" class=\"dataframe\">\n",
       "  <thead>\n",
       "    <tr style=\"text-align: right;\">\n",
       "      <th></th>\n",
       "      <th>image_path</th>\n",
       "      <th>label</th>\n",
       "    </tr>\n",
       "  </thead>\n",
       "  <tbody>\n",
       "    <tr>\n",
       "      <th>0</th>\n",
       "      <td>/kaggle/input/skin-cancer-detecttion/val/other...</td>\n",
       "      <td>others</td>\n",
       "    </tr>\n",
       "    <tr>\n",
       "      <th>1</th>\n",
       "      <td>/kaggle/input/skin-cancer-detecttion/val/other...</td>\n",
       "      <td>others</td>\n",
       "    </tr>\n",
       "    <tr>\n",
       "      <th>2</th>\n",
       "      <td>/kaggle/input/skin-cancer-detecttion/val/other...</td>\n",
       "      <td>others</td>\n",
       "    </tr>\n",
       "    <tr>\n",
       "      <th>3</th>\n",
       "      <td>/kaggle/input/skin-cancer-detecttion/val/other...</td>\n",
       "      <td>others</td>\n",
       "    </tr>\n",
       "    <tr>\n",
       "      <th>4</th>\n",
       "      <td>/kaggle/input/skin-cancer-detecttion/val/other...</td>\n",
       "      <td>others</td>\n",
       "    </tr>\n",
       "    <tr>\n",
       "      <th>...</th>\n",
       "      <td>...</td>\n",
       "      <td>...</td>\n",
       "    </tr>\n",
       "    <tr>\n",
       "      <th>3791</th>\n",
       "      <td>/kaggle/input/skin-cancer-detecttion/val/nevus...</td>\n",
       "      <td>nevus</td>\n",
       "    </tr>\n",
       "    <tr>\n",
       "      <th>3792</th>\n",
       "      <td>/kaggle/input/skin-cancer-detecttion/val/nevus...</td>\n",
       "      <td>nevus</td>\n",
       "    </tr>\n",
       "    <tr>\n",
       "      <th>3793</th>\n",
       "      <td>/kaggle/input/skin-cancer-detecttion/val/nevus...</td>\n",
       "      <td>nevus</td>\n",
       "    </tr>\n",
       "    <tr>\n",
       "      <th>3794</th>\n",
       "      <td>/kaggle/input/skin-cancer-detecttion/val/nevus...</td>\n",
       "      <td>nevus</td>\n",
       "    </tr>\n",
       "    <tr>\n",
       "      <th>3795</th>\n",
       "      <td>/kaggle/input/skin-cancer-detecttion/val/nevus...</td>\n",
       "      <td>nevus</td>\n",
       "    </tr>\n",
       "  </tbody>\n",
       "</table>\n",
       "<p>3796 rows × 2 columns</p>\n",
       "</div>"
      ],
      "text/plain": [
       "                                             image_path   label\n",
       "0     /kaggle/input/skin-cancer-detecttion/val/other...  others\n",
       "1     /kaggle/input/skin-cancer-detecttion/val/other...  others\n",
       "2     /kaggle/input/skin-cancer-detecttion/val/other...  others\n",
       "3     /kaggle/input/skin-cancer-detecttion/val/other...  others\n",
       "4     /kaggle/input/skin-cancer-detecttion/val/other...  others\n",
       "...                                                 ...     ...\n",
       "3791  /kaggle/input/skin-cancer-detecttion/val/nevus...   nevus\n",
       "3792  /kaggle/input/skin-cancer-detecttion/val/nevus...   nevus\n",
       "3793  /kaggle/input/skin-cancer-detecttion/val/nevus...   nevus\n",
       "3794  /kaggle/input/skin-cancer-detecttion/val/nevus...   nevus\n",
       "3795  /kaggle/input/skin-cancer-detecttion/val/nevus...   nevus\n",
       "\n",
       "[3796 rows x 2 columns]"
      ]
     },
     "execution_count": 14,
     "metadata": {},
     "output_type": "execute_result"
    }
   ],
   "source": [
    "df_valid"
   ]
  },
  {
   "cell_type": "markdown",
   "id": "e5b2a225",
   "metadata": {
    "papermill": {
     "duration": 0.013157,
     "end_time": "2025-01-15T07:59:13.822318",
     "exception": false,
     "start_time": "2025-01-15T07:59:13.809161",
     "status": "completed"
    },
    "tags": []
   },
   "source": [
    "## KFolds"
   ]
  },
  {
   "cell_type": "code",
   "execution_count": 15,
   "id": "9c14d2b2",
   "metadata": {
    "execution": {
     "iopub.execute_input": "2025-01-15T07:59:13.849746Z",
     "iopub.status.busy": "2025-01-15T07:59:13.849491Z",
     "iopub.status.idle": "2025-01-15T07:59:13.862955Z",
     "shell.execute_reply": "2025-01-15T07:59:13.862347Z"
    },
    "papermill": {
     "duration": 0.028926,
     "end_time": "2025-01-15T07:59:13.864442",
     "exception": false,
     "start_time": "2025-01-15T07:59:13.835516",
     "status": "completed"
    },
    "tags": []
   },
   "outputs": [],
   "source": [
    "def create_folds(df, num_splits=5):\n",
    "    df[\"kfold\"] = -1\n",
    "    skf = StratifiedKFold(n_splits=num_splits, shuffle=True, random_state=42)\n",
    "    for fold, (train_idx, val_idx) in enumerate(skf.split(X=df, y=df.label)):\n",
    "        df.loc[val_idx, \"kfold\"] = fold\n",
    "    return df\n",
    "\n",
    "# Add K-Folds to df_train\n",
    "df_train = create_folds(df_train, num_splits=5)"
   ]
  },
  {
   "cell_type": "markdown",
   "id": "5b86522e",
   "metadata": {
    "papermill": {
     "duration": 0.013028,
     "end_time": "2025-01-15T07:59:13.890504",
     "exception": false,
     "start_time": "2025-01-15T07:59:13.877476",
     "status": "completed"
    },
    "tags": []
   },
   "source": [
    "## Sample data visualization"
   ]
  },
  {
   "cell_type": "code",
   "execution_count": 16,
   "id": "ee2dbf48",
   "metadata": {
    "execution": {
     "iopub.execute_input": "2025-01-15T07:59:13.918303Z",
     "iopub.status.busy": "2025-01-15T07:59:13.918058Z",
     "iopub.status.idle": "2025-01-15T07:59:16.795191Z",
     "shell.execute_reply": "2025-01-15T07:59:16.794249Z"
    },
    "papermill": {
     "duration": 2.898438,
     "end_time": "2025-01-15T07:59:16.802238",
     "exception": false,
     "start_time": "2025-01-15T07:59:13.903800",
     "status": "completed"
    },
    "tags": []
   },
   "outputs": [
    {
     "data": {
      "image/png": "[encoded data removed]",
      "text/plain": [
       "<Figure size 1500x500 with 20 Axes>"
      ]
     },
     "metadata": {},
     "output_type": "display_data"
    }
   ],
   "source": [
    "# Number of random images to select per class\n",
    "num_images = 10\n",
    "\n",
    "# Initialize a dictionary to store selected image paths by class\n",
    "selected_images = {}\n",
    "\n",
    "# Loop through each class and randomly sample 10 images\n",
    "for c in df_train['label'].unique():\n",
    "    class_images = df_train[df_train['label'] == c]  # Filter DataFrame by class\n",
    "    sampled_images = class_images.sample(n=min(len(class_images), num_images))  # Randomly sample 10 images\n",
    "    selected_images[c] = sampled_images['image_path'].tolist()\n",
    "\n",
    "# Plot the randomly selected images\n",
    "fig, axes = plt.subplots(len(selected_images), num_images, figsize=(15, 5))\n",
    "\n",
    "for class_idx, c in enumerate(selected_images.keys()):\n",
    "    for img_idx, img_path in enumerate(selected_images[c]):\n",
    "        img = cv2.imread(img_path)\n",
    "        img_rgb = cv2.cvtColor(img, cv2.COLOR_BGR2RGB)  # Convert BGR to RGB for matplotlib\n",
    "        ax = axes[class_idx, img_idx]\n",
    "        ax.imshow(img_rgb)\n",
    "        ax.axis('off')  # Hide axis for cleaner display\n",
    "        if img_idx == 0:\n",
    "            ax.set_title(c)  # Set class label as title on the first image of each row\n",
    "\n",
    "plt.tight_layout()\n",
    "plt.show()"
   ]
  },
  {
   "cell_type": "code",
   "execution_count": 17,
   "id": "fb4788b8",
   "metadata": {
    "execution": {
     "iopub.execute_input": "2025-01-15T07:59:16.850912Z",
     "iopub.status.busy": "2025-01-15T07:59:16.850580Z",
     "iopub.status.idle": "2025-01-15T07:59:16.880708Z",
     "shell.execute_reply": "2025-01-15T07:59:16.879868Z"
    },
    "jupyter": {
     "source_hidden": true
    },
    "papermill": {
     "duration": 0.056899,
     "end_time": "2025-01-15T07:59:16.882773",
     "exception": false,
     "start_time": "2025-01-15T07:59:16.825874",
     "status": "completed"
    },
    "tags": []
   },
   "outputs": [],
   "source": [
    "class Preprocessing:\n",
    "    \"\"\"\n",
    "       Preprocessing class. This class's purpose is to preprocess the images in the dataset.\n",
    "    \"\"\"\n",
    "\n",
    "    def _hair_removal(self, img, se_width=11, se_height=1, n_orientations=8):\n",
    "        # Input validation for structuring element dimensions\n",
    "        if se_width % 2 == 0:\n",
    "            raise ValueError(f\"Structuring element width ({se_width}) must be odd\")\n",
    "        if se_height % 2 == 0:\n",
    "            raise ValueError(f\"Structuring element height ({se_height}) must be odd\")\n",
    "\n",
    "        # Convert the original image to grayscale if it has more than 1 channel\n",
    "        if len(img.shape) == 3:\n",
    "            img_gray = cv.cvtColor(img, cv.COLOR_BGR2GRAY)\n",
    "        else:\n",
    "            img_gray = img\n",
    "\n",
    "        # Create tilted structuring elements\n",
    "        base = np.zeros((se_width, se_width), dtype=np.uint8)\n",
    "        for k in range(se_width // 2 - se_height // 2, se_width // 2 + se_height // 2 + 1):\n",
    "            cv.line(base, (0, k), (se_width, k), 255)\n",
    "\n",
    "        # Compute rotated structuring elements\n",
    "        SEs = [base]\n",
    "        angle_step = 180.0 / n_orientations\n",
    "        for k in range(1, n_orientations):\n",
    "            rotation_matrix = cv.getRotationMatrix2D((se_width / 2.0, se_width / 2.0), k * angle_step, 1.0)\n",
    "            SE = cv.warpAffine(base, rotation_matrix, (se_width, se_width), flags=cv.INTER_NEAREST)\n",
    "            SEs.append(SE)\n",
    "\n",
    "        # Initialize sum of blackhat results\n",
    "        sum_blackhats = np.zeros_like(img_gray, dtype=np.uint16)\n",
    "\n",
    "        # Apply blackhat operation using each structuring element and accumulate results\n",
    "        for SE in SEs:\n",
    "            blackhat = cv.morphologyEx(img_gray, cv.MORPH_BLACKHAT, SE)\n",
    "            sum_blackhats += blackhat\n",
    "\n",
    "        # Normalize the sum of blackhats to the range 0-255 and convert to uint8\n",
    "        cv.normalize(sum_blackhats, sum_blackhats, 0, 255, cv.NORM_MINMAX)\n",
    "        sum_blackhats = sum_blackhats.astype(np.uint8)\n",
    "\n",
    "        # Threshold the blackhat sum to create a binary mask for inpainting\n",
    "        _, thresholded = cv.threshold(sum_blackhats, 0, 255, cv.THRESH_BINARY | cv.THRESH_TRIANGLE)\n",
    "\n",
    "        # Refine the mask using morphological opening to remove small components\n",
    "        thresholded = cv.morphologyEx(thresholded, cv.MORPH_OPEN, cv.getStructuringElement(cv.MORPH_ELLIPSE, (3, 3)))\n",
    "\n",
    "        # Dilate the mask slightly to cover the hair regions more effectively\n",
    "        thresholded = cv.dilate(thresholded, cv.getStructuringElement(cv.MORPH_ELLIPSE, (5, 5)))\n",
    "\n",
    "        # Inpaint the original image using the created mask\n",
    "        if len(img.shape) == 3:\n",
    "            result = cv.inpaint(img, thresholded, 3, cv.INPAINT_NS)\n",
    "        else:\n",
    "            result = cv.inpaint(img_gray, thresholded, 3, cv.INPAINT_NS)\n",
    "\n",
    "        return result\n",
    "    \n",
    "    def _color_constancy(self, img, power=5, gamma=1.4):\n",
    "        \"\"\"\n",
    "        Apply color constancy to the input image using a power transformation and optional gamma correction.\n",
    "\n",
    "        Parameters:\n",
    "            img (numpy.ndarray): Input image.\n",
    "            power (float): Power to use for the power transformation (default is 6).\n",
    "            gamma (float, optional): Gamma value for gamma correction (default is 2.2).\n",
    "\n",
    "        Returns:\n",
    "            numpy.ndarray: Image with color constancy applied.\n",
    "        \"\"\"\n",
    "        # Get the data type of the input image\n",
    "        img_dtype = img.dtype\n",
    "\n",
    "        # Apply gamma correction if gamma is provided\n",
    "        if gamma is not None:\n",
    "            img = img / 255.0  # Normalize to 0-1\n",
    "            img = np.power(img, 1 / gamma)\n",
    "            img = (img * 255).astype('float32')\n",
    "\n",
    "        # Convert the image to float32 data type for further processing\n",
    "        img = img.astype('float32')\n",
    "\n",
    "        # Apply power transformation to the image\n",
    "        img_power = np.power(img, power)\n",
    "\n",
    "        # Calculate the mean of img_power along channels (0 and 1)\n",
    "        rgb_vec = np.power(np.mean(img_power, axis=(0, 1)), 1 / power)\n",
    "\n",
    "        # Calculate the L2 norm of rgb_vec\n",
    "        rgb_norm = np.linalg.norm(rgb_vec)\n",
    "\n",
    "        # Normalize rgb_vec to have unit length\n",
    "        rgb_vec /= (rgb_norm + 1e-6)  # Added small value to avoid division by zero\n",
    "\n",
    "        # Scale down rgb_vec to prevent overexposure (tuning parameter)\n",
    "        scale_factor = 0.8  # Scale down the effect of rgb_vec\n",
    "        rgb_vec = (1 / (rgb_vec * np.sqrt(3))) * scale_factor\n",
    "\n",
    "        # Scale img using the adjusted color constancy vector\n",
    "        img = img * rgb_vec\n",
    "        img = np.clip(img, 0, 255)\n",
    "\n",
    "        # Normalize the image to 0-255 if needed\n",
    "        img = cv.normalize(img, None, 0, 255, cv.NORM_MINMAX)\n",
    "\n",
    "        return img.astype(img_dtype)\n",
    "\n",
    "    \n",
    "    def _roi(self, img, threshold=50):\n",
    "        # Image dimensions\n",
    "        h, w = img.shape[:2]\n",
    "        \n",
    "        # Get the minimum dimension to avoid index errors\n",
    "        min_dim = min(h, w)\n",
    "        \n",
    "        # Calculate mean values along the diagonal\n",
    "        diagonal_values = np.mean(img[np.arange(min_dim), np.arange(min_dim), :], axis=1)\n",
    "\n",
    "        # Find the first and last points where the threshold is crossed\n",
    "        above_threshold = np.where(diagonal_values >= threshold)[0]\n",
    "        if above_threshold.size == 0:\n",
    "            # If no diagonal value exceeds the threshold, return the original image\n",
    "            return img\n",
    "        \n",
    "        first_cross = above_threshold[0]\n",
    "        last_cross = above_threshold[-1]\n",
    "        \n",
    "        # Set the coordinates to crop the image\n",
    "        y1 = max(0, first_cross)\n",
    "        y2 = min(h, last_cross + 1)\n",
    "        x1 = max(0, first_cross)\n",
    "        x2 = min(w, last_cross + 1)\n",
    "        \n",
    "        # Crop the image using the calculated coordinates\n",
    "        img_new = img[y1:y2, x1:x2, :]\n",
    "        \n",
    "        # Ensure the cropped image is not empty\n",
    "        if img_new.shape[0] == 0 or img_new.shape[1] == 0:\n",
    "            return img\n",
    "\n",
    "        return img_new\n",
    "    \n",
    "\n",
    "    def _add_padd_to_image(self, img, padding_size):\n",
    "        # Get the dimensions of the original image\n",
    "        height_original, width_original = img.shape\n",
    "\n",
    "        # Create a new larger image with black padding\n",
    "        new_height = height_original + 2 * padding_size\n",
    "        new_width = width_original + 2 * padding_size\n",
    "        padding_image = np.zeros((new_height, new_width), dtype=np.uint8)\n",
    "\n",
    "        # Calculate the position to place the original image in the center of the new image\n",
    "        x_offset = padding_size\n",
    "        y_offset = padding_size\n",
    "\n",
    "        # Copy the original image into the center of the new image\n",
    "        padding_image[y_offset:y_offset + height_original, x_offset:x_offset + width_original] = img\n",
    "\n",
    "        return padding_image, height_original, width_original\n",
    "\n",
    "    def _back_original_shape(self, eroded_mask, width_original, height_original, padding_size):\n",
    "        # Back to the original shape\n",
    "        crop_x_start = padding_size\n",
    "        crop_x_end = padding_size + width_original\n",
    "        crop_y_start = padding_size\n",
    "        crop_y_end = padding_size + height_original\n",
    "\n",
    "        # Crop the padded image to the original size\n",
    "        cropped_mask = 255 - eroded_mask[crop_y_start:crop_y_end, crop_x_start:crop_x_end]\n",
    "\n",
    "        return cropped_mask\n",
    "\n",
    "    def _plot_results(self, img, image_file, hair_removed_image, roi_image, cn_hair_removed_image, segmented_image, cropped_mask_3_channels, final_image):\n",
    "        # Create a figure with a larger size\n",
    "        plt.figure(figsize=(14, 4))\n",
    "\n",
    "        # Display the original image\n",
    "        plt.subplot(1, 6, 1)\n",
    "        plt.imshow(cv.cvtColor(img, cv.COLOR_BGR2RGB))\n",
    "        plt.title(f'Original: {image_file}', fontsize=5)\n",
    "        plt.axis('off')\n",
    "\n",
    "        # Display the hair-removed image\n",
    "        plt.subplot(1, 6, 2)\n",
    "        plt.imshow(cv.cvtColor(hair_removed_image, cv.COLOR_BGR2RGB))\n",
    "        plt.title('Step 1: Hair Removal', fontsize=5)\n",
    "        plt.axis('off')\n",
    "\n",
    "        # Display the color-normalized image\n",
    "        plt.subplot(1, 6, 3)\n",
    "        plt.imshow(cv.cvtColor(cn_hair_removed_image, cv.COLOR_BGR2RGB))\n",
    "        plt.title('Step 2: Color Normalization', fontsize=5)\n",
    "        plt.axis('off')\n",
    "\n",
    "        # Display the ROI image\n",
    "        plt.subplot(1, 6, 4)\n",
    "        plt.imshow(cv.cvtColor(roi_image, cv.COLOR_BGR2RGB))\n",
    "        plt.title('Step 3: ROI Image', fontsize=5)\n",
    "        plt.axis('off')\n",
    "\n",
    "        # Display the eroded mask\n",
    "        plt.subplot(1, 6, 5)\n",
    "        plt.imshow(cv.cvtColor(cropped_mask_3_channels, cv.COLOR_BGR2RGB))\n",
    "        plt.title('Step 4: Padding + Binary Mask', fontsize=5)\n",
    "        plt.axis('off')\n",
    "\n",
    "        # Display the final image\n",
    "        plt.subplot(1, 6, 6)\n",
    "        plt.imshow(cv.cvtColor(final_image, cv.COLOR_BGR2RGB))\n",
    "        plt.title('Final Image', fontsize=5)\n",
    "        plt.axis('off')\n",
    "\n",
    "        # Adjust the spacing between subplots\n",
    "        plt.tight_layout()\n",
    "        plt.savefig(\"preprocessing.png\")\n",
    "        plt.show()\n",
    "\n",
    "    def preprocess_image(self, img, image_file, plot_results):\n",
    "        # Call the function to remove the hairs from the image\n",
    "        hair_removed_image = self._hair_removal(img)\n",
    "        # Call the function to normalize the colors\n",
    "        cn_hair_removed_image = self._color_constancy(hair_removed_image)\n",
    "        # Call the function to crop the images\n",
    "        roi_image = self._roi(cn_hair_removed_image)\n",
    "\n",
    "        # Apply Gaussian blur\n",
    "        kernel_size = (5, 5)\n",
    "        sigma_x = 0\n",
    "        img_blurred = cv.GaussianBlur(roi_image, kernel_size, sigma_x)\n",
    "        img_gray = cv.cvtColor(img_blurred, cv.COLOR_BGR2GRAY)\n",
    "\n",
    "        # Define padding size\n",
    "        padding_size = 50\n",
    "        padding_image, height_original, width_original = self._add_padd_to_image(img_gray, padding_size)\n",
    "\n",
    "        # Region growing algorithm\n",
    "        seed = (0, 0)\n",
    "        segmented_image = segmentation.flood_fill(padding_image, seed_point=seed, new_value=0, tolerance=30)\n",
    "\n",
    "        # Apply the thresholding to create the binary mask\n",
    "        mask = np.where(segmented_image == 0, 255, 0).astype(np.uint8)\n",
    "\n",
    "        # Define the kernel for erosion\n",
    "        kernel_size = 11\n",
    "        kernel = np.ones((kernel_size, kernel_size), np.uint8)\n",
    "\n",
    "        # We remove small elements\n",
    "        mask = cv.dilate(cv.erode(mask, kernel, iterations=5), kernel, iterations=5)\n",
    "\n",
    "        # We dilate the mask\n",
    "        eroded_mask = cv.dilate(mask, kernel, iterations=5)\n",
    "\n",
    "        # Back to the original shape\n",
    "        cropped_mask = self._back_original_shape(eroded_mask, width_original, height_original, padding_size)\n",
    "\n",
    "        # Final output\n",
    "        cropped_mask_3_channels = cv.cvtColor(cropped_mask, cv.COLOR_GRAY2BGR)\n",
    "        final_image = 255 - (cropped_mask_3_channels * roi_image)\n",
    "\n",
    "        # Plot results\n",
    "        if plot_results:\n",
    "            self._plot_results(img, image_file, hair_removed_image, roi_image, cn_hair_removed_image, segmented_image, cropped_mask_3_channels, final_image)\n",
    "\n",
    "        return final_image\n",
    "\n",
    "    def preprocess_image_ROI(self, img):\n",
    "        roi_image = self._roi(img)\n",
    "\n",
    "        # Apply Gaussian blur\n",
    "        kernel_size = (5, 5)\n",
    "        sigma_x = 0\n",
    "        img_blurred = cv.GaussianBlur(roi_image, kernel_size, sigma_x)\n",
    "        img_gray = cv.cvtColor(img_blurred, cv.COLOR_BGR2GRAY)\n",
    "\n",
    "        # Define padding size\n",
    "        padding_size = 50\n",
    "        padding_image, height_original, width_original = self._add_padd_to_image(img_gray, padding_size)\n",
    "\n",
    "        # Region growing algorithm\n",
    "        seed = (0, 0)\n",
    "        segmented_image = segmentation.flood_fill(padding_image, seed_point=seed, new_value=0, tolerance=30)\n",
    "\n",
    "        # Apply the thresholding to create the binary mask\n",
    "        mask = np.where(segmented_image == 0, 255, 0).astype(np.uint8)\n",
    "\n",
    "        # Define the kernel for erosion\n",
    "        kernel_size = 11\n",
    "        kernel = np.ones((kernel_size, kernel_size), np.uint8)\n",
    "\n",
    "        # We remove small elements\n",
    "        mask = cv.dilate(cv.erode(mask, kernel, iterations=5), kernel, iterations=5)\n",
    "\n",
    "        # We dilate the mask\n",
    "        eroded_mask = cv.dilate(mask, kernel, iterations=5)\n",
    "\n",
    "        # Back to the original shape\n",
    "        cropped_mask = self._back_original_shape(eroded_mask, width_original, height_original, padding_size)\n",
    "\n",
    "        # Final output\n",
    "        cropped_mask_3_channels = cv.cvtColor(cropped_mask, cv.COLOR_GRAY2BGR)\n",
    "        final_image = 255 - (cropped_mask_3_channels * roi_image)\n",
    "\n",
    "        return final_image"
   ]
  },
  {
   "cell_type": "markdown",
   "id": "25767e2b",
   "metadata": {
    "papermill": {
     "duration": 0.021226,
     "end_time": "2025-01-15T07:59:16.931452",
     "exception": false,
     "start_time": "2025-01-15T07:59:16.910226",
     "status": "completed"
    },
    "tags": []
   },
   "source": [
    "## Preprocessing"
   ]
  },
  {
   "cell_type": "code",
   "execution_count": 18,
   "id": "86e8dbb9",
   "metadata": {
    "execution": {
     "iopub.execute_input": "2025-01-15T07:59:16.974777Z",
     "iopub.status.busy": "2025-01-15T07:59:16.974483Z",
     "iopub.status.idle": "2025-01-15T07:59:16.978258Z",
     "shell.execute_reply": "2025-01-15T07:59:16.977467Z"
    },
    "papermill": {
     "duration": 0.027482,
     "end_time": "2025-01-15T07:59:16.979937",
     "exception": false,
     "start_time": "2025-01-15T07:59:16.952455",
     "status": "completed"
    },
    "tags": []
   },
   "outputs": [],
   "source": [
    "preprocessing = Preprocessing()"
   ]
  },
  {
   "cell_type": "code",
   "execution_count": 19,
   "id": "ac841503",
   "metadata": {
    "execution": {
     "iopub.execute_input": "2025-01-15T07:59:17.023252Z",
     "iopub.status.busy": "2025-01-15T07:59:17.022996Z",
     "iopub.status.idle": "2025-01-15T08:56:48.589451Z",
     "shell.execute_reply": "2025-01-15T08:56:48.588532Z"
    },
    "papermill": {
     "duration": 3451.613738,
     "end_time": "2025-01-15T08:56:48.614943",
     "exception": false,
     "start_time": "2025-01-15T07:59:17.001205",
     "status": "completed"
    },
    "tags": []
   },
   "outputs": [
    {
     "name": "stdout",
     "output_type": "stream",
     "text": [
      "Training Dataset Normalization:\n",
      "Mean              : [0.71206467 0.72267604 0.74982272]\n",
      "Standard Deviation: [0.22178884 0.20703684 0.1648961 ]\n"
     ]
    }
   ],
   "source": [
    "# Initialize variables for mean and standard deviation calculation\n",
    "channel_sum, channel_squared_sum = np.zeros(3), np.zeros(3)\n",
    "num_images = len(df_train)  # Total number of images\n",
    "\n",
    "# Iterate through df_train\n",
    "for idx, row in df_train.iterrows():\n",
    "    img_path = row['image_path']\n",
    "    # Read the image\n",
    "    img = cv2.imread(img_path)\n",
    "\n",
    "    # Preprocess the image using your preprocessing function\n",
    "    prepoc_img = preprocessing.preprocess_image(img, img_path, plot_results=False)\n",
    "\n",
    "    # Convert the preprocessed image to a PyTorch tensor and normalize to [0, 1]\n",
    "    prepoc_img_tensor = torch.tensor(prepoc_img.transpose(2, 0, 1), dtype=torch.float32) / 255.0  # HWC to CHW\n",
    "\n",
    "    # Update channel sums\n",
    "    channel_sum += prepoc_img_tensor.mean(dim=[1, 2]).numpy()\n",
    "    channel_squared_sum += (prepoc_img_tensor**2).mean(dim=[1, 2]).numpy()\n",
    "\n",
    "# Calculate the mean and standard deviation\n",
    "mean = channel_sum / num_images\n",
    "stddev = np.sqrt(channel_squared_sum / num_images - mean**2)\n",
    "\n",
    "# Display the results\n",
    "print(\"Training Dataset Normalization:\")\n",
    "print(\"Mean              :\", mean)\n",
    "print(\"Standard Deviation:\", stddev)\n"
   ]
  },
  {
   "cell_type": "markdown",
   "id": "f28c6f4a",
   "metadata": {
    "papermill": {
     "duration": 0.021684,
     "end_time": "2025-01-15T08:56:48.658376",
     "exception": false,
     "start_time": "2025-01-15T08:56:48.636692",
     "status": "completed"
    },
    "tags": []
   },
   "source": [
    "## Creating Dataset Class"
   ]
  },
  {
   "cell_type": "code",
   "execution_count": 20,
   "id": "dc6c8ba2",
   "metadata": {
    "execution": {
     "iopub.execute_input": "2025-01-15T08:56:48.704704Z",
     "iopub.status.busy": "2025-01-15T08:56:48.704327Z",
     "iopub.status.idle": "2025-01-15T08:56:48.710320Z",
     "shell.execute_reply": "2025-01-15T08:56:48.709598Z"
    },
    "jupyter": {
     "source_hidden": true
    },
    "papermill": {
     "duration": 0.031681,
     "end_time": "2025-01-15T08:56:48.711968",
     "exception": false,
     "start_time": "2025-01-15T08:56:48.680287",
     "status": "completed"
    },
    "tags": []
   },
   "outputs": [],
   "source": [
    "# class ISICDataset_for_Train(Dataset):\n",
    "#     def __init__(self, df, transforms=None, preprocessor=None):\n",
    "#         self.df_positive = df[df[\"label\"] == 1].reset_index()\n",
    "#         self.df_negative = df[df[\"label\"] == 0].reset_index()\n",
    "#         self.file_names_positive = self.df_positive['image_path'].values\n",
    "#         self.file_names_negative = self.df_negative['image_path'].values\n",
    "#         self.labels_positive = self.df_positive['label'].values\n",
    "#         self.labels_negative = self.df_negative['label'].values\n",
    "#         self.transforms = transforms\n",
    "#         self.preprocessor = preprocessor  # Pass the Preprocessing object\n",
    "\n",
    "#     def __len__(self):\n",
    "#         return len(self.df_positive) * 2\n",
    "\n",
    "#     def __getitem__(self, index):\n",
    "#         # Select positive or negative samples with equal probability\n",
    "#         if random.random() >= 0.5:\n",
    "#             df = self.df_positive\n",
    "#             file_names = self.file_names_positive\n",
    "#             labels = self.labels_positive\n",
    "#         else:\n",
    "#             df = self.df_negative\n",
    "#             file_names = self.file_names_negative\n",
    "#             labels = self.labels_negative\n",
    "#         index = index % df.shape[0]\n",
    "\n",
    "#         img_path = file_names[index]\n",
    "#         img = cv2.imread(img_path)\n",
    "#         img = cv2.cvtColor(img, cv2.COLOR_BGR2RGB)\n",
    "#         label = int(labels[index])\n",
    "\n",
    "#         # Apply the preprocessing pipeline\n",
    "#         if self.preprocessor:\n",
    "#             img = self.preprocessor.preprocess_image(img, image_file=img_path, plot_results=False)\n",
    "\n",
    "#         # Apply additional transformations (if provided)\n",
    "#         if self.transforms:\n",
    "#             img = self.transforms(image=img)[\"image\"]\n",
    "\n",
    "#         # Convert image and label to PyTorch tensors\n",
    "#         img_tensor = torch.tensor(img, dtype=torch.float32) if isinstance(img, np.ndarray) else img\n",
    "#         label_tensor = torch.tensor(label, dtype=torch.float32)\n",
    "\n",
    "#         return {\n",
    "#             'image': img,\n",
    "#             'label': torch.tensor(label, dtype=torch.floar\n",
    "#         }\n",
    "\n",
    "\n",
    "\n",
    "# class ISICDataset(Dataset):\n",
    "#     def __init__(self, df, transforms=None, preprocessor=None):\n",
    "#         self.df = df\n",
    "#         self.file_names = df['image_path'].values\n",
    "#         self.labels = df['label'].values\n",
    "#         self.transforms = transforms\n",
    "#         self.preprocessor = preprocessor  # Pass the Preprocessing object\n",
    "\n",
    "#     def __len__(self):\n",
    "#         return len(self.df)\n",
    "\n",
    "#     def __getitem__(self, index):\n",
    "#         img_path = self.file_names[index]\n",
    "#         img = cv2.imread(img_path)\n",
    "#         img = cv2.cvtColor(img, cv2.COLOR_BGR2RGB)\n",
    "#         label = self.labels[index]\n",
    "\n",
    "#         # Apply the preprocessing pipeline\n",
    "#         if self.preprocessor:\n",
    "#             img = self.preprocessor.preprocess_image(img, image_file=img_path, plot_results=False)\n",
    "\n",
    "#         # Apply additional transformations (if provided)\n",
    "#         if self.transforms:\n",
    "#             img = self.transforms(image=img)[\"image\"]   \n",
    "\n",
    "#         return {\n",
    "#             'image': torch.tensor(img, dtype=torch.float32),  # Ensure image is a tensor\n",
    "#             'label': torch.tensor(label, dtype=torch.float32)  # Ensure label is a tensor\n",
    "#         }\n"
   ]
  },
  {
   "cell_type": "code",
   "execution_count": 21,
   "id": "874fe25e",
   "metadata": {
    "execution": {
     "iopub.execute_input": "2025-01-15T08:56:48.756337Z",
     "iopub.status.busy": "2025-01-15T08:56:48.756055Z",
     "iopub.status.idle": "2025-01-15T08:56:48.763106Z",
     "shell.execute_reply": "2025-01-15T08:56:48.762405Z"
    },
    "jupyter": {
     "source_hidden": true
    },
    "papermill": {
     "duration": 0.031399,
     "end_time": "2025-01-15T08:56:48.764699",
     "exception": false,
     "start_time": "2025-01-15T08:56:48.733300",
     "status": "completed"
    },
    "tags": []
   },
   "outputs": [],
   "source": [
    "# class ISICDataset_for_Train(Dataset):\n",
    "#     def __init__(self, df, transforms=None, preprocessor=None):\n",
    "#         self.df_positive = df[df[\"label\"] == 1].reset_index(drop=True)\n",
    "#         self.df_negative = df[df[\"label\"] == 0].reset_index(drop=True)\n",
    "#         self.file_names_positive = self.df_positive['image_path'].values\n",
    "#         self.file_names_negative = self.df_negative['image_path'].values\n",
    "#         self.labels_positive = self.df_positive['label'].values\n",
    "#         self.labels_negative = self.df_negative['label'].values\n",
    "#         self.transforms = transforms\n",
    "#         self.preprocessor = preprocessor  # Pass the Preprocessing object\n",
    "\n",
    "#     def __len__(self):\n",
    "#         return len(self.df_positive) * 2\n",
    "\n",
    "#     def __getitem__(self, index):\n",
    "#         # Select positive or negative samples with equal probability\n",
    "#         if random.random() >= 0.5:\n",
    "#             file_names = self.file_names_positive\n",
    "#             labels = self.labels_positive\n",
    "#         else:\n",
    "#             file_names = self.file_names_negative\n",
    "#             labels = self.labels_negative\n",
    "        \n",
    "#         index = index % len(file_names)\n",
    "\n",
    "#         # Load the image\n",
    "#         img_path = file_names[index]\n",
    "#         try:\n",
    "#             img = cv2.imread(img_path)\n",
    "#             if img is None:\n",
    "#                 raise ValueError(f\"Image not found or invalid at path: {img_path}\")\n",
    "#             img = cv2.cvtColor(img, cv2.COLOR_BGR2RGB)\n",
    "#         except Exception as e:\n",
    "#             raise RuntimeError(f\"Error loading image {img_path}: {e}\")\n",
    "        \n",
    "#         label = int(labels[index])\n",
    "\n",
    "#         # Apply the preprocessing pipeline\n",
    "#         if self.preprocessor:\n",
    "#             img = self.preprocessor.preprocess_image(img, image_file=img_path, plot_results=False)\n",
    "\n",
    "#         # Apply additional transformations (if provided)\n",
    "#         if self.transforms:\n",
    "#             img = self.transforms(image=img)[\"image\"]  # Albumentations expects 'image'\n",
    "\n",
    "#         # Ensure the image has the correct shape for PyTorch (C, H, W)\n",
    "#         if isinstance(img, np.ndarray):\n",
    "#             img = np.transpose(img, (2, 0, 1))  # HWC to CHW\n",
    "#         img_tensor = torch.tensor(img, dtype=torch.float32)\n",
    "#         #label_tensor = torch.tensor(label, dtype=torch.float32).unsqueeze(0)\n",
    "#         label_tensor = torch.tensor(label, dtype=torch.float32).view(1)  # Ensure shape [1]\n",
    "#         # Add .unsqueeze(0)\n",
    "#         #print(f\"Image Tensor Shape: {img_tensor.shape}\")\n",
    "#         #print(f\"Label Tensor Shape: {label_tensor.shape}\")\n",
    "\n",
    "\n",
    "#         return {\n",
    "#             'image': img_tensor,\n",
    "#             'label': label_tensor\n",
    "#         }\n",
    "\n",
    "\n",
    "# class ISICDataset(Dataset):\n",
    "#     def __init__(self, df, transforms=None, preprocessor=None):\n",
    "#         self.df = df\n",
    "#         self.file_names = df['image_path'].values\n",
    "#         self.labels = df['label'].values\n",
    "#         self.transforms = transforms\n",
    "#         self.preprocessor = preprocessor  # Pass the Preprocessing object\n",
    "\n",
    "#     def __len__(self):\n",
    "#         return len(self.df)\n",
    "\n",
    "#     def __getitem__(self, index):\n",
    "#         # Load the image\n",
    "#         img_path = self.file_names[index]\n",
    "#         try:\n",
    "#             img = cv2.imread(img_path)\n",
    "#             if img is None:\n",
    "#                 raise ValueError(f\"Image not found or invalid at path: {img_path}\")\n",
    "#             img = cv2.cvtColor(img, cv2.COLOR_BGR2RGB)\n",
    "#         except Exception as e:\n",
    "#             raise RuntimeError(f\"Error loading image {img_path}: {e}\")\n",
    "        \n",
    "#         label = int(self.labels[index])\n",
    "\n",
    "#         # Apply the preprocessing pipeline\n",
    "#         if self.preprocessor:\n",
    "#             img = self.preprocessor.preprocess_image(img, image_file=img_path, plot_results=False)\n",
    "\n",
    "#         # Apply additional transformations (if provided)\n",
    "#         if self.transforms:\n",
    "#             img = self.transforms(image=img)[\"image\"]  # Albumentations expects 'image'\n",
    "\n",
    "#         # Ensure the image has the correct shape for PyTorch (C, H, W)\n",
    "#         if isinstance(img, np.ndarray):\n",
    "#             img = np.transpose(img, (2, 0, 1))  # HWC to CHW\n",
    "#         img_tensor = torch.tensor(img, dtype=torch.float32)\n",
    "#         #label_tensor = torch.tensor(label, dtype=torch.float32).unsqueeze(0)  # Add .unsqueeze(0)\n",
    "#         label_tensor = torch.tensor(label, dtype=torch.float32).view(1)  # Ensure shape [1]\n",
    "#         #print(f\"Image Tensor Shape: {img_tensor.shape}\")\n",
    "#         #print(f\"Label Tensor Shape: {label_tensor.shape}\")\n",
    "\n",
    "\n",
    "\n",
    "#         return {\n",
    "#             'image': img_tensor,\n",
    "#             'label': label_tensor\n",
    "#         }\n"
   ]
  },
  {
   "cell_type": "code",
   "execution_count": 22,
   "id": "c6e729f0",
   "metadata": {
    "execution": {
     "iopub.execute_input": "2025-01-15T08:56:48.808931Z",
     "iopub.status.busy": "2025-01-15T08:56:48.808688Z",
     "iopub.status.idle": "2025-01-15T08:56:48.812965Z",
     "shell.execute_reply": "2025-01-15T08:56:48.812308Z"
    },
    "jupyter": {
     "source_hidden": true
    },
    "papermill": {
     "duration": 0.028588,
     "end_time": "2025-01-15T08:56:48.814516",
     "exception": false,
     "start_time": "2025-01-15T08:56:48.785928",
     "status": "completed"
    },
    "tags": []
   },
   "outputs": [],
   "source": [
    "# class ISICDataset_for_Train(Dataset):\n",
    "#     def __init__(self, df, transforms=None, preprocessor=None):\n",
    "#         self.df_positive = df[df[\"label\"] == 1].reset_index(drop=True)\n",
    "#         self.df_negative = df[df[\"label\"] == 0].reset_index(drop=True)\n",
    "#         self.file_names_positive = self.df_positive['image_path'].values\n",
    "#         self.file_names_negative = self.df_negative['image_path'].values\n",
    "#         self.labels_positive = self.df_positive['label'].values\n",
    "#         self.labels_negative = self.df_negative['label'].values\n",
    "#         self.transforms = transforms\n",
    "#         self.preprocessor = preprocessor\n",
    "\n",
    "#     def __len__(self):\n",
    "#         return len(self.df_positive) * 2\n",
    "\n",
    "#     def __getitem__(self, index):\n",
    "#         if random.random() >= 0.5:\n",
    "#             file_names = self.file_names_positive\n",
    "#             labels = self.labels_positive\n",
    "#         else:\n",
    "#             file_names = self.file_names_negative\n",
    "#             labels = self.labels_negative\n",
    "\n",
    "#         index = index % len(file_names)\n",
    "#         img_path = file_names[index]\n",
    "#         try:\n",
    "#             img = cv2.imread(img_path)\n",
    "#             if img is None:\n",
    "#                 raise ValueError(f\"Image not found or invalid at path: {img_path}\")\n",
    "#             img = cv2.cvtColor(img, cv2.COLOR_BGR2RGB)\n",
    "#         except Exception as e:\n",
    "#             raise RuntimeError(f\"Error loading image {img_path}: {e}\")\n",
    "        \n",
    "#         label = int(labels[index])\n",
    "\n",
    "#         # Apply preprocessing\n",
    "#         if self.preprocessor:\n",
    "#             img = self.preprocessor.preprocess_image(img, image_file=img_path, plot_results=False)\n",
    "\n",
    "#         # Apply transformations\n",
    "#         if self.transforms:\n",
    "#             img = self.transforms(image=img)[\"image\"]\n",
    "\n",
    "#         # Convert to tensors\n",
    "#         if isinstance(img, np.ndarray):\n",
    "#             img = np.transpose(img, (2, 0, 1))  # HWC to CHW\n",
    "#         img_tensor = torch.tensor(img, dtype=torch.float32)\n",
    "#         label_tensor = torch.tensor(label, dtype=torch.float32)  # [1]\n",
    "\n",
    "#         return {\n",
    "#             'image': img_tensor,\n",
    "#             'label': label_tensor\n",
    "#         }\n"
   ]
  },
  {
   "cell_type": "code",
   "execution_count": 23,
   "id": "049d955d",
   "metadata": {
    "execution": {
     "iopub.execute_input": "2025-01-15T08:56:48.857906Z",
     "iopub.status.busy": "2025-01-15T08:56:48.857658Z",
     "iopub.status.idle": "2025-01-15T08:56:48.864900Z",
     "shell.execute_reply": "2025-01-15T08:56:48.864104Z"
    },
    "papermill": {
     "duration": 0.030711,
     "end_time": "2025-01-15T08:56:48.866484",
     "exception": false,
     "start_time": "2025-01-15T08:56:48.835773",
     "status": "completed"
    },
    "tags": []
   },
   "outputs": [],
   "source": [
    "class ISICDataset(Dataset):\n",
    "    def __init__(self, df, transforms=None, preprocessor=None):\n",
    "        self.df = df\n",
    "        self.file_names = df['image_path'].values\n",
    "        self.labels = df['label'].values\n",
    "        self.transforms = transforms\n",
    "        self.preprocessor = preprocessor\n",
    "\n",
    "    def __len__(self):\n",
    "        return len(self.df)\n",
    "\n",
    "    def __getitem__(self, index):\n",
    "        img_path = self.file_names[index]\n",
    "        try:\n",
    "            img = cv2.imread(img_path)\n",
    "            if img is None:\n",
    "                raise ValueError(f\"Image not found or invalid at path: {img_path}\")\n",
    "            img = cv2.cvtColor(img, cv2.COLOR_BGR2RGB)\n",
    "        except Exception as e:\n",
    "            raise RuntimeError(f\"Error loading image {img_path}: {e}\")\n",
    "        \n",
    "        label = int(self.labels[index])\n",
    "\n",
    "        # Apply preprocessing\n",
    "        if self.preprocessor:\n",
    "            img = self.preprocessor.preprocess_image(img, image_file=img_path, plot_results=False)\n",
    "\n",
    "        # Apply transformations\n",
    "        if self.transforms:\n",
    "            img = self.transforms(image=img)[\"image\"]\n",
    "\n",
    "        # Convert to tensors\n",
    "        if isinstance(img, np.ndarray):\n",
    "            img = np.transpose(img, (2, 0, 1))  # HWC to CHW\n",
    "        img_tensor = torch.tensor(img, dtype=torch.float32)\n",
    "        label_tensor = torch.tensor(label, dtype=torch.float32)  # [1]\n",
    "\n",
    "\n",
    "        return {\n",
    "            'image': img_tensor,\n",
    "            'label': label_tensor\n",
    "        }\n"
   ]
  },
  {
   "cell_type": "markdown",
   "id": "f01498d5",
   "metadata": {
    "papermill": {
     "duration": 0.021682,
     "end_time": "2025-01-15T08:56:48.909586",
     "exception": false,
     "start_time": "2025-01-15T08:56:48.887904",
     "status": "completed"
    },
    "tags": []
   },
   "source": [
    "## Creating the Pooling Layers"
   ]
  },
  {
   "cell_type": "code",
   "execution_count": 24,
   "id": "972883da",
   "metadata": {
    "execution": {
     "iopub.execute_input": "2025-01-15T08:56:48.954023Z",
     "iopub.status.busy": "2025-01-15T08:56:48.953787Z",
     "iopub.status.idle": "2025-01-15T08:56:48.957410Z",
     "shell.execute_reply": "2025-01-15T08:56:48.956749Z"
    },
    "jupyter": {
     "source_hidden": true
    },
    "papermill": {
     "duration": 0.027662,
     "end_time": "2025-01-15T08:56:48.958803",
     "exception": false,
     "start_time": "2025-01-15T08:56:48.931141",
     "status": "completed"
    },
    "tags": []
   },
   "outputs": [],
   "source": [
    "# class GeM(nn.Module):\n",
    "#     def __init__(self, p=3, eps=1e-6):\n",
    "#         super(GeM, self).__init__()\n",
    "#         self.p = nn.Parameter(torch.ones(1)*p)\n",
    "#         self.eps = eps\n",
    "\n",
    "#     def forward(self, x):\n",
    "#         return self.gem(x, p=self.p, eps=self.eps)\n",
    "        \n",
    "#     def gem(self, x, p=3, eps=1e-6):\n",
    "#         return F.avg_pool2d(x.clamp(min=eps).pow(p), (x.size(-2), x.size(-1))).pow(1./p)\n",
    "        \n",
    "#     def __repr__(self):\n",
    "#         return self.__class__.__name__ + \\\n",
    "#                 '(' + 'p=' + '{:.4f}'.format(self.p.data.tolist()[0]) + \\\n",
    "#                 ', ' + 'eps=' + str(self.eps) + ')'"
   ]
  },
  {
   "cell_type": "code",
   "execution_count": 25,
   "id": "cf716a7e",
   "metadata": {
    "execution": {
     "iopub.execute_input": "2025-01-15T08:56:49.002471Z",
     "iopub.status.busy": "2025-01-15T08:56:49.002218Z",
     "iopub.status.idle": "2025-01-15T08:56:49.007115Z",
     "shell.execute_reply": "2025-01-15T08:56:49.006413Z"
    },
    "papermill": {
     "duration": 0.028558,
     "end_time": "2025-01-15T08:56:49.008692",
     "exception": false,
     "start_time": "2025-01-15T08:56:48.980134",
     "status": "completed"
    },
    "tags": []
   },
   "outputs": [],
   "source": [
    "class AveragePooling(nn.Module):\n",
    "    def __init__(self, eps=1e-6):\n",
    "        \"\"\"\n",
    "        A simple average pooling layer replacing GeM.\n",
    "        \n",
    "        Args:\n",
    "            eps (float): Small constant to avoid numerical instability. Default is 1e-6.\n",
    "        \"\"\"\n",
    "        super(AveragePooling, self).__init__()\n",
    "        self.eps = eps\n",
    "\n",
    "    def forward(self, x):\n",
    "        \"\"\"\n",
    "        Forward pass of average pooling.\n",
    "\n",
    "        Args:\n",
    "            x (Tensor): Input tensor.\n",
    "\n",
    "        Returns:\n",
    "            Tensor: Output tensor after global average pooling.\n",
    "        \"\"\"\n",
    "        # Global average pooling over the spatial dimensions\n",
    "        return F.avg_pool2d(x.clamp(min=self.eps), (x.size(-2), x.size(-1)))\n",
    "\n",
    "    def __repr__(self):\n",
    "        return f\"{self.__class__.__name__}(eps={self.eps})\"\n"
   ]
  },
  {
   "cell_type": "markdown",
   "id": "16c81f17",
   "metadata": {
    "papermill": {
     "duration": 0.020804,
     "end_time": "2025-01-15T08:56:49.051937",
     "exception": false,
     "start_time": "2025-01-15T08:56:49.031133",
     "status": "completed"
    },
    "tags": []
   },
   "source": [
    "## Model"
   ]
  },
  {
   "cell_type": "code",
   "execution_count": 26,
   "id": "4e4ece02",
   "metadata": {
    "execution": {
     "iopub.execute_input": "2025-01-15T08:56:49.095313Z",
     "iopub.status.busy": "2025-01-15T08:56:49.095006Z",
     "iopub.status.idle": "2025-01-15T08:56:49.098898Z",
     "shell.execute_reply": "2025-01-15T08:56:49.098154Z"
    },
    "jupyter": {
     "source_hidden": true
    },
    "papermill": {
     "duration": 0.027615,
     "end_time": "2025-01-15T08:56:49.100488",
     "exception": false,
     "start_time": "2025-01-15T08:56:49.072873",
     "status": "completed"
    },
    "tags": []
   },
   "outputs": [],
   "source": [
    "# class ISICModel(nn.Module):\n",
    "#     def __init__(self, model_name, num_classes=1, pretrained=True, checkpoint_path=None):\n",
    "#         super(ISICModel, self).__init__()\n",
    "#         self.model = timm.create_model(model_name, pretrained=pretrained, checkpoint_path=checkpoint_path)\n",
    "\n",
    "#         in_features = self.model.classifier.in_features\n",
    "#         self.model.classifier = nn.Identity()\n",
    "#         self.model.global_pool = nn.Identity()\n",
    "#         self.pooling = GeM()\n",
    "#         self.linear = nn.Linear(in_features, num_classes)\n",
    "#         self.sigmoid = nn.Sigmoid()\n",
    "\n",
    "#     def forward(self, images):\n",
    "#         features = self.model(images)\n",
    "#         pooled_features = self.pooling(features).flatten(1)\n",
    "#         output = self.sigmoid(self.linear(pooled_features))\n",
    "#         return output\n",
    "\n",
    "    \n",
    "# model = ISICModel(CONFIG['model_name'])\n",
    "# model.to(CONFIG['device']);"
   ]
  },
  {
   "cell_type": "code",
   "execution_count": 27,
   "id": "ea8e2131",
   "metadata": {
    "execution": {
     "iopub.execute_input": "2025-01-15T08:56:49.143538Z",
     "iopub.status.busy": "2025-01-15T08:56:49.143265Z",
     "iopub.status.idle": "2025-01-15T08:56:49.147350Z",
     "shell.execute_reply": "2025-01-15T08:56:49.146568Z"
    },
    "jupyter": {
     "source_hidden": true
    },
    "papermill": {
     "duration": 0.027399,
     "end_time": "2025-01-15T08:56:49.148945",
     "exception": false,
     "start_time": "2025-01-15T08:56:49.121546",
     "status": "completed"
    },
    "tags": []
   },
   "outputs": [],
   "source": [
    "# class ISICModel(nn.Module):\n",
    "#     def __init__(self, model_name, num_classes=1, pretrained=True, checkpoint_path=None):\n",
    "#         super(ISICModel, self).__init__()\n",
    "#         # Create the base model using timm\n",
    "#         self.model = timm.create_model(model_name, pretrained=pretrained, checkpoint_path=checkpoint_path)\n",
    "        \n",
    "#         # Get the number of features in the backbone's classifier\n",
    "#         in_features = self.model.classifier.in_features\n",
    "        \n",
    "#         # Replace the classifier with an identity layer to use custom pooling and classification\n",
    "#         self.model.classifier = nn.Identity()\n",
    "#         self.model.global_pool = nn.Identity()\n",
    "        \n",
    "#         # Add custom layers\n",
    "#         self.pooling = GeM()  # Generalized Mean Pooling\n",
    "#         self.dropout = nn.Dropout(0.3)  # Dropout for regularization\n",
    "#         self.linear = nn.Linear(in_features, 1)  # Single output for binary classification\n",
    "    \n",
    "\n",
    "#     def forward(self, images):\n",
    "#         # Extract features from the backbone\n",
    "#         features = self.model(images)\n",
    "        \n",
    "#         # Apply pooling and flatten the features\n",
    "#         pooled_features = self.pooling(features).flatten(1)\n",
    "        \n",
    "#         # Apply dropout for regularization\n",
    "#         dropped_features = self.dropout(pooled_features)\n",
    "        \n",
    "#         # Apply linear layer and sigmoid activation for binary classification\n",
    "#         output = self.linear(dropped_features)\n",
    "#         return output\n"
   ]
  },
  {
   "cell_type": "markdown",
   "id": "0f4bb201",
   "metadata": {
    "papermill": {
     "duration": 0.021216,
     "end_time": "2025-01-15T08:56:49.191132",
     "exception": false,
     "start_time": "2025-01-15T08:56:49.169916",
     "status": "completed"
    },
    "tags": []
   },
   "source": [
    "## Model_Efficientnet"
   ]
  },
  {
   "cell_type": "code",
   "execution_count": 28,
   "id": "62201af5",
   "metadata": {
    "execution": {
     "iopub.execute_input": "2025-01-15T08:56:49.234337Z",
     "iopub.status.busy": "2025-01-15T08:56:49.234079Z",
     "iopub.status.idle": "2025-01-15T08:56:49.240923Z",
     "shell.execute_reply": "2025-01-15T08:56:49.240109Z"
    },
    "papermill": {
     "duration": 0.030547,
     "end_time": "2025-01-15T08:56:49.242590",
     "exception": false,
     "start_time": "2025-01-15T08:56:49.212043",
     "status": "completed"
    },
    "tags": []
   },
   "outputs": [],
   "source": [
    "class ISICModel(nn.Module):\n",
    "    def __init__(self, model_name, num_classes=1, pretrained=True, checkpoint_path=None):\n",
    "        \"\"\"\n",
    "        A binary classification model for skin lesion images.\n",
    "        \n",
    "        Args:\n",
    "            model_name (str): Name of the model backbone from timm.\n",
    "            num_classes (int): Number of output classes. Default is 1 for binary classification.\n",
    "            pretrained (bool): Whether to use pretrained weights. Default is True.\n",
    "            checkpoint_path (str): Path to a specific checkpoint. Default is None.\n",
    "        \"\"\"\n",
    "        super(ISICModel, self).__init__()\n",
    "        # Create the base model using timm\n",
    "        self.model = timm.create_model(model_name, pretrained=pretrained, checkpoint_path=checkpoint_path)\n",
    "        \n",
    "        # Get the number of features in the backbone's classifier\n",
    "        in_features = self.model.classifier.in_features\n",
    "        \n",
    "        # Replace the classifier with an identity layer to use custom pooling and classification\n",
    "        self.model.classifier = nn.Identity()\n",
    "        self.model.global_pool = nn.Identity()\n",
    "        \n",
    "        # Add custom layers\n",
    "        self.pooling = nn.AdaptiveAvgPool2d((1, 1))  # Global Average Pooling\n",
    "        self.dropout = nn.Dropout(0.3)  # Dropout for regularization\n",
    "        self.batch_norm = nn.BatchNorm1d(in_features)\n",
    "        self.linear = nn.Linear(in_features, num_classes)  # Single output for binary classification\n",
    "    \n",
    "\n",
    "    def forward(self, images):\n",
    "        # Extract features from the backbone\n",
    "        features = self.model(images)\n",
    "        \n",
    "        # Apply pooling and flatten the features\n",
    "        pooled_features = self.pooling(features).flatten(1)\n",
    "\n",
    "        # Apply batch normalization\n",
    "        normalized_features = self.batch_norm(pooled_features)\n",
    "        \n",
    "        # Apply dropout for regularization\n",
    "        dropped_features = self.dropout(normalized_features)\n",
    "        \n",
    "        # Apply linear layer and sigmoid activation for binary classification\n",
    "        output = self.linear(dropped_features)\n",
    "        return output\n"
   ]
  },
  {
   "cell_type": "markdown",
   "id": "125348dc",
   "metadata": {
    "papermill": {
     "duration": 0.021446,
     "end_time": "2025-01-15T08:56:49.285212",
     "exception": false,
     "start_time": "2025-01-15T08:56:49.263766",
     "status": "completed"
    },
    "tags": []
   },
   "source": [
    "## Swin Transformer"
   ]
  },
  {
   "cell_type": "code",
   "execution_count": 29,
   "id": "a23695dd",
   "metadata": {
    "execution": {
     "iopub.execute_input": "2025-01-15T08:56:49.329528Z",
     "iopub.status.busy": "2025-01-15T08:56:49.329180Z",
     "iopub.status.idle": "2025-01-15T08:56:49.333920Z",
     "shell.execute_reply": "2025-01-15T08:56:49.333090Z"
    },
    "jupyter": {
     "source_hidden": true
    },
    "papermill": {
     "duration": 0.028808,
     "end_time": "2025-01-15T08:56:49.335544",
     "exception": false,
     "start_time": "2025-01-15T08:56:49.306736",
     "status": "completed"
    },
    "tags": []
   },
   "outputs": [],
   "source": [
    "# class ISICModel(nn.Module):\n",
    "#     def __init__(self, model_name, num_classes=1, pretrained=True, checkpoint_path=None):\n",
    "#         \"\"\"\n",
    "#         A binary classification model for skin lesion images using Swin Transformer.\n",
    "        \n",
    "#         Args:\n",
    "#             model_name (str): Name of the model backbone from timm.\n",
    "#             num_classes (int): Number of output classes. Default is 1 for binary classification.\n",
    "#             pretrained (bool): Whether to use pretrained weights. Default is True.\n",
    "#             checkpoint_path (str): Path to a specific checkpoint. Default is None.\n",
    "#         \"\"\"\n",
    "#         super(ISICModel, self).__init__()\n",
    "#         # Create the base model using timm\n",
    "#         self.model = timm.create_model(model_name, pretrained=pretrained, checkpoint_path=checkpoint_path)\n",
    "        \n",
    "#         # Get the number of features in the backbone's output\n",
    "#         in_features = self.model.num_features  # Swin's feature size (e.g., 768)\n",
    "        \n",
    "#         # Replace the classifier with an identity layer\n",
    "#         self.model.head = nn.Identity()\n",
    "        \n",
    "#         # Add custom layers\n",
    "#         self.pooling = nn.AdaptiveAvgPool2d((1, 1))  # Global average pooling\n",
    "#         self.dropout = nn.Dropout(0.5)  # Dropout for regularization\n",
    "#         self.batch_norm = nn.BatchNorm1d(in_features)\n",
    "#         self.linear = nn.Linear(in_features, num_classes)  # Output layer\n",
    "    \n",
    "\n",
    "#     def forward(self, images):\n",
    "#         # Print the input shape\n",
    "#         # print(f\"Input Shape: {images.shape}\")  # Input to the model\n",
    "    \n",
    "#         # Extract features from the backbone\n",
    "#         features = self.model(images)  # Shape: [batch_size, 7, 7, 768]\n",
    "#         # print(f\"Backbone Output Shape: {features.shape}\")  # After passing through the backbone\n",
    "        \n",
    "#         # Correctly permute dimensions for pooling\n",
    "#         features = features.permute(0, 3, 1, 2)  # Change to [batch_size, num_channels, height, width]\n",
    "        \n",
    "#         # Apply pooling to reduce height and width\n",
    "#         pooled_features = self.pooling(features).squeeze(-1).squeeze(-1)  # Shape: [batch_size, num_channels]\n",
    "#         # print(f\"Pooled Features Shape: {pooled_features.shape}\")  # After pooling\n",
    "\n",
    "         \n",
    "#         # Apply batch normalization\n",
    "#         normalized_features = self.batch_norm(pooled_features)\n",
    "        \n",
    "#         # Apply dropout for regularization\n",
    "#         dropped_features = self.dropout(normalized_features)\n",
    "#         # print(f\"Dropped Features Shape: {dropped_features.shape}\")  # After dropout\n",
    "        \n",
    "#         # Apply linear layer for binary classification\n",
    "#         output = self.linear(dropped_features)  # Shape: [batch_size, num_classes]\n",
    "#         # print(f\"Output Shape: {output.shape}\")  # Final output\n",
    "        \n",
    "#         return output\n",
    "\n"
   ]
  },
  {
   "cell_type": "markdown",
   "id": "e8e4990e",
   "metadata": {
    "papermill": {
     "duration": 0.020903,
     "end_time": "2025-01-15T08:56:49.377469",
     "exception": false,
     "start_time": "2025-01-15T08:56:49.356566",
     "status": "completed"
    },
    "tags": []
   },
   "source": [
    "## Loss Function"
   ]
  },
  {
   "cell_type": "code",
   "execution_count": 30,
   "id": "5fc974e3",
   "metadata": {
    "execution": {
     "iopub.execute_input": "2025-01-15T08:56:49.420832Z",
     "iopub.status.busy": "2025-01-15T08:56:49.420551Z",
     "iopub.status.idle": "2025-01-15T08:56:49.424382Z",
     "shell.execute_reply": "2025-01-15T08:56:49.423593Z"
    },
    "papermill": {
     "duration": 0.027644,
     "end_time": "2025-01-15T08:56:49.426123",
     "exception": false,
     "start_time": "2025-01-15T08:56:49.398479",
     "status": "completed"
    },
    "tags": []
   },
   "outputs": [],
   "source": [
    "criterion = nn.BCEWithLogitsLoss()"
   ]
  },
  {
   "cell_type": "markdown",
   "id": "436924c0",
   "metadata": {
    "papermill": {
     "duration": 0.02078,
     "end_time": "2025-01-15T08:56:49.468063",
     "exception": false,
     "start_time": "2025-01-15T08:56:49.447283",
     "status": "completed"
    },
    "tags": []
   },
   "source": [
    "## Train one epoch"
   ]
  },
  {
   "cell_type": "code",
   "execution_count": 31,
   "id": "3bbbec49",
   "metadata": {
    "execution": {
     "iopub.execute_input": "2025-01-15T08:56:49.511798Z",
     "iopub.status.busy": "2025-01-15T08:56:49.511518Z",
     "iopub.status.idle": "2025-01-15T08:56:49.516045Z",
     "shell.execute_reply": "2025-01-15T08:56:49.515305Z"
    },
    "jupyter": {
     "source_hidden": true
    },
    "papermill": {
     "duration": 0.028545,
     "end_time": "2025-01-15T08:56:49.517715",
     "exception": false,
     "start_time": "2025-01-15T08:56:49.489170",
     "status": "completed"
    },
    "tags": []
   },
   "outputs": [],
   "source": [
    "# def train_one_epoch(model, optimizer, scheduler, dataloader, device, epoch):\n",
    "#     model.train()\n",
    "    \n",
    "#     dataset_size = 0\n",
    "#     running_loss = 0.0\n",
    "#     running_auroc = 0.0\n",
    "    \n",
    "#     bar = tqdm(enumerate(dataloader), total=len(dataloader))\n",
    "#     for step, data in bar:\n",
    "#         images = data['image'].to(device, dtype=torch.float)\n",
    "#         targets = data['label'].to(device, dtype=torch.float).unsqueeze(1)  # Ensure [batch_size, 1]\n",
    "#         # Explicitly match targets shape with outputs\n",
    "#         # targets = targets.view(-1, 1)  # Ensure shape is [batch_size, 1]\n",
    "#         #targets = data['label'].to(device, dtype=torch.float).view(-1, 1) \n",
    "#         batch_size = images.size(0)\n",
    "        \n",
    "#         outputs = model(images)\n",
    "        \n",
    "#         # Debugging Shapes\n",
    "#         #print(f\"Step {step} - Outputs shape: {outputs.shape}\")\n",
    "#         #print(f\"Step {step} - Targets shape: {targets.shape}\")\n",
    "\n",
    "#         # Check for shape mismatch\n",
    "#         #if outputs.shape != targets.shape:\n",
    "#             #raise ValueError(f\"Shape mismatch: Outputs shape {outputs.shape}, Targets shape {targets.shape}\")\n",
    "\n",
    "        \n",
    "#         loss = criterion(outputs, targets)\n",
    "#         loss = loss / CONFIG['n_accumulate']\n",
    "            \n",
    "#         loss.backward()\n",
    "    \n",
    "#         if (step + 1) % CONFIG['n_accumulate'] == 0:\n",
    "#             optimizer.step()\n",
    "#             optimizer.zero_grad()\n",
    "\n",
    "#             if scheduler is not None:\n",
    "#                 scheduler.step()\n",
    "                \n",
    "#         auroc = binary_auroc(input=outputs.squeeze(-1), target=targets.squeeze(-1)).item()\n",
    "        \n",
    "#         running_loss += (loss.item() * batch_size)\n",
    "#         running_auroc += (auroc * batch_size)\n",
    "#         dataset_size += batch_size\n",
    "        \n",
    "#         epoch_loss = running_loss / dataset_size\n",
    "#         epoch_auroc = running_auroc / dataset_size\n",
    "        \n",
    "#         bar.set_postfix(Epoch=epoch, Train_Loss=epoch_loss, Train_Auroc=epoch_auroc,\n",
    "#                         LR=optimizer.param_groups[0]['lr'])\n",
    "#     gc.collect()\n",
    "    \n",
    "#     return epoch_loss, epoch_auroc\n"
   ]
  },
  {
   "cell_type": "markdown",
   "id": "ad726845",
   "metadata": {
    "papermill": {
     "duration": 0.033807,
     "end_time": "2025-01-15T08:56:49.572874",
     "exception": false,
     "start_time": "2025-01-15T08:56:49.539067",
     "status": "completed"
    },
    "tags": []
   },
   "source": []
  },
  {
   "cell_type": "code",
   "execution_count": 32,
   "id": "95e1605c",
   "metadata": {
    "execution": {
     "iopub.execute_input": "2025-01-15T08:56:49.655357Z",
     "iopub.status.busy": "2025-01-15T08:56:49.654686Z",
     "iopub.status.idle": "2025-01-15T08:56:49.659185Z",
     "shell.execute_reply": "2025-01-15T08:56:49.658327Z"
    },
    "jupyter": {
     "source_hidden": true
    },
    "papermill": {
     "duration": 0.029236,
     "end_time": "2025-01-15T08:56:49.660762",
     "exception": false,
     "start_time": "2025-01-15T08:56:49.631526",
     "status": "completed"
    },
    "tags": []
   },
   "outputs": [],
   "source": [
    "# from torchmetrics.classification import BinaryAUROC\n",
    "\n",
    "# def train_one_epoch(model, optimizer, scheduler, dataloader, device, epoch):\n",
    "#     model.train()\n",
    "#     dataset_size = 0\n",
    "#     running_loss = 0.0\n",
    "#     auroc_metric = BinaryAUROC().to(device)  # Initialize AUROC metric\n",
    "\n",
    "#     bar = tqdm(enumerate(dataloader), total=len(dataloader))\n",
    "#     for step, data in bar:\n",
    "#         images = data['image'].to(device, dtype=torch.float)\n",
    "#         targets = data['label'].to(device, dtype=torch.float).view(-1, 1)  # Reshape to [batch_size, 1]\n",
    "\n",
    "#         # Forward pass\n",
    "#         outputs = model(images)\n",
    "\n",
    "#         # Compute loss with built-in weighting\n",
    "#         loss = criterion(outputs, targets)\n",
    "\n",
    "#         # Backward pass\n",
    "#         loss.backward()\n",
    "#         optimizer.step()\n",
    "#         optimizer.zero_grad()\n",
    "\n",
    "#         if scheduler is not None:\n",
    "#             scheduler.step()\n",
    "\n",
    "#         # Update metrics\n",
    "#         running_loss += loss.item() * targets.size(0)\n",
    "#         auroc_metric.update(outputs.sigmoid(), targets)\n",
    "\n",
    "#         # Calculate metrics\n",
    "#         dataset_size += targets.size(0)\n",
    "#         epoch_loss = running_loss / dataset_size\n",
    "#         epoch_auroc = auroc_metric.compute().item()\n",
    "\n",
    "#         # Update progress bar\n",
    "#         bar.set_postfix(Epoch=epoch, Train_Loss=epoch_loss, Train_AUROC=epoch_auroc)\n",
    "\n",
    "#     # Reset AUROC for the next epoch\n",
    "#     auroc_metric.reset()\n",
    "#     gc.collect()\n",
    "#     return epoch_loss, epoch_auroc\n"
   ]
  },
  {
   "cell_type": "code",
   "execution_count": 33,
   "id": "f1c458e3",
   "metadata": {
    "execution": {
     "iopub.execute_input": "2025-01-15T08:56:49.704160Z",
     "iopub.status.busy": "2025-01-15T08:56:49.703929Z",
     "iopub.status.idle": "2025-01-15T08:56:49.708631Z",
     "shell.execute_reply": "2025-01-15T08:56:49.707856Z"
    },
    "jupyter": {
     "source_hidden": true
    },
    "papermill": {
     "duration": 0.028182,
     "end_time": "2025-01-15T08:56:49.710193",
     "exception": false,
     "start_time": "2025-01-15T08:56:49.682011",
     "status": "completed"
    },
    "tags": []
   },
   "outputs": [],
   "source": [
    "# def train_one_epoch(model, optimizer, scheduler, dataloader, device, epoch):\n",
    "#     model.train()\n",
    "    \n",
    "#     running_loss = 0.0\n",
    "#     dataset_size = 0\n",
    "    \n",
    "#     # Metrics\n",
    "#     accuracy = BinaryAccuracy().to(device)\n",
    "#     precision = BinaryPrecision().to(device)\n",
    "#     recall = BinaryRecall().to(device)\n",
    "#     auroc = BinaryAUROC().to(device)\n",
    "    \n",
    "#     bar = tqdm(enumerate(dataloader), total=len(dataloader))\n",
    "#     for step, data in bar:\n",
    "#         images = data['image'].to(device, dtype=torch.float)\n",
    "#         targets = data['label'].to(device, dtype=torch.float).unsqueeze(1)  # Shape [batch_size, 1]\n",
    "        \n",
    "#         # Debug shapes after data loading\n",
    "#         #print(f\"Step {step} - Images shape: {images.shape}, Targets shape: {targets.shape}\")\n",
    "        \n",
    "#         # Forward pass\n",
    "#         outputs = model(images)\n",
    "#         #print(f\"Step {step} - Outputs shape: {outputs.shape}\")\n",
    "        \n",
    "#         # Compute loss\n",
    "#         loss = criterion(outputs, targets)\n",
    "        \n",
    "#         # Backward pass\n",
    "#         loss.backward()\n",
    "#         optimizer.step()\n",
    "#         optimizer.zero_grad()\n",
    "        \n",
    "#         # Update running loss\n",
    "#         batch_size = images.size(0)\n",
    "#         running_loss += loss.item() * batch_size\n",
    "#         dataset_size += batch_size\n",
    "        \n",
    "#         # Update metrics\n",
    "#         accuracy.update(outputs, targets.int())\n",
    "#         precision.update(outputs, targets.int())\n",
    "#         recall.update(outputs, targets.int())\n",
    "#         auroc.update(outputs, targets.int())\n",
    "        \n",
    "#         # Epoch metrics\n",
    "#         epoch_loss = running_loss / dataset_size\n",
    "#         epoch_accuracy = accuracy.compute().item()\n",
    "#         epoch_precision = precision.compute().item()\n",
    "#         epoch_recall = recall.compute().item()\n",
    "#         epoch_auroc = auroc.compute().item()\n",
    "        \n",
    "#         # Debug current batch metrics\n",
    "#         print(f\"Step {step} - Batch Accuracy: {epoch_accuracy}, Precision: {epoch_precision}, Recall: {epoch_recall}, AUROC: {epoch_auroc}\")\n",
    "        \n",
    "#         # Update progress bar\n",
    "#         bar.set_postfix(Epoch=epoch, Train_Loss=epoch_loss, Accuracy=epoch_accuracy,\n",
    "#                         Precision=epoch_precision, Recall=epoch_recall, AUROC=epoch_auroc,\n",
    "#                         LR=optimizer.param_groups[0]['lr'])\n",
    "    \n",
    "#     # Reset metrics\n",
    "#     accuracy.reset()\n",
    "#     precision.reset()\n",
    "#     recall.reset()\n",
    "#     auroc.reset()\n",
    "    \n",
    "#     return epoch_loss, epoch_accuracy, epoch_precision, epoch_recall, epoch_auroc\n"
   ]
  },
  {
   "cell_type": "markdown",
   "id": "f32346bc",
   "metadata": {
    "papermill": {
     "duration": 0.020896,
     "end_time": "2025-01-15T08:56:49.752370",
     "exception": false,
     "start_time": "2025-01-15T08:56:49.731474",
     "status": "completed"
    },
    "tags": []
   },
   "source": [
    "## Train_one_Epoch for Swin"
   ]
  },
  {
   "cell_type": "code",
   "execution_count": 34,
   "id": "477adc08",
   "metadata": {
    "execution": {
     "iopub.execute_input": "2025-01-15T08:56:49.795915Z",
     "iopub.status.busy": "2025-01-15T08:56:49.795659Z",
     "iopub.status.idle": "2025-01-15T08:56:49.805458Z",
     "shell.execute_reply": "2025-01-15T08:56:49.804692Z"
    },
    "papermill": {
     "duration": 0.033614,
     "end_time": "2025-01-15T08:56:49.807061",
     "exception": false,
     "start_time": "2025-01-15T08:56:49.773447",
     "status": "completed"
    },
    "tags": []
   },
   "outputs": [],
   "source": [
    "scaler = GradScaler()\n",
    "\n",
    "def train_one_epoch(model, optimizer, scheduler, dataloader, device, epoch):\n",
    "    model.train()\n",
    "    \n",
    "    running_loss = 0.0\n",
    "    dataset_size = 0\n",
    "    \n",
    "    # Metrics\n",
    "    accuracy = BinaryAccuracy().to(device)\n",
    "    precision = BinaryPrecision().to(device)\n",
    "    recall = BinaryRecall().to(device)\n",
    "    auroc = BinaryAUROC().to(device)\n",
    "    \n",
    "    accumulation_steps = CONFIG.get(\"n_accumulate\", 1)\n",
    "    \n",
    "    bar = tqdm(enumerate(dataloader), total=len(dataloader))\n",
    "    for step, data in bar:\n",
    "        images = data['image'].to(device, dtype=torch.float)\n",
    "        targets = data['label'].to(device, dtype=torch.float).unsqueeze(1)  # Shape [batch_size, 1]\n",
    "        \n",
    "        # Mixed precision training\n",
    "        with autocast():\n",
    "            outputs = model(images)\n",
    "            loss = criterion(outputs, targets)\n",
    "        \n",
    "        # Backward pass with gradient accumulation\n",
    "        scaler.scale(loss).backward()\n",
    "        \n",
    "        if (step + 1) % accumulation_steps == 0 or (step + 1) == len(dataloader):\n",
    "            scaler.step(optimizer)\n",
    "            scaler.update()\n",
    "            optimizer.zero_grad()\n",
    "        \n",
    "        # Update running loss\n",
    "        batch_size = images.size(0)\n",
    "        running_loss += loss.item() * batch_size\n",
    "        dataset_size += batch_size\n",
    "        \n",
    "        # Update metrics\n",
    "        accuracy.update(outputs, targets.int())\n",
    "        precision.update(outputs, targets.int())\n",
    "        recall.update(outputs, targets.int())\n",
    "        auroc.update(outputs, targets.int())\n",
    "        \n",
    "        # Epoch metrics\n",
    "        epoch_loss = running_loss / dataset_size\n",
    "        epoch_accuracy = accuracy.compute().item()\n",
    "        epoch_precision = precision.compute().item()\n",
    "        epoch_recall = recall.compute().item()\n",
    "        epoch_auroc = auroc.compute().item()\n",
    "        \n",
    "        # Update progress bar\n",
    "        bar.set_postfix(Epoch=epoch, Train_Loss=epoch_loss, Accuracy=epoch_accuracy,\n",
    "                        Precision=epoch_precision, Recall=epoch_recall, AUROC=epoch_auroc,\n",
    "                        LR=optimizer.param_groups[0]['lr'])\n",
    "        \n",
    "        # (Optional) Update scheduler per batch\n",
    "        if CONFIG[\"scheduler\"] == \"CosineAnnealingWarmRestarts\":\n",
    "            scheduler.step(epoch + step / len(dataloader))\n",
    "    \n",
    "    # Reset metrics\n",
    "    accuracy.reset()\n",
    "    precision.reset()\n",
    "    recall.reset()\n",
    "    auroc.reset()\n",
    "    \n",
    "    # Update scheduler per epoch (if not batch-level)\n",
    "    if CONFIG[\"scheduler\"] != \"CosineAnnealingWarmRestarts\":\n",
    "        scheduler.step(epoch_loss)\n",
    "    \n",
    "    return epoch_loss, epoch_accuracy, epoch_precision, epoch_recall, epoch_auroc"
   ]
  },
  {
   "cell_type": "markdown",
   "id": "c5a91067",
   "metadata": {
    "papermill": {
     "duration": 0.020952,
     "end_time": "2025-01-15T08:56:49.849025",
     "exception": false,
     "start_time": "2025-01-15T08:56:49.828073",
     "status": "completed"
    },
    "tags": []
   },
   "source": [
    "## Valid one epoch"
   ]
  },
  {
   "cell_type": "code",
   "execution_count": 35,
   "id": "640bf4be",
   "metadata": {
    "execution": {
     "iopub.execute_input": "2025-01-15T08:56:49.891929Z",
     "iopub.status.busy": "2025-01-15T08:56:49.891682Z",
     "iopub.status.idle": "2025-01-15T08:56:49.895707Z",
     "shell.execute_reply": "2025-01-15T08:56:49.894967Z"
    },
    "jupyter": {
     "source_hidden": true
    },
    "papermill": {
     "duration": 0.027414,
     "end_time": "2025-01-15T08:56:49.897317",
     "exception": false,
     "start_time": "2025-01-15T08:56:49.869903",
     "status": "completed"
    },
    "tags": []
   },
   "outputs": [],
   "source": [
    "# @torch.inference_mode()\n",
    "# def valid_one_epoch(model, dataloader, device, epoch):\n",
    "#     model.eval()\n",
    "    \n",
    "#     dataset_size = 0\n",
    "#     running_loss = 0.0\n",
    "#     running_auroc = 0.0\n",
    "    \n",
    "#     bar = tqdm(enumerate(dataloader), total=len(dataloader))\n",
    "#     for step, data in bar:        \n",
    "#         images = data['image'].to(device, dtype=torch.float)\n",
    "#         targets = data['label'].to(device, dtype=torch.float).unsqueeze(1)\n",
    "        \n",
    "#         batch_size = images.size(0)\n",
    "\n",
    "#         outputs = model(images)\n",
    "#         # Debugging Shapes\n",
    "#         #print(f\"Step {step} - Outputs shape: {outputs.shape}\")\n",
    "#         #print(f\"Step {step} - Targets shape: {targets.shape}\")\n",
    "\n",
    "#         # Ensure the shapes match\n",
    "#         #if outputs.shape != targets.shape:\n",
    "#             #raise RuntimeError(f\"Shape mismatch: Outputs shape {outputs.shape}, Targets shape {targets.shape}\")\n",
    "        \n",
    "#         loss = criterion(outputs, targets)\n",
    "\n",
    "#         auroc = binary_auroc(input=outputs.squeeze(-1), target=targets.squeeze(-1)).item()\n",
    "#         running_loss += (loss.item() * batch_size)\n",
    "#         running_auroc  += (auroc * batch_size)\n",
    "#         dataset_size += batch_size\n",
    "        \n",
    "#         epoch_loss = running_loss / dataset_size\n",
    "#         epoch_auroc = running_auroc / dataset_size\n",
    "        \n",
    "#         bar.set_postfix(Epoch=epoch, Valid_Loss=epoch_loss, Valid_Auroc=epoch_auroc)   \n",
    "    \n",
    "#     gc.collect()\n",
    "    \n",
    "#     return epoch_loss, epoch_auroc"
   ]
  },
  {
   "cell_type": "markdown",
   "id": "fe219975",
   "metadata": {
    "papermill": {
     "duration": 0.020943,
     "end_time": "2025-01-15T08:56:49.939552",
     "exception": false,
     "start_time": "2025-01-15T08:56:49.918609",
     "status": "completed"
    },
    "tags": []
   },
   "source": [
    "## new valid"
   ]
  },
  {
   "cell_type": "code",
   "execution_count": 36,
   "id": "67130ee9",
   "metadata": {
    "execution": {
     "iopub.execute_input": "2025-01-15T08:56:49.982811Z",
     "iopub.status.busy": "2025-01-15T08:56:49.982564Z",
     "iopub.status.idle": "2025-01-15T08:56:49.986594Z",
     "shell.execute_reply": "2025-01-15T08:56:49.985905Z"
    },
    "jupyter": {
     "source_hidden": true
    },
    "papermill": {
     "duration": 0.027485,
     "end_time": "2025-01-15T08:56:49.988088",
     "exception": false,
     "start_time": "2025-01-15T08:56:49.960603",
     "status": "completed"
    },
    "tags": []
   },
   "outputs": [],
   "source": [
    "# from torchmetrics.classification import BinaryAUROC\n",
    "\n",
    "# @torch.no_grad()\n",
    "# def valid_one_epoch(model, dataloader, device, epoch):\n",
    "#     model.eval()\n",
    "#     dataset_size = 0\n",
    "#     running_loss = 0.0\n",
    "#     auroc_metric = BinaryAUROC().to(device)  # Initialize AUROC metric\n",
    "\n",
    "#     bar = tqdm(enumerate(dataloader), total=len(dataloader))\n",
    "#     for step, data in bar:\n",
    "#         images = data['image'].to(device, dtype=torch.float)\n",
    "#         targets = data['label'].to(device, dtype=torch.float).view(-1, 1)  # Reshape to [batch_size, 1]\n",
    "\n",
    "#         # Forward pass\n",
    "#         outputs = model(images)\n",
    "\n",
    "#         # Compute loss\n",
    "#         loss = criterion(outputs, targets)\n",
    "\n",
    "#         # Update metrics\n",
    "#         running_loss += loss.item() * targets.size(0)\n",
    "#         auroc_metric.update(outputs.sigmoid(), targets)\n",
    "\n",
    "#         # Calculate metrics\n",
    "#         dataset_size += targets.size(0)\n",
    "#         epoch_loss = running_loss / dataset_size\n",
    "#         epoch_auroc = auroc_metric.compute().item()\n",
    "\n",
    "#         # Update progress bar\n",
    "#         bar.set_postfix(Epoch=epoch, Valid_Loss=epoch_loss, Valid_AUROC=epoch_auroc)\n",
    "\n",
    "#     # Reset AUROC for the next epoch\n",
    "#     auroc_metric.reset()\n",
    "#     gc.collect()\n",
    "#     return epoch_loss, epoch_auroc\n"
   ]
  },
  {
   "cell_type": "code",
   "execution_count": 37,
   "id": "77775060",
   "metadata": {
    "execution": {
     "iopub.execute_input": "2025-01-15T08:56:50.033556Z",
     "iopub.status.busy": "2025-01-15T08:56:50.032980Z",
     "iopub.status.idle": "2025-01-15T08:56:50.040590Z",
     "shell.execute_reply": "2025-01-15T08:56:50.039733Z"
    },
    "papermill": {
     "duration": 0.03288,
     "end_time": "2025-01-15T08:56:50.042194",
     "exception": false,
     "start_time": "2025-01-15T08:56:50.009314",
     "status": "completed"
    },
    "tags": []
   },
   "outputs": [],
   "source": [
    "@torch.inference_mode()\n",
    "def valid_one_epoch(model, dataloader, device, epoch):\n",
    "    model.eval()\n",
    "    \n",
    "    running_loss = 0.0\n",
    "    dataset_size = 0\n",
    "    \n",
    "    # Metrics\n",
    "    accuracy = BinaryAccuracy().to(device)\n",
    "    precision = BinaryPrecision().to(device)\n",
    "    recall = BinaryRecall().to(device)\n",
    "    auroc = BinaryAUROC().to(device)\n",
    "    \n",
    "    bar = tqdm(enumerate(dataloader), total=len(dataloader))\n",
    "    for step, data in bar:        \n",
    "        images = data['image'].to(device, dtype=torch.float)\n",
    "        targets = data['label'].to(device, dtype=torch.float).unsqueeze(1)\n",
    "        \n",
    "        # Forward pass\n",
    "        outputs = model(images)\n",
    "        loss = criterion(outputs, targets)\n",
    "        \n",
    "        # Update running loss\n",
    "        batch_size = images.size(0)\n",
    "        running_loss += loss.item() * batch_size\n",
    "        dataset_size += batch_size\n",
    "        \n",
    "        # Update metrics\n",
    "        accuracy.update(outputs, targets.int())\n",
    "        precision.update(outputs, targets.int())\n",
    "        recall.update(outputs, targets.int())\n",
    "        auroc.update(outputs, targets.int())\n",
    "        \n",
    "        # Epoch metrics\n",
    "        epoch_loss = running_loss / dataset_size\n",
    "        epoch_accuracy = accuracy.compute().item()\n",
    "        epoch_precision = precision.compute().item()\n",
    "        epoch_recall = recall.compute().item()\n",
    "        epoch_auroc = auroc.compute().item()\n",
    "        \n",
    "        # Update progress bar\n",
    "        bar.set_postfix(Epoch=epoch, Valid_Loss=epoch_loss, Accuracy=epoch_accuracy,\n",
    "                        Precision=epoch_precision, Recall=epoch_recall, AUROC=epoch_auroc)\n",
    "    \n",
    "    # Reset metrics\n",
    "    accuracy.reset()\n",
    "    precision.reset()\n",
    "    recall.reset()\n",
    "    auroc.reset()\n",
    "    \n",
    "    return epoch_loss, epoch_accuracy, epoch_precision, epoch_recall, epoch_auroc\n"
   ]
  },
  {
   "cell_type": "markdown",
   "id": "1aeeb189",
   "metadata": {
    "papermill": {
     "duration": 0.020997,
     "end_time": "2025-01-15T08:56:50.084292",
     "exception": false,
     "start_time": "2025-01-15T08:56:50.063295",
     "status": "completed"
    },
    "tags": []
   },
   "source": [
    "## Dataloader"
   ]
  },
  {
   "cell_type": "code",
   "execution_count": 38,
   "id": "8ced76f0",
   "metadata": {
    "execution": {
     "iopub.execute_input": "2025-01-15T08:56:50.127640Z",
     "iopub.status.busy": "2025-01-15T08:56:50.127351Z",
     "iopub.status.idle": "2025-01-15T08:56:50.132303Z",
     "shell.execute_reply": "2025-01-15T08:56:50.131644Z"
    },
    "jupyter": {
     "source_hidden": true
    },
    "papermill": {
     "duration": 0.028666,
     "end_time": "2025-01-15T08:56:50.133979",
     "exception": false,
     "start_time": "2025-01-15T08:56:50.105313",
     "status": "completed"
    },
    "tags": []
   },
   "outputs": [],
   "source": [
    "# def prepare_loaders(df, fold, data_transforms=None):\n",
    "#     \"\"\"\n",
    "#     Prepare train and validation data loaders.\n",
    "    \n",
    "#     Args:\n",
    "#         df (pd.DataFrame): The DataFrame containing image paths and labels.\n",
    "#         fold (int): The fold index for splitting data.\n",
    "#         data_transforms (dict, optional): Dictionary containing 'train' and 'valid' transforms. Default is None.\n",
    "    \n",
    "#     Returns:\n",
    "#         tuple: Train and validation data loaders.\n",
    "#     \"\"\"\n",
    "#     if data_transforms is None:\n",
    "#         raise ValueError(\"data_transforms must be provided.\")\n",
    "\n",
    "#     # Create an instance of the Preprocessing class\n",
    "#     preprocessor = Preprocessing()\n",
    "\n",
    "#     # Split the data into training and validation sets based on k-folds\n",
    "#     df_train_fold = df[df.kfold != fold].reset_index(drop=True)\n",
    "#     df_valid_fold = df[df.kfold == fold].reset_index(drop=True)\n",
    "\n",
    "#     # Create training and validation datasets with preprocessing included\n",
    "#     train_dataset = ISICDataset_for_Train(\n",
    "#         df_train_fold, \n",
    "#         transforms=data_transforms[\"train\"],\n",
    "#         preprocessor=preprocessor  # Pass the preprocessor instance\n",
    "#     )\n",
    "#     valid_dataset = ISICDataset(\n",
    "#         df_valid_fold, \n",
    "#         transforms=data_transforms[\"valid\"], \n",
    "#         preprocessor=preprocessor  # Pass the preprocessor instance\n",
    "#     )\n",
    "\n",
    "    \n",
    "    \n",
    "#     def custom_collate_fn(batch):\n",
    "#         images = torch.stack([torch.tensor(item['image'], dtype=torch.float32) if isinstance(item['image'], np.ndarray) else item['image'] for item in batch])\n",
    "#         labels = torch.tensor([item['label'] for item in batch], dtype=torch.float32)\n",
    "#         return {'image': images, 'label': labels}\n",
    "\n",
    "  \n",
    "#     # Create DataLoader objects for training and validation\n",
    "#     train_loader = DataLoader(\n",
    "#         train_dataset, \n",
    "#         batch_size=CONFIG['train_batch_size'], \n",
    "#         num_workers=2, \n",
    "#         shuffle=True, \n",
    "#         collate_fn=custom_collate_fn,  # Use the custom collation function\n",
    "#         pin_memory=True, \n",
    "#         drop_last=True\n",
    "#     )\n",
    "#     valid_loader = DataLoader(\n",
    "#         valid_dataset, \n",
    "#         batch_size=CONFIG['valid_batch_size'], \n",
    "#         num_workers=2, \n",
    "#         shuffle=False, \n",
    "#         collate_fn=custom_collate_fn,  # Use the custom collation function\n",
    "#         pin_memory=True\n",
    "#     )\n",
    "    \n",
    "#     return train_loader, valid_loader\n",
    "\n",
    "\n",
    "\n",
    "\n",
    "# # def prepare_loaders(df, fold):\n",
    "# #     df_train = df[df.kfold != fold].reset_index(drop=True)\n",
    "# #     df_valid = df[df.kfold == fold].reset_index(drop=True)\n",
    "    \n",
    "# #     train_dataset = ISICDataset_for_Train(df_train, transforms=data_transforms[\"train\"])\n",
    "# #     valid_dataset = ISICDataset(df_valid, transforms=data_transforms[\"valid\"])\n",
    "\n",
    "# #     train_loader = DataLoader(train_dataset, batch_size=CONFIG['train_batch_size'], \n",
    "# #                               num_workers=2, shuffle=True, pin_memory=True, drop_last=True)\n",
    "# #     valid_loader = DataLoader(valid_dataset, batch_size=CONFIG['valid_batch_size'], \n",
    "# #                               num_workers=2, shuffle=False, pin_memory=True)\n",
    "    \n",
    "# #     return train_loader, valid_loader"
   ]
  },
  {
   "cell_type": "code",
   "execution_count": 39,
   "id": "de3f0149",
   "metadata": {
    "execution": {
     "iopub.execute_input": "2025-01-15T08:56:50.178284Z",
     "iopub.status.busy": "2025-01-15T08:56:50.178019Z",
     "iopub.status.idle": "2025-01-15T08:56:50.184096Z",
     "shell.execute_reply": "2025-01-15T08:56:50.183432Z"
    },
    "papermill": {
     "duration": 0.030441,
     "end_time": "2025-01-15T08:56:50.185696",
     "exception": false,
     "start_time": "2025-01-15T08:56:50.155255",
     "status": "completed"
    },
    "tags": []
   },
   "outputs": [],
   "source": [
    "def prepare_loaders(df, fold, data_transforms):\n",
    "    \"\"\"\n",
    "    Prepare train and validation data loaders.\n",
    "    \n",
    "    Args:\n",
    "        df (pd.DataFrame): DataFrame containing image paths and labels.\n",
    "        fold (int): Fold index for splitting data.\n",
    "        data_transforms (dict): Dictionary with 'train' and 'valid' transforms.\n",
    "    \n",
    "    Returns:\n",
    "        tuple: Train and validation data loaders.\n",
    "    \"\"\"\n",
    "    if data_transforms is None:\n",
    "        raise ValueError(\"data_transforms must be provided.\")\n",
    "\n",
    "    # Split data into training and validation sets based on fold\n",
    "    df_train = df[df.kfold != fold].reset_index(drop=True)\n",
    "    df_valid = df[df.kfold == fold].reset_index(drop=True)\n",
    "\n",
    "    # Create datasets\n",
    "    train_dataset = ISICDataset(df_train, transforms=data_transforms[\"train\"])\n",
    "    valid_dataset = ISICDataset(df_valid, transforms=data_transforms[\"valid\"])\n",
    "\n",
    "    # DataLoader objects\n",
    "    train_loader = DataLoader(\n",
    "        train_dataset,\n",
    "        batch_size=CONFIG[\"train_batch_size\"],\n",
    "        num_workers=2,\n",
    "        shuffle=True,\n",
    "        pin_memory=True,\n",
    "        drop_last=True,\n",
    "    )\n",
    "    valid_loader = DataLoader(\n",
    "        valid_dataset,\n",
    "        batch_size=CONFIG[\"valid_batch_size\"],\n",
    "        num_workers=2,\n",
    "        shuffle=False,\n",
    "        pin_memory=True,\n",
    "    )\n",
    "    for batch in train_loader:\n",
    "     print(batch['image'].shape)  # Expected: [batch_size, 3, 224, 224]\n",
    "     print(batch['label'].shape)  # Expected: [batch_size, 1]\n",
    "     break\n",
    "\n",
    "\n",
    "    return train_loader, valid_loader\n"
   ]
  },
  {
   "cell_type": "code",
   "execution_count": 40,
   "id": "a94cc83c",
   "metadata": {
    "execution": {
     "iopub.execute_input": "2025-01-15T08:56:50.229658Z",
     "iopub.status.busy": "2025-01-15T08:56:50.229403Z",
     "iopub.status.idle": "2025-01-15T08:56:50.236368Z",
     "shell.execute_reply": "2025-01-15T08:56:50.235598Z"
    },
    "papermill": {
     "duration": 0.031259,
     "end_time": "2025-01-15T08:56:50.238114",
     "exception": false,
     "start_time": "2025-01-15T08:56:50.206855",
     "status": "completed"
    },
    "tags": []
   },
   "outputs": [],
   "source": [
    "data_transforms = {\n",
    "    \"train\": A.Compose([\n",
    "        A.Resize(height=224, width=224),\n",
    "        A.HorizontalFlip(p=0.5),\n",
    "        A.VerticalFlip(p=0.5),\n",
    "        A.RandomRotate90(p=0.5),\n",
    "        A.ColorJitter(brightness=0.2, contrast=0.2, saturation=0.2, hue=0.2, p=0.5),\n",
    "        #A.ShiftScaleRotate(shift_limit=0.1, scale_limit=0.1, rotate_limit=15, p=0.5),\n",
    "        A.Normalize(mean=(0.71206467, 0.72267604, 0.74982272), std=(0.22178884, 0.20703684, 0.1648961)),\n",
    "        ToTensorV2()\n",
    "    ]),\n",
    "    \"valid\": A.Compose([\n",
    "        A.Resize(height=224, width=224),\n",
    "        A.Normalize(mean=(0.71206467, 0.72267604, 0.74982272), std=(0.22178884, 0.20703684, 0.1648961)),\n",
    "        ToTensorV2()\n",
    "    ])\n",
    "}"
   ]
  },
  {
   "cell_type": "markdown",
   "id": "635a0d3d",
   "metadata": {
    "papermill": {
     "duration": 0.020975,
     "end_time": "2025-01-15T08:56:50.280150",
     "exception": false,
     "start_time": "2025-01-15T08:56:50.259175",
     "status": "completed"
    },
    "tags": []
   },
   "source": [
    "## Training function"
   ]
  },
  {
   "cell_type": "code",
   "execution_count": 41,
   "id": "a23d7b46",
   "metadata": {
    "execution": {
     "iopub.execute_input": "2025-01-15T08:56:50.323806Z",
     "iopub.status.busy": "2025-01-15T08:56:50.323533Z",
     "iopub.status.idle": "2025-01-15T08:56:50.327902Z",
     "shell.execute_reply": "2025-01-15T08:56:50.327101Z"
    },
    "jupyter": {
     "source_hidden": true
    },
    "papermill": {
     "duration": 0.028134,
     "end_time": "2025-01-15T08:56:50.329440",
     "exception": false,
     "start_time": "2025-01-15T08:56:50.301306",
     "status": "completed"
    },
    "tags": []
   },
   "outputs": [],
   "source": [
    "# def run_training(model, optimizer, scheduler, device, num_epochs):\n",
    "#     if torch.cuda.is_available():\n",
    "#         print(\"[INFO] Using GPU: {}\\n\".format(torch.cuda.get_device_name()))\n",
    "    \n",
    "#     start = time.time()\n",
    "#     best_model_wts = copy.deepcopy(model.state_dict())\n",
    "#     best_epoch_auroc = -np.inf\n",
    "#     history = defaultdict(list)\n",
    "    \n",
    "#     for epoch in range(1, num_epochs + 1): \n",
    "#         gc.collect()\n",
    "#         train_epoch_loss, train_epoch_auroc = train_one_epoch(model, optimizer, scheduler, \n",
    "#                                            dataloader=train_loader, \n",
    "#                                            device=CONFIG['device'], epoch=epoch)\n",
    "        \n",
    "#         val_epoch_loss, val_epoch_auroc = valid_one_epoch(model, valid_loader, device=CONFIG['device'], \n",
    "#                                          epoch=epoch)\n",
    "    \n",
    "#         history['Train Loss'].append(train_epoch_loss)\n",
    "#         history['Valid Loss'].append(val_epoch_loss)\n",
    "#         history['Train AUROC'].append(train_epoch_auroc)\n",
    "#         history['Valid AUROC'].append(val_epoch_auroc)\n",
    "#         history['lr'].append( scheduler.get_lr()[0] )\n",
    "        \n",
    "#         # deep copy the model\n",
    "#         if best_epoch_auroc <= val_epoch_auroc:\n",
    "#             print(f\"{b_}Validation AUROC Improved ({best_epoch_auroc} ---> {val_epoch_auroc})\")\n",
    "#             best_epoch_auroc = val_epoch_auroc\n",
    "#             best_model_wts = copy.deepcopy(model.state_dict())\n",
    "#             PATH = \"AUROC{:.4f}_Loss{:.4f}_epoch{:.0f}.bin\".format(val_epoch_auroc, val_epoch_loss, epoch)\n",
    "#             torch.save(model.state_dict(), PATH)\n",
    "#             # Save a model file from the current directory\n",
    "#             print(f\"Model Saved{sr_}\")\n",
    "            \n",
    "#         print()\n",
    "    \n",
    "#     end = time.time()\n",
    "#     time_elapsed = end - start\n",
    "#     print('Training complete in {:.0f}h {:.0f}m {:.0f}s'.format(\n",
    "#         time_elapsed // 3600, (time_elapsed % 3600) // 60, (time_elapsed % 3600) % 60))\n",
    "#     print(\"Best AUROC: {:.4f}\".format(best_epoch_auroc))\n",
    "    \n",
    "#     # load best model weights\n",
    "#     model.load_state_dict(best_model_wts)\n",
    "    \n",
    "#     return model, history"
   ]
  },
  {
   "cell_type": "code",
   "execution_count": 42,
   "id": "fd5c9234",
   "metadata": {
    "execution": {
     "iopub.execute_input": "2025-01-15T08:56:50.373708Z",
     "iopub.status.busy": "2025-01-15T08:56:50.373454Z",
     "iopub.status.idle": "2025-01-15T08:56:50.378083Z",
     "shell.execute_reply": "2025-01-15T08:56:50.377442Z"
    },
    "jupyter": {
     "source_hidden": true
    },
    "papermill": {
     "duration": 0.028809,
     "end_time": "2025-01-15T08:56:50.379536",
     "exception": false,
     "start_time": "2025-01-15T08:56:50.350727",
     "status": "completed"
    },
    "tags": []
   },
   "outputs": [],
   "source": [
    "# def run_training(model, optimizer, scheduler, device, train_loader, valid_loader, num_epochs, patience=5):\n",
    "#     if torch.cuda.is_available():\n",
    "#         print(\"[INFO] Using GPU: {}\\n\".format(torch.cuda.get_device_name()))\n",
    "    \n",
    "#     start = time.time()\n",
    "#     best_model_wts = copy.deepcopy(model.state_dict())\n",
    "#     best_epoch_auroc = -np.inf\n",
    "#     no_improvement_epochs = 0  # Tracks epochs without improvement\n",
    "#     history = defaultdict(list)\n",
    "    \n",
    "#     for epoch in range(1, num_epochs + 1): \n",
    "#         gc.collect()\n",
    "#         train_epoch_loss, train_epoch_auroc = train_one_epoch(model, optimizer, scheduler, \n",
    "#                                            dataloader=train_loader, \n",
    "#                                            device=CONFIG['device'], epoch=epoch)\n",
    "        \n",
    "#         val_epoch_loss, val_epoch_auroc = valid_one_epoch(model, valid_loader, device=CONFIG['device'], \n",
    "#                                          epoch=epoch)\n",
    "    \n",
    "#         history['Train Loss'].append(train_epoch_loss)\n",
    "#         history['Valid Loss'].append(val_epoch_loss)\n",
    "#         history['Train AUROC'].append(train_epoch_auroc)\n",
    "#         history['Valid AUROC'].append(val_epoch_auroc)\n",
    "#         history['lr'].append(scheduler.get_last_lr()[0])  # Updated to `get_last_lr()` for compatibility\n",
    "        \n",
    "#         # Check for improvement\n",
    "#         if val_epoch_auroc > best_epoch_auroc:\n",
    "#             print(f\"Validation AUROC Improved ({best_epoch_auroc:.4f} ---> {val_epoch_auroc:.4f})\")\n",
    "#             best_epoch_auroc = val_epoch_auroc\n",
    "#             best_model_wts = copy.deepcopy(model.state_dict())\n",
    "#             PATH = \"AUROC{:.4f}_Loss{:.4f}_epoch{:.0f}.bin\".format(val_epoch_auroc, val_epoch_loss, epoch)\n",
    "#             torch.save(model.state_dict(), PATH)\n",
    "#             print(\"Model Saved\")\n",
    "#             no_improvement_epochs = 0  # Reset counter on improvement\n",
    "#         else:\n",
    "#             no_improvement_epochs += 1\n",
    "#             print(f\"No improvement in Validation AUROC for {no_improvement_epochs} epoch(s).\")\n",
    "        \n",
    "#         # Early stopping condition\n",
    "#         if no_improvement_epochs >= patience:\n",
    "#             print(f\"Early stopping triggered. No improvement for {patience} consecutive epochs.\")\n",
    "#             break\n",
    "            \n",
    "#         print()\n",
    "    \n",
    "#     end = time.time()\n",
    "#     time_elapsed = end - start\n",
    "#     print('Training complete in {:.0f}h {:.0f}m {:.0f}s'.format(\n",
    "#         time_elapsed // 3600, (time_elapsed % 3600) // 60, (time_elapsed % 3600) % 60))\n",
    "#     print(\"Best AUROC: {:.4f}\".format(best_epoch_auroc))\n",
    "    \n",
    "#     # Load best model weights\n",
    "#     model.load_state_dict(best_model_wts)\n",
    "    \n",
    "#     return model, history\n"
   ]
  },
  {
   "cell_type": "code",
   "execution_count": 43,
   "id": "91d010ee",
   "metadata": {
    "execution": {
     "iopub.execute_input": "2025-01-15T08:56:50.423948Z",
     "iopub.status.busy": "2025-01-15T08:56:50.423697Z",
     "iopub.status.idle": "2025-01-15T08:56:50.434414Z",
     "shell.execute_reply": "2025-01-15T08:56:50.433769Z"
    },
    "papermill": {
     "duration": 0.035424,
     "end_time": "2025-01-15T08:56:50.435993",
     "exception": false,
     "start_time": "2025-01-15T08:56:50.400569",
     "status": "completed"
    },
    "tags": []
   },
   "outputs": [],
   "source": [
    "def run_training(model, optimizer, scheduler, device, train_loader, valid_loader, num_epochs, patience=7):\n",
    "    wandb.watch(model, log_freq=100)\n",
    "    \n",
    "    if torch.cuda.is_available():\n",
    "        print(f\"[INFO] Using GPU: {torch.cuda.get_device_name()}\\n\")\n",
    "\n",
    "    start = time.time()\n",
    "    best_model_wts = copy.deepcopy(model.state_dict())\n",
    "    best_loss = float('inf')\n",
    "    # best_epoch_auroc = -np.inf\n",
    "    no_improvement_epochs = 0\n",
    "    history = defaultdict(list)\n",
    "\n",
    "    for epoch in range(1, num_epochs + 1): \n",
    "        # Train for one epoch\n",
    "        train_loss, train_auroc, train_acc, train_prec, train_rec = train_one_epoch(\n",
    "            model, optimizer, scheduler, train_loader, device, epoch\n",
    "        )\n",
    "\n",
    "        # Validate for one epoch\n",
    "        val_loss, val_auroc, val_acc, val_prec, val_rec = valid_one_epoch(\n",
    "            model, valid_loader, device, epoch\n",
    "        )\n",
    "\n",
    "        # Log metrics\n",
    "        history['Train Loss'].append(train_loss)\n",
    "        history['Valid Loss'].append(val_loss)\n",
    "        history['Train AUROC'].append(train_auroc)\n",
    "        history['Valid AUROC'].append(val_auroc)\n",
    "        history['Train Accuracy'].append(train_acc)\n",
    "        history['Valid Accuracy'].append(val_acc)\n",
    "        history['Train Precision'].append(train_prec)\n",
    "        history['Valid Precision'].append(val_prec)\n",
    "        history['Train Recall'].append(train_rec)\n",
    "        history['Valid Recall'].append(val_rec)\n",
    "        \n",
    "        if scheduler and not isinstance(scheduler, torch.optim.lr_scheduler.ReduceLROnPlateau):\n",
    "            history['lr'].append(scheduler.get_last_lr()[0])\n",
    "            \n",
    "        wandb.log({\"Train Loss\": train_loss, \n",
    "                   \"Valid Loss\": val_loss,\n",
    "                   \"Train AUROC\": train_auroc,\n",
    "                   \"Valid AUROC\": val_auroc,\n",
    "                   \"Train Accuracy\": train_acc,\n",
    "                   \"Valid Accuracy\": val_acc,\n",
    "                   \"Train Precision\": train_prec,\n",
    "                   \"Valid Precision\": val_prec,\n",
    "                   \"Train Recall\": train_rec,\n",
    "                   \"Valid Recall\": val_rec,\n",
    "                   \"LR\": scheduler.get_last_lr()[0] if scheduler and not isinstance(scheduler, torch.optim.lr_scheduler.ReduceLROnPlateau) else optimizer.param_groups[0]['lr']})\n",
    "\n",
    "        \n",
    "        # # Add scheduler step based on validation loss\n",
    "        # if isinstance(scheduler, torch.optim.lr_scheduler.ReduceLROnPlateau):\n",
    "        #     scheduler.step(val_loss)  # Only works with ReduceLROnPlateau\n",
    "        # else:\n",
    "        #     scheduler.step()\n",
    "\n",
    "        # Save the best model based on validation AUROC\n",
    "        # if val_auroc > best_epoch_auroc:\n",
    "        if val_loss < best_loss: \n",
    "            # print(f\"Validation AUROC Improved ({best_epoch_auroc:.4f} -> {val_auroc:.4f})\")\n",
    "            print(f\"Validation AUROC Improved ({best_loss:.4f} -> {val_loss:.4f})\")   \n",
    "            # best_epoch_auroc = val_auroc\n",
    "            best_loss = val_loss\n",
    "            best_model_wts = copy.deepcopy(model.state_dict())\n",
    "            best_model_path = f\"best_model_fold_{epoch}.pth\"\n",
    "            torch.save(best_model_wts, best_model_path)\n",
    "            wandb.save(best_model_path)\n",
    "            no_improvement_epochs = 0\n",
    "        else:\n",
    "            no_improvement_epochs += 1\n",
    "            print(f\"No improvement for {no_improvement_epochs} epoch(s).\")\n",
    "\n",
    "        # Early stopping\n",
    "        if no_improvement_epochs > patience:\n",
    "            print(\"Early stopping triggered.\")\n",
    "            break\n",
    "\n",
    "        # Update scheduler\n",
    "        if CONFIG[\"scheduler\"] == \"ReduceLROnPlateau\":\n",
    "            scheduler.step(val_loss)\n",
    "        else:\n",
    "            scheduler.step()\n",
    "\n",
    "    time_elapsed = time.time() - start\n",
    "    print(f\"Training complete in {time_elapsed // 60:.0f}m {time_elapsed % 60:.0f}s\")\n",
    "    print(f\"Best val loss: {best_loss:.4f}\")\n",
    "\n",
    "    # Load best model weights\n",
    "    model.load_state_dict(best_model_wts)\n",
    "    return model, history\n"
   ]
  },
  {
   "cell_type": "code",
   "execution_count": 44,
   "id": "ca3c67e5",
   "metadata": {
    "execution": {
     "iopub.execute_input": "2025-01-15T08:56:50.479808Z",
     "iopub.status.busy": "2025-01-15T08:56:50.479554Z",
     "iopub.status.idle": "2025-01-15T08:56:50.483877Z",
     "shell.execute_reply": "2025-01-15T08:56:50.483192Z"
    },
    "jupyter": {
     "source_hidden": true
    },
    "papermill": {
     "duration": 0.028683,
     "end_time": "2025-01-15T08:56:50.485679",
     "exception": false,
     "start_time": "2025-01-15T08:56:50.456996",
     "status": "completed"
    },
    "tags": []
   },
   "outputs": [],
   "source": [
    "# def run_kfold_training(df, model_class, optimizer_class, scheduler_class, num_folds=5, patience=5):\n",
    "#     history_per_fold = {}\n",
    "#     best_auroc_per_fold = []\n",
    "\n",
    "#     for fold in range(num_folds):\n",
    "#         print(f\"Starting Fold {fold + 1}/{num_folds}\")\n",
    "\n",
    "#         # Prepare DataLoaders for the current fold\n",
    "#         train_loader, valid_loader = prepare_loaders(df=df, fold=fold, data_transforms=data_transforms)\n",
    "\n",
    "#         # Initialize a new model, optimizer, and scheduler for each fold\n",
    "#         model = model_class(CONFIG['model_name']).to(CONFIG['device'])\n",
    "#         optimizer = optimizer_class(model.parameters(), lr=CONFIG['learning_rate'], weight_decay=CONFIG['weight_decay'])\n",
    "#         scheduler = scheduler_class(optimizer)\n",
    "\n",
    "#         # Run training for the current fold\n",
    "#         model, history = run_training(\n",
    "#             model=model,\n",
    "#             optimizer=optimizer,\n",
    "#             scheduler=scheduler,\n",
    "#             device=CONFIG['device'],\n",
    "#             train_loader=train_loader,\n",
    "#             valid_loader=valid_loader,\n",
    "#             num_epochs=CONFIG['epochs'],\n",
    "#             patience=patience\n",
    "#         )\n",
    "\n",
    "#         # Save metrics and best AUROC for the current fold\n",
    "#         history_per_fold[fold] = history\n",
    "#         best_auroc_per_fold.append(max(history['Valid AUROC']))\n",
    "\n",
    "#     print(\"K-Fold Training Complete\")\n",
    "#     print(f\"Best AUROC per fold: {best_auroc_per_fold}\")\n",
    "#     print(f\"Mean AUROC: {np.mean(best_auroc_per_fold):.4f}, Std Dev: {np.std(best_auroc_per_fold):.4f}\")\n",
    "\n",
    "#     return history_per_fold\n"
   ]
  },
  {
   "cell_type": "code",
   "execution_count": 45,
   "id": "2e9ad052",
   "metadata": {
    "execution": {
     "iopub.execute_input": "2025-01-15T08:56:50.536574Z",
     "iopub.status.busy": "2025-01-15T08:56:50.536256Z",
     "iopub.status.idle": "2025-01-15T08:56:50.545856Z",
     "shell.execute_reply": "2025-01-15T08:56:50.544993Z"
    },
    "papermill": {
     "duration": 0.03839,
     "end_time": "2025-01-15T08:56:50.547695",
     "exception": false,
     "start_time": "2025-01-15T08:56:50.509305",
     "status": "completed"
    },
    "tags": []
   },
   "outputs": [],
   "source": [
    "def run_kfold_training(df, model_class, optimizer_class, scheduler_class, num_folds=5, patience=5):\n",
    "    \"\"\"\n",
    "    Run K-Fold cross-validation training.\n",
    "\n",
    "    Args:\n",
    "        df (pd.DataFrame): The dataset with k-fold split.\n",
    "        model_class (class): The model class to instantiate.\n",
    "        optimizer_class (class): The optimizer class (e.g., torch.optim.Adam).\n",
    "        scheduler_class (function): The scheduler fetch function.\n",
    "        num_folds (int): Number of folds for cross-validation.\n",
    "        patience (int): Early stopping patience.\n",
    "\n",
    "    Returns:\n",
    "        dict: History per fold containing metrics.\n",
    "    \"\"\"\n",
    "    history_per_fold = {}\n",
    "    metrics_per_fold = defaultdict(list)\n",
    "\n",
    "    for fold in range(num_folds):\n",
    "        print(f\"\\nStarting Fold {fold + 1}/{num_folds}\")\n",
    "        run = wandb.init(\n",
    "            project='skin-cancer-binary',  # Updated project name\n",
    "            config=CONFIG,  # Pass the CONFIG dictionary\n",
    "            name=f\"fold-{fold}|img-{CONFIG['img_size']}|model-{CONFIG['model_name']}|batchsize-{CONFIG['train_batch_size']}|scheduler-{CONFIG['scheduler']}\",\n",
    "            group='binary-class-training',  # Organize runs\n",
    "            anonymous=\"must\",  # Keep anonymous mode (if necessary)\n",
    "        )\n",
    "\n",
    "        # Prepare DataLoaders for the current fold\n",
    "        train_loader, valid_loader = prepare_loaders(df, fold, data_transforms=data_transforms)\n",
    "\n",
    "        # Initialize model\n",
    "        model = model_class(CONFIG['model_name'], num_classes=1, pretrained=True).to(CONFIG['device'])\n",
    "\n",
    "        # Initialize optimizer\n",
    "        optimizer = optimizer_class(\n",
    "            model.parameters(),\n",
    "            lr=CONFIG[\"learning_rate\"],\n",
    "            weight_decay=CONFIG[\"weight_decay\"]\n",
    "        )\n",
    "\n",
    "        # Initialize scheduler\n",
    "        scheduler = scheduler_class(optimizer)\n",
    "\n",
    "        # Log optimizer configuration to Weights & Biases\n",
    "        wandb.config.update({\n",
    "            \"optimizer\": optimizer_class.__name__,\n",
    "            \"scheduler\": CONFIG['scheduler'],\n",
    "            \"learning_rate\": CONFIG[\"learning_rate\"],\n",
    "            \"weight_decay\": CONFIG[\"weight_decay\"]\n",
    "        })\n",
    "\n",
    "        # Train the model for the current fold\n",
    "        model, history = run_training(\n",
    "            model, optimizer, scheduler, CONFIG['device'], train_loader, valid_loader,\n",
    "            CONFIG['epochs'], patience\n",
    "        )\n",
    "\n",
    "        # Save metrics for the current fold\n",
    "        history_per_fold[fold] = history\n",
    "        metrics_per_fold['Best AUROC'].append(max(history['Valid AUROC']))\n",
    "        metrics_per_fold['Best Accuracy'].append(max(history['Valid Accuracy']))\n",
    "        metrics_per_fold['Best Precision'].append(max(history['Valid Precision']))\n",
    "        metrics_per_fold['Best Recall'].append(max(history['Valid Recall']))\n",
    "\n",
    "        # Finish the current run in Weights & Biases\n",
    "        run.finish()\n",
    "\n",
    "    # Display aggregated metrics across folds\n",
    "    print(\"\\nK-Fold Training Complete\")\n",
    "    for metric, values in metrics_per_fold.items():\n",
    "        print(f\"{metric} per fold: {values}\")\n",
    "        print(f\"Mean {metric}: {np.mean(values):.4f}, Std Dev: {np.std(values):.4f}\")\n",
    "\n",
    "    return history_per_fold\n"
   ]
  },
  {
   "cell_type": "markdown",
   "id": "d81297e8",
   "metadata": {
    "papermill": {
     "duration": 0.024611,
     "end_time": "2025-01-15T08:56:50.597154",
     "exception": false,
     "start_time": "2025-01-15T08:56:50.572543",
     "status": "completed"
    },
    "tags": []
   },
   "source": [
    "## Scheduler"
   ]
  },
  {
   "cell_type": "code",
   "execution_count": 46,
   "id": "69a50414",
   "metadata": {
    "execution": {
     "iopub.execute_input": "2025-01-15T08:56:50.643469Z",
     "iopub.status.busy": "2025-01-15T08:56:50.643139Z",
     "iopub.status.idle": "2025-01-15T08:56:50.646968Z",
     "shell.execute_reply": "2025-01-15T08:56:50.646139Z"
    },
    "jupyter": {
     "source_hidden": true
    },
    "papermill": {
     "duration": 0.028395,
     "end_time": "2025-01-15T08:56:50.648561",
     "exception": false,
     "start_time": "2025-01-15T08:56:50.620166",
     "status": "completed"
    },
    "tags": []
   },
   "outputs": [],
   "source": [
    "# def fetch_scheduler(optimizer):\n",
    "#     if CONFIG['scheduler'] == 'CosineAnnealingLR':\n",
    "#         scheduler = lr_scheduler.CosineAnnealingLR(optimizer,T_max=CONFIG['T_max'], \n",
    "#                                                    eta_min=CONFIG['min_lr'])\n",
    "#     elif CONFIG['scheduler'] == 'CosineAnnealingWarmRestarts':\n",
    "#         scheduler = lr_scheduler.CosineAnnealingWarmRestarts(optimizer,T_0=CONFIG['T_0'], \n",
    "#                                                              eta_min=CONFIG['min_lr'])\n",
    "#     elif CONFIG['scheduler'] == None:\n",
    "#         return None\n",
    "        \n",
    "#     return scheduler"
   ]
  },
  {
   "cell_type": "code",
   "execution_count": 47,
   "id": "9a730441",
   "metadata": {
    "execution": {
     "iopub.execute_input": "2025-01-15T08:56:50.698052Z",
     "iopub.status.busy": "2025-01-15T08:56:50.697750Z",
     "iopub.status.idle": "2025-01-15T08:56:50.701528Z",
     "shell.execute_reply": "2025-01-15T08:56:50.700686Z"
    },
    "jupyter": {
     "source_hidden": true
    },
    "papermill": {
     "duration": 0.032255,
     "end_time": "2025-01-15T08:56:50.703315",
     "exception": false,
     "start_time": "2025-01-15T08:56:50.671060",
     "status": "completed"
    },
    "tags": []
   },
   "outputs": [],
   "source": [
    "#scheduler = torch.optim.lr_scheduler.ReduceLROnPlateau(optimizer, mode='max', patience=2, factor=0.5)\n"
   ]
  },
  {
   "cell_type": "markdown",
   "id": "68608d4b",
   "metadata": {
    "papermill": {
     "duration": 0.025524,
     "end_time": "2025-01-15T08:56:50.753721",
     "exception": false,
     "start_time": "2025-01-15T08:56:50.728197",
     "status": "completed"
    },
    "tags": []
   },
   "source": [
    "## Dataloader"
   ]
  },
  {
   "cell_type": "code",
   "execution_count": 48,
   "id": "e85d4aef",
   "metadata": {
    "execution": {
     "iopub.execute_input": "2025-01-15T08:56:50.800982Z",
     "iopub.status.busy": "2025-01-15T08:56:50.800689Z",
     "iopub.status.idle": "2025-01-15T08:56:50.806434Z",
     "shell.execute_reply": "2025-01-15T08:56:50.805678Z"
    },
    "jupyter": {
     "source_hidden": true
    },
    "papermill": {
     "duration": 0.030473,
     "end_time": "2025-01-15T08:56:50.807994",
     "exception": false,
     "start_time": "2025-01-15T08:56:50.777521",
     "status": "completed"
    },
    "tags": []
   },
   "outputs": [],
   "source": [
    "# def prepare_loaders(df, fold, data_transforms=None):\n",
    "#     \"\"\"\n",
    "#     Prepare train and validation data loaders.\n",
    "    \n",
    "#     Args:\n",
    "#         df (pd.DataFrame): The DataFrame containing image paths and labels.\n",
    "#         fold (int): The fold index for splitting data.\n",
    "#         data_transforms (dict, optional): Dictionary containing 'train' and 'valid' transforms. Default is None.\n",
    "    \n",
    "#     Returns:\n",
    "#         tuple: Train and validation data loaders.\n",
    "#     \"\"\"\n",
    "#     if data_transforms is None:\n",
    "#         raise ValueError(\"data_transforms must be provided.\")\n",
    "#     data_transforms = {\n",
    "#         \"train\": A.Compose([\n",
    "#             A.Resize(height=224, width=224),\n",
    "#             A.HorizontalFlip(p=0.5),  # Random horizontal flip\n",
    "#             A.VerticalFlip(p=0.5),    # Random vertical flip\n",
    "#             A.RandomRotate90(p=0.5),  # Random rotation\n",
    "#             A.ColorJitter(brightness=0.2, contrast=0.2, saturation=0.2, hue=0.2, p=0.5),\n",
    "#             A.ShiftScaleRotate(shift_limit=0.1, scale_limit=0.1, rotate_limit=15, p=0.5),\n",
    "#             A.Normalize(mean=(0.485, 0.456, 0.406), std=(0.229, 0.224, 0.225)),\n",
    "#             ToTensorV2()\n",
    "#         ]),\n",
    "#         \"valid\": A.Compose([\n",
    "#             A.Resize(height=224, width=224),\n",
    "#             A.Normalize(mean=(0.485, 0.456, 0.406), std=(0.229, 0.224, 0.225)),\n",
    "#             ToTensorV2()\n",
    "#         ])\n",
    "#     }\n",
    "\n",
    "#     # Create an instance of the Preprocessing class\n",
    "#     preprocessor = Preprocessing()\n",
    "\n",
    "#     # Split the data into training and validation sets based on k-folds\n",
    "#     df_train= df[df.kfold != fold].reset_index(drop=True)\n",
    "#     df_valid = df[df.kfold == fold].reset_index(drop=True)\n",
    "\n",
    "#     # Create training and validation datasets with preprocessing included\n",
    "#     train_dataset = ISICDataset_for_Train(\n",
    "#         df_train, \n",
    "#         transforms=data_transforms[\"train\"] if data_transforms else None,\n",
    "#         preprocessor=preprocessor  # Pass the preprocessor instance\n",
    "#     )\n",
    "#     valid_dataset = ISICDataset(\n",
    "#         df_valid, \n",
    "#         transforms=data_transforms[\"valid\"] if data_transforms else None,\n",
    "#         preprocessor=preprocessor  # Pass the preprocessor instance\n",
    "#     )\n",
    "\n",
    "    \n",
    "    \n",
    "#     def custom_collate_fn(batch):\n",
    "#       images = torch.stack([item['image'] for item in batch])  # Stack images\n",
    "#       labels = torch.tensor([item['label'] for item in batch])  # Stack labels\n",
    "#       return {'image': images, 'label': labels}\n",
    "  \n",
    "#     # Create DataLoader objects for training and validation\n",
    "#     train_loader = DataLoader(\n",
    "#         train_dataset, \n",
    "#         batch_size=CONFIG['train_batch_size'], \n",
    "#         num_workers=2, \n",
    "#         shuffle=True, \n",
    "#         collate_fn=custom_collate_fn,  # Use the custom collation function\n",
    "#         pin_memory=True, \n",
    "#         drop_last=True\n",
    "#     )\n",
    "#     valid_loader = DataLoader(\n",
    "#         valid_dataset, \n",
    "#         batch_size=CONFIG['valid_batch_size'], \n",
    "#         num_workers=2, \n",
    "#         shuffle=False, \n",
    "#         collate_fn=custom_collate_fn,  # Use the custom collation function\n",
    "#         pin_memory=True\n",
    "#     )\n",
    "    \n",
    "#     return train_loader, valid_loader\n",
    "\n",
    "\n",
    "\n",
    "\n",
    "# # def prepare_loaders(df, fold):\n",
    "# #     df_train = df[df.kfold != fold].reset_index(drop=True)\n",
    "# #     df_valid = df[df.kfold == fold].reset_index(drop=True)\n",
    "    \n",
    "# #     train_dataset = ISICDataset_for_Train(df_train, transforms=data_transforms[\"train\"])\n",
    "# #     valid_dataset = ISICDataset(df_valid, transforms=data_transforms[\"valid\"])\n",
    "\n",
    "# #     train_loader = DataLoader(train_dataset, batch_size=CONFIG['train_batch_size'], \n",
    "# #                               num_workers=2, shuffle=True, pin_memory=True, drop_last=True)\n",
    "# #     valid_loader = DataLoader(valid_dataset, batch_size=CONFIG['valid_batch_size'], \n",
    "# #                               num_workers=2, shuffle=False, pin_memory=True)\n",
    "    \n",
    "# #     return train_loader, valid_loader"
   ]
  },
  {
   "cell_type": "code",
   "execution_count": 49,
   "id": "ba598956",
   "metadata": {
    "execution": {
     "iopub.execute_input": "2025-01-15T08:56:50.852768Z",
     "iopub.status.busy": "2025-01-15T08:56:50.852288Z",
     "iopub.status.idle": "2025-01-15T08:56:50.855645Z",
     "shell.execute_reply": "2025-01-15T08:56:50.854897Z"
    },
    "jupyter": {
     "source_hidden": true
    },
    "papermill": {
     "duration": 0.027621,
     "end_time": "2025-01-15T08:56:50.857186",
     "exception": false,
     "start_time": "2025-01-15T08:56:50.829565",
     "status": "completed"
    },
    "tags": []
   },
   "outputs": [],
   "source": [
    "# train_loader, valid_loader = prepare_loaders(df, data_transforms, fold=CONFIG[\"fold\"])"
   ]
  },
  {
   "cell_type": "markdown",
   "id": "d0c17177",
   "metadata": {
    "papermill": {
     "duration": 0.020703,
     "end_time": "2025-01-15T08:56:50.898779",
     "exception": false,
     "start_time": "2025-01-15T08:56:50.878076",
     "status": "completed"
    },
    "tags": []
   },
   "source": [
    "## Optimizer"
   ]
  },
  {
   "cell_type": "code",
   "execution_count": 50,
   "id": "46d863e5",
   "metadata": {
    "execution": {
     "iopub.execute_input": "2025-01-15T08:56:50.941704Z",
     "iopub.status.busy": "2025-01-15T08:56:50.941432Z",
     "iopub.status.idle": "2025-01-15T08:56:50.944830Z",
     "shell.execute_reply": "2025-01-15T08:56:50.944194Z"
    },
    "jupyter": {
     "source_hidden": true
    },
    "papermill": {
     "duration": 0.02681,
     "end_time": "2025-01-15T08:56:50.946462",
     "exception": false,
     "start_time": "2025-01-15T08:56:50.919652",
     "status": "completed"
    },
    "tags": []
   },
   "outputs": [],
   "source": [
    "# optimizer = torch.optim.AdamW(model.parameters(), lr=CONFIG['learning_rate'], \n",
    "#                        weight_decay=CONFIG['weight_decay'])\n",
    "# scheduler = fetch_scheduler(optimizer)\n",
    "\n"
   ]
  },
  {
   "cell_type": "code",
   "execution_count": 51,
   "id": "32a6e0ec",
   "metadata": {
    "execution": {
     "iopub.execute_input": "2025-01-15T08:56:50.990466Z",
     "iopub.status.busy": "2025-01-15T08:56:50.990183Z",
     "iopub.status.idle": "2025-01-15T08:56:50.995519Z",
     "shell.execute_reply": "2025-01-15T08:56:50.994766Z"
    },
    "papermill": {
     "duration": 0.029289,
     "end_time": "2025-01-15T08:56:50.997021",
     "exception": false,
     "start_time": "2025-01-15T08:56:50.967732",
     "status": "completed"
    },
    "tags": []
   },
   "outputs": [],
   "source": [
    "# Define the optimizer and scheduler\n",
    "def fetch_scheduler(optimizer):\n",
    "    if CONFIG['scheduler'] == 'CosineAnnealingLR':\n",
    "        scheduler = lr_scheduler.CosineAnnealingLR(\n",
    "            optimizer, T_max=CONFIG['T_max'], eta_min=CONFIG['min_lr']\n",
    "        )\n",
    "    elif CONFIG['scheduler'] == 'CosineAnnealingWarmRestarts':\n",
    "        scheduler = lr_scheduler.CosineAnnealingWarmRestarts(\n",
    "            optimizer, T_0=CONFIG.get('T_0', 10), eta_min=CONFIG['min_lr']\n",
    "        )\n",
    "    elif CONFIG['scheduler'] == 'ReduceLROnPlateau':\n",
    "        scheduler = lr_scheduler.ReduceLROnPlateau(\n",
    "            optimizer,\n",
    "            mode='min',  # Reduce LR when the monitored metric stops decreasing\n",
    "            factor=0.5,  # Reduce LR by a factor of 10\n",
    "            patience=7,  # Number of epochs with no improvement before reducing LR\n",
    "            # min_lr=CONFIG['min_lr'],  # Minimum LR after reduction\n",
    "            verbose=True\n",
    "        )\n",
    "    elif CONFIG['scheduler'] is None:\n",
    "        return None\n",
    "    else:\n",
    "        raise ValueError(f\"Scheduler {CONFIG['scheduler']} not recognized.\")\n",
    "        \n",
    "    return scheduler\n"
   ]
  },
  {
   "cell_type": "code",
   "execution_count": 52,
   "id": "19b78808",
   "metadata": {
    "execution": {
     "iopub.execute_input": "2025-01-15T08:56:51.041923Z",
     "iopub.status.busy": "2025-01-15T08:56:51.041676Z",
     "iopub.status.idle": "2025-01-15T14:18:58.933235Z",
     "shell.execute_reply": "2025-01-15T14:18:58.932285Z"
    },
    "papermill": {
     "duration": 19327.916953,
     "end_time": "2025-01-15T14:18:58.935201",
     "exception": false,
     "start_time": "2025-01-15T08:56:51.018248",
     "status": "completed"
    },
    "tags": []
   },
   "outputs": [
    {
     "name": "stderr",
     "output_type": "stream",
     "text": [
      "\u001b[34m\u001b[1mwandb\u001b[0m: Using wandb-core as the SDK backend.  Please refer to https://wandb.me/wandb-core for more information.\n"
     ]
    },
    {
     "name": "stdout",
     "output_type": "stream",
     "text": [
      "\n",
      "Starting Fold 1/5\n"
     ]
    },
    {
     "name": "stderr",
     "output_type": "stream",
     "text": [
      "\u001b[34m\u001b[1mwandb\u001b[0m: Tracking run with wandb version 0.19.3\n",
      "\u001b[34m\u001b[1mwandb\u001b[0m: Run data is saved locally in \u001b[35m\u001b[1m/kaggle/working/wandb/run-20250115_085651-ziinp3rr\u001b[0m\n",
      "\u001b[34m\u001b[1mwandb\u001b[0m: Run \u001b[1m`wandb offline`\u001b[0m to turn off syncing.\n",
      "\u001b[34m\u001b[1mwandb\u001b[0m: Syncing run \u001b[33mfold-0|img-224|model-tf_efficientnet_b4_ns|batchsize-16|scheduler-ReduceLROnPlateau\u001b[0m\n",
      "\u001b[34m\u001b[1mwandb\u001b[0m: ⭐️ View project at \u001b[34m\u001b[4mhttps://wandb.ai/mi79/skin-cancer-binary?apiKey=244773078898fd316c90a967a85e54043c14bb63\u001b[0m\n",
      "\u001b[34m\u001b[1mwandb\u001b[0m: 🚀 View run at \u001b[34m\u001b[4mhttps://wandb.ai/mi79/skin-cancer-binary/runs/ziinp3rr?apiKey=244773078898fd316c90a967a85e54043c14bb63\u001b[0m\n",
      "\u001b[34m\u001b[1mwandb\u001b[0m: \u001b[33mWARNING\u001b[0m Do NOT share these links with anyone. They can be used to claim your runs.\n"
     ]
    },
    {
     "name": "stdout",
     "output_type": "stream",
     "text": [
      "torch.Size([16, 3, 224, 224])\n",
      "torch.Size([16])\n"
     ]
    },
    {
     "data": {
      "application/vnd.jupyter.widget-view+json": {
       "model_id": "2c99edd95b25423094e13ab5550eff30",
       "version_major": 2,
       "version_minor": 0
      },
      "text/plain": [
       "model.safetensors:   0%|          | 0.00/77.9M [00:00<?, ?B/s]"
      ]
     },
     "metadata": {},
     "output_type": "display_data"
    },
    {
     "name": "stdout",
     "output_type": "stream",
     "text": [
      "[INFO] Using GPU: Tesla P100-PCIE-16GB\n",
      "\n"
     ]
    },
    {
     "name": "stderr",
     "output_type": "stream",
     "text": [
      "100%|██████████| 759/759 [03:30<00:00,  3.61it/s, AUROC=0.863, Accuracy=0.783, Epoch=1, LR=0.0001, Precision=0.787, Recall=0.786, Train_Loss=0.467]\n",
      "100%|██████████| 48/48 [00:19<00:00,  2.42it/s, AUROC=0.923, Accuracy=0.829, Epoch=1, Precision=0.775, Recall=0.934, Valid_Loss=0.386]\n"
     ]
    },
    {
     "name": "stdout",
     "output_type": "stream",
     "text": [
      "Validation AUROC Improved (inf -> 0.3858)\n"
     ]
    },
    {
     "name": "stderr",
     "output_type": "stream",
     "text": [
      "100%|██████████| 759/759 [03:29<00:00,  3.63it/s, AUROC=0.904, Accuracy=0.822, Epoch=2, LR=0.0001, Precision=0.819, Recall=0.836, Train_Loss=0.394]\n",
      "100%|██████████| 48/48 [00:18<00:00,  2.61it/s, AUROC=0.937, Accuracy=0.864, Epoch=2, Precision=0.854, Recall=0.884, Valid_Loss=0.323]\n"
     ]
    },
    {
     "name": "stdout",
     "output_type": "stream",
     "text": [
      "Validation AUROC Improved (0.3858 -> 0.3228)\n"
     ]
    },
    {
     "name": "stderr",
     "output_type": "stream",
     "text": [
      "100%|██████████| 759/759 [03:29<00:00,  3.62it/s, AUROC=0.924, Accuracy=0.847, Epoch=3, LR=0.0001, Precision=0.844, Recall=0.859, Train_Loss=0.352]\n",
      "100%|██████████| 48/48 [00:18<00:00,  2.61it/s, AUROC=0.945, Accuracy=0.869, Epoch=3, Precision=0.836, Recall=0.924, Valid_Loss=0.315]\n"
     ]
    },
    {
     "name": "stdout",
     "output_type": "stream",
     "text": [
      "Validation AUROC Improved (0.3228 -> 0.3154)\n"
     ]
    },
    {
     "name": "stderr",
     "output_type": "stream",
     "text": [
      "100%|██████████| 759/759 [03:29<00:00,  3.63it/s, AUROC=0.938, Accuracy=0.865, Epoch=4, LR=0.0001, Precision=0.861, Recall=0.876, Train_Loss=0.317]\n",
      "100%|██████████| 48/48 [00:18<00:00,  2.56it/s, AUROC=0.945, Accuracy=0.869, Epoch=4, Precision=0.833, Recall=0.928, Valid_Loss=0.317]"
     ]
    },
    {
     "name": "stdout",
     "output_type": "stream",
     "text": [
      "No improvement for 1 epoch(s).\n"
     ]
    },
    {
     "name": "stderr",
     "output_type": "stream",
     "text": [
      "\n",
      "100%|██████████| 759/759 [03:29<00:00,  3.63it/s, AUROC=0.948, Accuracy=0.879, Epoch=5, LR=0.0001, Precision=0.874, Recall=0.889, Train_Loss=0.29]\n",
      "100%|██████████| 48/48 [00:18<00:00,  2.55it/s, AUROC=0.951, Accuracy=0.878, Epoch=5, Precision=0.851, Recall=0.921, Valid_Loss=0.292]\n"
     ]
    },
    {
     "name": "stdout",
     "output_type": "stream",
     "text": [
      "Validation AUROC Improved (0.3154 -> 0.2921)\n"
     ]
    },
    {
     "name": "stderr",
     "output_type": "stream",
     "text": [
      "100%|██████████| 759/759 [03:29<00:00,  3.62it/s, AUROC=0.957, Accuracy=0.891, Epoch=6, LR=0.0001, Precision=0.888, Recall=0.899, Train_Loss=0.265]\n",
      "100%|██████████| 48/48 [00:19<00:00,  2.52it/s, AUROC=0.955, Accuracy=0.886, Epoch=6, Precision=0.855, Recall=0.934, Valid_Loss=0.288]\n"
     ]
    },
    {
     "name": "stdout",
     "output_type": "stream",
     "text": [
      "Validation AUROC Improved (0.2921 -> 0.2884)\n"
     ]
    },
    {
     "name": "stderr",
     "output_type": "stream",
     "text": [
      "100%|██████████| 759/759 [03:28<00:00,  3.64it/s, AUROC=0.966, Accuracy=0.904, Epoch=7, LR=0.0001, Precision=0.899, Recall=0.913, Train_Loss=0.236]\n",
      "100%|██████████| 48/48 [00:18<00:00,  2.57it/s, AUROC=0.955, Accuracy=0.889, Epoch=7, Precision=0.863, Recall=0.928, Valid_Loss=0.292]"
     ]
    },
    {
     "name": "stdout",
     "output_type": "stream",
     "text": [
      "No improvement for 1 epoch(s).\n"
     ]
    },
    {
     "name": "stderr",
     "output_type": "stream",
     "text": [
      "\n",
      "100%|██████████| 759/759 [03:28<00:00,  3.65it/s, AUROC=0.97, Accuracy=0.911, Epoch=8, LR=0.0001, Precision=0.905, Recall=0.921, Train_Loss=0.222]\n",
      "100%|██████████| 48/48 [00:18<00:00,  2.58it/s, AUROC=0.956, Accuracy=0.888, Epoch=8, Precision=0.866, Recall=0.922, Valid_Loss=0.273]\n"
     ]
    },
    {
     "name": "stdout",
     "output_type": "stream",
     "text": [
      "Validation AUROC Improved (0.2884 -> 0.2731)\n"
     ]
    },
    {
     "name": "stderr",
     "output_type": "stream",
     "text": [
      "100%|██████████| 759/759 [03:30<00:00,  3.61it/s, AUROC=0.976, Accuracy=0.924, Epoch=9, LR=0.0001, Precision=0.922, Recall=0.93, Train_Loss=0.198]\n",
      "100%|██████████| 48/48 [00:18<00:00,  2.56it/s, AUROC=0.955, Accuracy=0.877, Epoch=9, Precision=0.836, Recall=0.942, Valid_Loss=0.313]"
     ]
    },
    {
     "name": "stdout",
     "output_type": "stream",
     "text": [
      "No improvement for 1 epoch(s).\n"
     ]
    },
    {
     "name": "stderr",
     "output_type": "stream",
     "text": [
      "\n",
      "100%|██████████| 759/759 [03:28<00:00,  3.63it/s, AUROC=0.981, Accuracy=0.932, Epoch=10, LR=0.0001, Precision=0.927, Recall=0.939, Train_Loss=0.176]\n",
      "100%|██████████| 48/48 [00:18<00:00,  2.54it/s, AUROC=0.956, Accuracy=0.895, Epoch=10, Precision=0.89, Recall=0.906, Valid_Loss=0.298]"
     ]
    },
    {
     "name": "stdout",
     "output_type": "stream",
     "text": [
      "No improvement for 2 epoch(s).\n"
     ]
    },
    {
     "name": "stderr",
     "output_type": "stream",
     "text": [
      "\n",
      "100%|██████████| 759/759 [03:30<00:00,  3.61it/s, AUROC=0.984, Accuracy=0.939, Epoch=11, LR=0.0001, Precision=0.934, Recall=0.947, Train_Loss=0.161]\n",
      "100%|██████████| 48/48 [00:18<00:00,  2.58it/s, AUROC=0.957, Accuracy=0.898, Epoch=11, Precision=0.888, Recall=0.915, Valid_Loss=0.304]"
     ]
    },
    {
     "name": "stdout",
     "output_type": "stream",
     "text": [
      "No improvement for 3 epoch(s).\n"
     ]
    },
    {
     "name": "stderr",
     "output_type": "stream",
     "text": [
      "\n",
      "100%|██████████| 759/759 [03:28<00:00,  3.63it/s, AUROC=0.987, Accuracy=0.945, Epoch=12, LR=0.0001, Precision=0.943, Recall=0.948, Train_Loss=0.142]\n",
      "100%|██████████| 48/48 [00:18<00:00,  2.57it/s, AUROC=0.959, Accuracy=0.891, Epoch=12, Precision=0.861, Recall=0.937, Valid_Loss=0.329]"
     ]
    },
    {
     "name": "stdout",
     "output_type": "stream",
     "text": [
      "No improvement for 4 epoch(s).\n"
     ]
    },
    {
     "name": "stderr",
     "output_type": "stream",
     "text": [
      "\n",
      "100%|██████████| 759/759 [03:29<00:00,  3.61it/s, AUROC=0.988, Accuracy=0.947, Epoch=13, LR=0.0001, Precision=0.945, Recall=0.951, Train_Loss=0.139]\n",
      "100%|██████████| 48/48 [00:18<00:00,  2.57it/s, AUROC=0.955, Accuracy=0.896, Epoch=13, Precision=0.87, Recall=0.937, Valid_Loss=0.331]"
     ]
    },
    {
     "name": "stdout",
     "output_type": "stream",
     "text": [
      "No improvement for 5 epoch(s).\n"
     ]
    },
    {
     "name": "stderr",
     "output_type": "stream",
     "text": [
      "\n",
      "100%|██████████| 759/759 [03:28<00:00,  3.63it/s, AUROC=0.99, Accuracy=0.954, Epoch=14, LR=0.0001, Precision=0.951, Recall=0.958, Train_Loss=0.123]\n",
      "100%|██████████| 48/48 [00:18<00:00,  2.56it/s, AUROC=0.956, Accuracy=0.888, Epoch=14, Precision=0.874, Recall=0.912, Valid_Loss=0.315]"
     ]
    },
    {
     "name": "stdout",
     "output_type": "stream",
     "text": [
      "No improvement for 6 epoch(s).\n"
     ]
    },
    {
     "name": "stderr",
     "output_type": "stream",
     "text": [
      "\n",
      "100%|██████████| 759/759 [03:28<00:00,  3.63it/s, AUROC=0.992, Accuracy=0.957, Epoch=15, LR=0.0001, Precision=0.955, Recall=0.961, Train_Loss=0.113]\n",
      "100%|██████████| 48/48 [00:19<00:00,  2.44it/s, AUROC=0.956, Accuracy=0.894, Epoch=15, Precision=0.89, Recall=0.904, Valid_Loss=0.379]"
     ]
    },
    {
     "name": "stdout",
     "output_type": "stream",
     "text": [
      "No improvement for 7 epoch(s).\n"
     ]
    },
    {
     "name": "stderr",
     "output_type": "stream",
     "text": [
      "\n",
      "100%|██████████| 759/759 [03:30<00:00,  3.60it/s, AUROC=0.993, Accuracy=0.96, Epoch=16, LR=0.0001, Precision=0.957, Recall=0.964, Train_Loss=0.106]\n",
      "100%|██████████| 48/48 [00:18<00:00,  2.58it/s, AUROC=0.95, Accuracy=0.892, Epoch=16, Precision=0.872, Recall=0.924, Valid_Loss=0.369]"
     ]
    },
    {
     "name": "stdout",
     "output_type": "stream",
     "text": [
      "No improvement for 8 epoch(s).\n"
     ]
    },
    {
     "name": "stderr",
     "output_type": "stream",
     "text": [
      "\n",
      "100%|██████████| 759/759 [03:29<00:00,  3.62it/s, AUROC=0.994, Accuracy=0.964, Epoch=17, LR=0.0001, Precision=0.963, Recall=0.967, Train_Loss=0.099]\n",
      "100%|██████████| 48/48 [00:18<00:00,  2.54it/s, AUROC=0.958, Accuracy=0.896, Epoch=17, Precision=0.866, Recall=0.941, Valid_Loss=0.367]"
     ]
    },
    {
     "name": "stdout",
     "output_type": "stream",
     "text": [
      "No improvement for 9 epoch(s).\n"
     ]
    },
    {
     "name": "stderr",
     "output_type": "stream",
     "text": [
      "\n",
      "100%|██████████| 759/759 [03:28<00:00,  3.64it/s, AUROC=0.994, Accuracy=0.968, Epoch=18, LR=0.0001, Precision=0.968, Recall=0.969, Train_Loss=0.098]\n",
      "100%|██████████| 48/48 [00:18<00:00,  2.56it/s, AUROC=0.959, Accuracy=0.9, Epoch=18, Precision=0.871, Recall=0.944, Valid_Loss=0.339]"
     ]
    },
    {
     "name": "stdout",
     "output_type": "stream",
     "text": [
      "No improvement for 10 epoch(s).\n"
     ]
    },
    {
     "name": "stderr",
     "output_type": "stream",
     "text": [
      "\n",
      "100%|██████████| 759/759 [03:29<00:00,  3.63it/s, AUROC=0.995, Accuracy=0.97, Epoch=19, LR=0.0001, Precision=0.967, Recall=0.974, Train_Loss=0.0854]\n",
      "100%|██████████| 48/48 [00:18<00:00,  2.54it/s, AUROC=0.959, Accuracy=0.902, Epoch=19, Precision=0.882, Recall=0.931, Valid_Loss=0.309]\n"
     ]
    },
    {
     "name": "stdout",
     "output_type": "stream",
     "text": [
      "No improvement for 11 epoch(s).\n",
      "Early stopping triggered.\n",
      "Training complete in 72m 20s\n",
      "Best val loss: 0.2731\n"
     ]
    },
    {
     "name": "stderr",
     "output_type": "stream",
     "text": [
      "\u001b[34m\u001b[1mwandb\u001b[0m: uploading best_model_fold_3.pth; uploading best_model_fold_5.pth; uploading best_model_fold_6.pth; uploading best_model_fold_8.pth; uploading best_model_fold_1.pth (+ 1 more)\n",
      "\u001b[34m\u001b[1mwandb\u001b[0m:                                                                                \n",
      "\u001b[34m\u001b[1mwandb\u001b[0m: \n",
      "\u001b[34m\u001b[1mwandb\u001b[0m: Run history:\n",
      "\u001b[34m\u001b[1mwandb\u001b[0m:              LR ▁▁▁▁▁▁▁▁▁▁▁▁▁▁▁▁▁▁▁\n",
      "\u001b[34m\u001b[1mwandb\u001b[0m:     Train AUROC ▁▂▃▄▅▅▆▆▆▇▇▇▇▇█████\n",
      "\u001b[34m\u001b[1mwandb\u001b[0m:  Train Accuracy ▁▂▃▄▄▅▅▆▆▆▇▇▇▇█████\n",
      "\u001b[34m\u001b[1mwandb\u001b[0m:      Train Loss █▇▆▅▅▄▄▄▃▃▂▂▂▂▁▁▁▁▁\n",
      "\u001b[34m\u001b[1mwandb\u001b[0m: Train Precision ▁▃▄▄▅▅▆▆▆▇▇▇▇▇█████\n",
      "\u001b[34m\u001b[1mwandb\u001b[0m:    Train Recall ▁▃▄▅▆▆▆▇▇▇▇████████\n",
      "\u001b[34m\u001b[1mwandb\u001b[0m:     Valid AUROC ▁▄▅▅▆▇▇▇▆▇█▇▇▇▇▇▇██\n",
      "\u001b[34m\u001b[1mwandb\u001b[0m:  Valid Accuracy ▁▆▅▅▆▆▆▇▅██▆▇▇█▇▇▇█\n",
      "\u001b[34m\u001b[1mwandb\u001b[0m:      Valid Loss █▄▄▄▂▂▂▁▄▃▃▄▅▄█▇▇▅▃\n",
      "\u001b[34m\u001b[1mwandb\u001b[0m: Valid Precision ▇▁▆▆▅▇▆▅█▄▅▇▇▄▃▆██▆\n",
      "\u001b[34m\u001b[1mwandb\u001b[0m:    Valid Recall ▁▄▅▅▆▇▇▇▇▇▇█▇▇▇▆███\n",
      "\u001b[34m\u001b[1mwandb\u001b[0m: \n",
      "\u001b[34m\u001b[1mwandb\u001b[0m: Run summary:\n",
      "\u001b[34m\u001b[1mwandb\u001b[0m:              LR 0.0001\n",
      "\u001b[34m\u001b[1mwandb\u001b[0m:     Train AUROC 0.96978\n",
      "\u001b[34m\u001b[1mwandb\u001b[0m:  Train Accuracy 0.96717\n",
      "\u001b[34m\u001b[1mwandb\u001b[0m:      Train Loss 0.0854\n",
      "\u001b[34m\u001b[1mwandb\u001b[0m: Train Precision 0.97359\n",
      "\u001b[34m\u001b[1mwandb\u001b[0m:    Train Recall 0.99523\n",
      "\u001b[34m\u001b[1mwandb\u001b[0m:     Valid AUROC 0.90161\n",
      "\u001b[34m\u001b[1mwandb\u001b[0m:  Valid Accuracy 0.88221\n",
      "\u001b[34m\u001b[1mwandb\u001b[0m:      Valid Loss 0.30867\n",
      "\u001b[34m\u001b[1mwandb\u001b[0m: Valid Precision 0.93074\n",
      "\u001b[34m\u001b[1mwandb\u001b[0m:    Valid Recall 0.95944\n",
      "\u001b[34m\u001b[1mwandb\u001b[0m: \n",
      "\u001b[34m\u001b[1mwandb\u001b[0m: 🚀 View run \u001b[33mfold-0|img-224|model-tf_efficientnet_b4_ns|batchsize-16|scheduler-ReduceLROnPlateau\u001b[0m at: \u001b[34m\u001b[4mhttps://wandb.ai/mi79/skin-cancer-binary/runs/ziinp3rr?apiKey=244773078898fd316c90a967a85e54043c14bb63\u001b[0m\n",
      "\u001b[34m\u001b[1mwandb\u001b[0m: ⭐️ View project at: \u001b[34m\u001b[4mhttps://wandb.ai/mi79/skin-cancer-binary?apiKey=244773078898fd316c90a967a85e54043c14bb63\u001b[0m\n",
      "\u001b[34m\u001b[1mwandb\u001b[0m: Synced 5 W&B file(s), 0 media file(s), 0 artifact file(s) and 6 other file(s)\n",
      "\u001b[34m\u001b[1mwandb\u001b[0m: Find logs at: \u001b[35m\u001b[1m./wandb/run-20250115_085651-ziinp3rr/logs\u001b[0m\n"
     ]
    },
    {
     "name": "stdout",
     "output_type": "stream",
     "text": [
      "\n",
      "Starting Fold 2/5\n"
     ]
    },
    {
     "name": "stderr",
     "output_type": "stream",
     "text": [
      "\u001b[34m\u001b[1mwandb\u001b[0m: Tracking run with wandb version 0.19.3\n",
      "\u001b[34m\u001b[1mwandb\u001b[0m: Run data is saved locally in \u001b[35m\u001b[1m/kaggle/working/wandb/run-20250115_100917-nziitl03\u001b[0m\n",
      "\u001b[34m\u001b[1mwandb\u001b[0m: Run \u001b[1m`wandb offline`\u001b[0m to turn off syncing.\n",
      "\u001b[34m\u001b[1mwandb\u001b[0m: Syncing run \u001b[33mfold-1|img-224|model-tf_efficientnet_b4_ns|batchsize-16|scheduler-ReduceLROnPlateau\u001b[0m\n",
      "\u001b[34m\u001b[1mwandb\u001b[0m: ⭐️ View project at \u001b[34m\u001b[4mhttps://wandb.ai/mi79/skin-cancer-binary?apiKey=244773078898fd316c90a967a85e54043c14bb63\u001b[0m\n",
      "\u001b[34m\u001b[1mwandb\u001b[0m: 🚀 View run at \u001b[34m\u001b[4mhttps://wandb.ai/mi79/skin-cancer-binary/runs/nziitl03?apiKey=244773078898fd316c90a967a85e54043c14bb63\u001b[0m\n",
      "\u001b[34m\u001b[1mwandb\u001b[0m: \u001b[33mWARNING\u001b[0m Do NOT share these links with anyone. They can be used to claim your runs.\n"
     ]
    },
    {
     "name": "stdout",
     "output_type": "stream",
     "text": [
      "torch.Size([16, 3, 224, 224])\n",
      "torch.Size([16])\n",
      "[INFO] Using GPU: Tesla P100-PCIE-16GB\n",
      "\n"
     ]
    },
    {
     "name": "stderr",
     "output_type": "stream",
     "text": [
      "100%|██████████| 759/759 [03:29<00:00,  3.63it/s, AUROC=0.868, Accuracy=0.789, Epoch=1, LR=0.0001, Precision=0.79, Recall=0.797, Train_Loss=0.457]\n",
      "100%|██████████| 48/48 [00:18<00:00,  2.57it/s, AUROC=0.919, Accuracy=0.844, Epoch=1, Precision=0.824, Recall=0.882, Valid_Loss=0.366]\n"
     ]
    },
    {
     "name": "stdout",
     "output_type": "stream",
     "text": [
      "Validation AUROC Improved (inf -> 0.3656)\n"
     ]
    },
    {
     "name": "stderr",
     "output_type": "stream",
     "text": [
      "100%|██████████| 759/759 [03:30<00:00,  3.60it/s, AUROC=0.906, Accuracy=0.829, Epoch=2, LR=0.0001, Precision=0.823, Recall=0.846, Train_Loss=0.391]\n",
      "100%|██████████| 48/48 [00:18<00:00,  2.55it/s, AUROC=0.936, Accuracy=0.851, Epoch=2, Precision=0.81, Recall=0.924, Valid_Loss=0.335]\n"
     ]
    },
    {
     "name": "stdout",
     "output_type": "stream",
     "text": [
      "Validation AUROC Improved (0.3656 -> 0.3353)\n"
     ]
    },
    {
     "name": "stderr",
     "output_type": "stream",
     "text": [
      "100%|██████████| 759/759 [03:30<00:00,  3.60it/s, AUROC=0.928, Accuracy=0.853, Epoch=3, LR=0.0001, Precision=0.844, Recall=0.872, Train_Loss=0.343]\n",
      "100%|██████████| 48/48 [00:19<00:00,  2.49it/s, AUROC=0.939, Accuracy=0.851, Epoch=3, Precision=0.803, Recall=0.936, Valid_Loss=0.337]"
     ]
    },
    {
     "name": "stdout",
     "output_type": "stream",
     "text": [
      "No improvement for 1 epoch(s).\n"
     ]
    },
    {
     "name": "stderr",
     "output_type": "stream",
     "text": [
      "\n",
      "100%|██████████| 759/759 [03:30<00:00,  3.60it/s, AUROC=0.941, Accuracy=0.868, Epoch=4, LR=0.0001, Precision=0.862, Recall=0.881, Train_Loss=0.31]\n",
      "100%|██████████| 48/48 [00:18<00:00,  2.53it/s, AUROC=0.94, Accuracy=0.863, Epoch=4, Precision=0.825, Recall=0.927, Valid_Loss=0.329]\n"
     ]
    },
    {
     "name": "stdout",
     "output_type": "stream",
     "text": [
      "Validation AUROC Improved (0.3353 -> 0.3291)\n"
     ]
    },
    {
     "name": "stderr",
     "output_type": "stream",
     "text": [
      "100%|██████████| 759/759 [03:31<00:00,  3.59it/s, AUROC=0.946, Accuracy=0.875, Epoch=5, LR=0.0001, Precision=0.869, Recall=0.889, Train_Loss=0.297]\n",
      "100%|██████████| 48/48 [00:18<00:00,  2.54it/s, AUROC=0.947, Accuracy=0.872, Epoch=5, Precision=0.841, Recall=0.922, Valid_Loss=0.304]\n"
     ]
    },
    {
     "name": "stdout",
     "output_type": "stream",
     "text": [
      "Validation AUROC Improved (0.3291 -> 0.3037)\n"
     ]
    },
    {
     "name": "stderr",
     "output_type": "stream",
     "text": [
      "100%|██████████| 759/759 [03:31<00:00,  3.60it/s, AUROC=0.96, Accuracy=0.894, Epoch=6, LR=0.0001, Precision=0.884, Recall=0.911, Train_Loss=0.254]\n",
      "100%|██████████| 48/48 [00:18<00:00,  2.60it/s, AUROC=0.947, Accuracy=0.88, Epoch=6, Precision=0.879, Recall=0.885, Valid_Loss=0.303]\n"
     ]
    },
    {
     "name": "stdout",
     "output_type": "stream",
     "text": [
      "Validation AUROC Improved (0.3037 -> 0.3027)\n"
     ]
    },
    {
     "name": "stderr",
     "output_type": "stream",
     "text": [
      "100%|██████████| 759/759 [03:29<00:00,  3.62it/s, AUROC=0.967, Accuracy=0.906, Epoch=7, LR=0.0001, Precision=0.9, Recall=0.916, Train_Loss=0.232]\n",
      "100%|██████████| 48/48 [00:19<00:00,  2.52it/s, AUROC=0.945, Accuracy=0.876, Epoch=7, Precision=0.886, Recall=0.868, Valid_Loss=0.316]"
     ]
    },
    {
     "name": "stdout",
     "output_type": "stream",
     "text": [
      "No improvement for 1 epoch(s).\n"
     ]
    },
    {
     "name": "stderr",
     "output_type": "stream",
     "text": [
      "\n",
      "100%|██████████| 759/759 [03:30<00:00,  3.61it/s, AUROC=0.972, Accuracy=0.914, Epoch=8, LR=0.0001, Precision=0.907, Recall=0.925, Train_Loss=0.213]\n",
      "100%|██████████| 48/48 [00:18<00:00,  2.58it/s, AUROC=0.952, Accuracy=0.877, Epoch=8, Precision=0.852, Recall=0.918, Valid_Loss=0.316]"
     ]
    },
    {
     "name": "stdout",
     "output_type": "stream",
     "text": [
      "No improvement for 2 epoch(s).\n"
     ]
    },
    {
     "name": "stderr",
     "output_type": "stream",
     "text": [
      "\n",
      "100%|██████████| 759/759 [03:29<00:00,  3.62it/s, AUROC=0.979, Accuracy=0.929, Epoch=9, LR=0.0001, Precision=0.925, Recall=0.936, Train_Loss=0.183]\n",
      "100%|██████████| 48/48 [00:18<00:00,  2.60it/s, AUROC=0.95, Accuracy=0.875, Epoch=9, Precision=0.848, Recall=0.92, Valid_Loss=0.333]"
     ]
    },
    {
     "name": "stdout",
     "output_type": "stream",
     "text": [
      "No improvement for 3 epoch(s).\n"
     ]
    },
    {
     "name": "stderr",
     "output_type": "stream",
     "text": [
      "\n",
      "100%|██████████| 759/759 [03:28<00:00,  3.63it/s, AUROC=0.982, Accuracy=0.934, Epoch=10, LR=0.0001, Precision=0.93, Recall=0.94, Train_Loss=0.17]\n",
      "100%|██████████| 48/48 [00:19<00:00,  2.51it/s, AUROC=0.953, Accuracy=0.875, Epoch=10, Precision=0.83, Recall=0.95, Valid_Loss=0.362]"
     ]
    },
    {
     "name": "stdout",
     "output_type": "stream",
     "text": [
      "No improvement for 4 epoch(s).\n"
     ]
    },
    {
     "name": "stderr",
     "output_type": "stream",
     "text": [
      "\n",
      "100%|██████████| 759/759 [03:29<00:00,  3.62it/s, AUROC=0.985, Accuracy=0.939, Epoch=11, LR=0.0001, Precision=0.938, Recall=0.943, Train_Loss=0.158]\n",
      "100%|██████████| 48/48 [00:18<00:00,  2.53it/s, AUROC=0.945, Accuracy=0.88, Epoch=11, Precision=0.871, Recall=0.897, Valid_Loss=0.336]"
     ]
    },
    {
     "name": "stdout",
     "output_type": "stream",
     "text": [
      "No improvement for 5 epoch(s).\n"
     ]
    },
    {
     "name": "stderr",
     "output_type": "stream",
     "text": [
      "\n",
      "100%|██████████| 759/759 [03:28<00:00,  3.64it/s, AUROC=0.988, Accuracy=0.947, Epoch=12, LR=0.0001, Precision=0.945, Recall=0.951, Train_Loss=0.139]\n",
      "100%|██████████| 48/48 [00:18<00:00,  2.61it/s, AUROC=0.956, Accuracy=0.89, Epoch=12, Precision=0.882, Recall=0.904, Valid_Loss=0.321]"
     ]
    },
    {
     "name": "stdout",
     "output_type": "stream",
     "text": [
      "No improvement for 6 epoch(s).\n"
     ]
    },
    {
     "name": "stderr",
     "output_type": "stream",
     "text": [
      "\n",
      "100%|██████████| 759/759 [03:27<00:00,  3.66it/s, AUROC=0.988, Accuracy=0.947, Epoch=13, LR=0.0001, Precision=0.944, Recall=0.953, Train_Loss=0.135]\n",
      "100%|██████████| 48/48 [00:18<00:00,  2.65it/s, AUROC=0.953, Accuracy=0.882, Epoch=13, Precision=0.857, Recall=0.922, Valid_Loss=0.342]"
     ]
    },
    {
     "name": "stdout",
     "output_type": "stream",
     "text": [
      "No improvement for 7 epoch(s).\n"
     ]
    },
    {
     "name": "stderr",
     "output_type": "stream",
     "text": [
      "\n",
      "100%|██████████| 759/759 [03:29<00:00,  3.62it/s, AUROC=0.992, Accuracy=0.956, Epoch=14, LR=0.0001, Precision=0.954, Recall=0.96, Train_Loss=0.114]\n",
      "100%|██████████| 48/48 [00:18<00:00,  2.59it/s, AUROC=0.956, Accuracy=0.889, Epoch=14, Precision=0.871, Recall=0.917, Valid_Loss=0.338]"
     ]
    },
    {
     "name": "stdout",
     "output_type": "stream",
     "text": [
      "No improvement for 8 epoch(s).\n"
     ]
    },
    {
     "name": "stderr",
     "output_type": "stream",
     "text": [
      "\n",
      "100%|██████████| 759/759 [03:28<00:00,  3.65it/s, AUROC=0.991, Accuracy=0.956, Epoch=15, LR=0.0001, Precision=0.954, Recall=0.96, Train_Loss=0.117]\n",
      "100%|██████████| 48/48 [00:18<00:00,  2.56it/s, AUROC=0.953, Accuracy=0.884, Epoch=15, Precision=0.867, Recall=0.912, Valid_Loss=0.345]"
     ]
    },
    {
     "name": "stdout",
     "output_type": "stream",
     "text": [
      "No improvement for 9 epoch(s).\n"
     ]
    },
    {
     "name": "stderr",
     "output_type": "stream",
     "text": [
      "\n",
      "100%|██████████| 759/759 [03:28<00:00,  3.64it/s, AUROC=0.994, Accuracy=0.963, Epoch=16, LR=0.0001, Precision=0.962, Recall=0.966, Train_Loss=0.0985]\n",
      "100%|██████████| 48/48 [00:18<00:00,  2.65it/s, AUROC=0.952, Accuracy=0.887, Epoch=16, Precision=0.872, Recall=0.912, Valid_Loss=0.376]"
     ]
    },
    {
     "name": "stdout",
     "output_type": "stream",
     "text": [
      "No improvement for 10 epoch(s).\n"
     ]
    },
    {
     "name": "stderr",
     "output_type": "stream",
     "text": [
      "\n",
      "100%|██████████| 759/759 [03:29<00:00,  3.63it/s, AUROC=0.994, Accuracy=0.964, Epoch=17, LR=0.0001, Precision=0.962, Recall=0.967, Train_Loss=0.096]\n",
      "100%|██████████| 48/48 [00:19<00:00,  2.52it/s, AUROC=0.953, Accuracy=0.88, Epoch=17, Precision=0.86, Recall=0.913, Valid_Loss=0.338]\n"
     ]
    },
    {
     "name": "stdout",
     "output_type": "stream",
     "text": [
      "No improvement for 11 epoch(s).\n",
      "Early stopping triggered.\n",
      "Training complete in 64m 45s\n",
      "Best val loss: 0.3027\n"
     ]
    },
    {
     "name": "stderr",
     "output_type": "stream",
     "text": [
      "\u001b[34m\u001b[1mwandb\u001b[0m: uploading best_model_fold_4.pth; uploading best_model_fold_5.pth; uploading best_model_fold_6.pth; uploading best_model_fold_1.pth; uploading best_model_fold_2.pth\n",
      "\u001b[34m\u001b[1mwandb\u001b[0m:                                                                                \n",
      "\u001b[34m\u001b[1mwandb\u001b[0m: \n",
      "\u001b[34m\u001b[1mwandb\u001b[0m: Run history:\n",
      "\u001b[34m\u001b[1mwandb\u001b[0m:              LR ▁▁▁▁▁▁▁▁▁▁▁▁▁▁▁▁▁\n",
      "\u001b[34m\u001b[1mwandb\u001b[0m:     Train AUROC ▁▃▄▄▄▅▆▆▇▇▇▇▇████\n",
      "\u001b[34m\u001b[1mwandb\u001b[0m:  Train Accuracy ▁▂▃▄▄▅▅▆▆▇▇▇▇████\n",
      "\u001b[34m\u001b[1mwandb\u001b[0m:      Train Loss █▇▆▅▅▄▄▃▃▂▂▂▂▁▁▁▁\n",
      "\u001b[34m\u001b[1mwandb\u001b[0m: Train Precision ▁▃▄▄▅▆▆▆▇▇▇▇▇████\n",
      "\u001b[34m\u001b[1mwandb\u001b[0m:    Train Recall ▁▃▄▅▅▆▆▇▇▇▇██████\n",
      "\u001b[34m\u001b[1mwandb\u001b[0m:     Valid AUROC ▁▂▂▄▅▆▆▆▆▆▆█▇█▇█▇\n",
      "\u001b[34m\u001b[1mwandb\u001b[0m:  Valid Accuracy ▃▂▁▃▄▇█▅▅▃▇█▆▇▆▇▆\n",
      "\u001b[34m\u001b[1mwandb\u001b[0m:      Valid Loss ▇▄▄▄▁▁▂▂▄▇▄▃▅▄▅█▄\n",
      "\u001b[34m\u001b[1mwandb\u001b[0m: Valid Precision ▂▆▇▆▆▂▁▅▅█▄▄▆▅▅▅▅\n",
      "\u001b[34m\u001b[1mwandb\u001b[0m:    Valid Recall ▁▄▅▅▆▆▆▇▇▇▆█▇█▇▇▇\n",
      "\u001b[34m\u001b[1mwandb\u001b[0m: \n",
      "\u001b[34m\u001b[1mwandb\u001b[0m: Run summary:\n",
      "\u001b[34m\u001b[1mwandb\u001b[0m:              LR 0.0001\n",
      "\u001b[34m\u001b[1mwandb\u001b[0m:     Train AUROC 0.9636\n",
      "\u001b[34m\u001b[1mwandb\u001b[0m:  Train Accuracy 0.96152\n",
      "\u001b[34m\u001b[1mwandb\u001b[0m:      Train Loss 0.096\n",
      "\u001b[34m\u001b[1mwandb\u001b[0m: Train Precision 0.96713\n",
      "\u001b[34m\u001b[1mwandb\u001b[0m:    Train Recall 0.99411\n",
      "\u001b[34m\u001b[1mwandb\u001b[0m:     Valid AUROC 0.88022\n",
      "\u001b[34m\u001b[1mwandb\u001b[0m:  Valid Accuracy 0.86028\n",
      "\u001b[34m\u001b[1mwandb\u001b[0m:      Valid Loss 0.33814\n",
      "\u001b[34m\u001b[1mwandb\u001b[0m: Valid Precision 0.91262\n",
      "\u001b[34m\u001b[1mwandb\u001b[0m:    Valid Recall 0.95318\n",
      "\u001b[34m\u001b[1mwandb\u001b[0m: \n",
      "\u001b[34m\u001b[1mwandb\u001b[0m: 🚀 View run \u001b[33mfold-1|img-224|model-tf_efficientnet_b4_ns|batchsize-16|scheduler-ReduceLROnPlateau\u001b[0m at: \u001b[34m\u001b[4mhttps://wandb.ai/mi79/skin-cancer-binary/runs/nziitl03?apiKey=244773078898fd316c90a967a85e54043c14bb63\u001b[0m\n",
      "\u001b[34m\u001b[1mwandb\u001b[0m: ⭐️ View project at: \u001b[34m\u001b[4mhttps://wandb.ai/mi79/skin-cancer-binary?apiKey=244773078898fd316c90a967a85e54043c14bb63\u001b[0m\n",
      "\u001b[34m\u001b[1mwandb\u001b[0m: Synced 5 W&B file(s), 0 media file(s), 0 artifact file(s) and 5 other file(s)\n",
      "\u001b[34m\u001b[1mwandb\u001b[0m: Find logs at: \u001b[35m\u001b[1m./wandb/run-20250115_100917-nziitl03/logs\u001b[0m\n"
     ]
    },
    {
     "name": "stdout",
     "output_type": "stream",
     "text": [
      "\n",
      "Starting Fold 3/5\n"
     ]
    },
    {
     "name": "stderr",
     "output_type": "stream",
     "text": [
      "\u001b[34m\u001b[1mwandb\u001b[0m: Tracking run with wandb version 0.19.3\n",
      "\u001b[34m\u001b[1mwandb\u001b[0m: Run data is saved locally in \u001b[35m\u001b[1m/kaggle/working/wandb/run-20250115_111408-9culr6o2\u001b[0m\n",
      "\u001b[34m\u001b[1mwandb\u001b[0m: Run \u001b[1m`wandb offline`\u001b[0m to turn off syncing.\n",
      "\u001b[34m\u001b[1mwandb\u001b[0m: Syncing run \u001b[33mfold-2|img-224|model-tf_efficientnet_b4_ns|batchsize-16|scheduler-ReduceLROnPlateau\u001b[0m\n",
      "\u001b[34m\u001b[1mwandb\u001b[0m: ⭐️ View project at \u001b[34m\u001b[4mhttps://wandb.ai/mi79/skin-cancer-binary?apiKey=244773078898fd316c90a967a85e54043c14bb63\u001b[0m\n",
      "\u001b[34m\u001b[1mwandb\u001b[0m: 🚀 View run at \u001b[34m\u001b[4mhttps://wandb.ai/mi79/skin-cancer-binary/runs/9culr6o2?apiKey=244773078898fd316c90a967a85e54043c14bb63\u001b[0m\n",
      "\u001b[34m\u001b[1mwandb\u001b[0m: \u001b[33mWARNING\u001b[0m Do NOT share these links with anyone. They can be used to claim your runs.\n"
     ]
    },
    {
     "name": "stdout",
     "output_type": "stream",
     "text": [
      "torch.Size([16, 3, 224, 224])\n",
      "torch.Size([16])\n",
      "[INFO] Using GPU: Tesla P100-PCIE-16GB\n",
      "\n"
     ]
    },
    {
     "name": "stderr",
     "output_type": "stream",
     "text": [
      "100%|██████████| 759/759 [03:28<00:00,  3.64it/s, AUROC=0.864, Accuracy=0.782, Epoch=1, LR=0.0001, Precision=0.78, Recall=0.795, Train_Loss=0.464]\n",
      "100%|██████████| 48/48 [00:19<00:00,  2.50it/s, AUROC=0.917, Accuracy=0.838, Epoch=1, Precision=0.832, Recall=0.854, Valid_Loss=0.368]\n"
     ]
    },
    {
     "name": "stdout",
     "output_type": "stream",
     "text": [
      "Validation AUROC Improved (inf -> 0.3675)\n"
     ]
    },
    {
     "name": "stderr",
     "output_type": "stream",
     "text": [
      "100%|██████████| 759/759 [03:29<00:00,  3.62it/s, AUROC=0.909, Accuracy=0.832, Epoch=2, LR=0.0001, Precision=0.826, Recall=0.85, Train_Loss=0.383]\n",
      "100%|██████████| 48/48 [00:18<00:00,  2.60it/s, AUROC=0.928, Accuracy=0.843, Epoch=2, Precision=0.799, Recall=0.923, Valid_Loss=0.354]\n"
     ]
    },
    {
     "name": "stdout",
     "output_type": "stream",
     "text": [
      "Validation AUROC Improved (0.3675 -> 0.3540)\n"
     ]
    },
    {
     "name": "stderr",
     "output_type": "stream",
     "text": [
      "100%|██████████| 759/759 [03:29<00:00,  3.62it/s, AUROC=0.926, Accuracy=0.851, Epoch=3, LR=0.0001, Precision=0.846, Recall=0.864, Train_Loss=0.349]\n",
      "100%|██████████| 48/48 [00:18<00:00,  2.62it/s, AUROC=0.934, Accuracy=0.859, Epoch=3, Precision=0.861, Recall=0.863, Valid_Loss=0.327]\n"
     ]
    },
    {
     "name": "stdout",
     "output_type": "stream",
     "text": [
      "Validation AUROC Improved (0.3540 -> 0.3273)\n"
     ]
    },
    {
     "name": "stderr",
     "output_type": "stream",
     "text": [
      "100%|██████████| 759/759 [03:29<00:00,  3.62it/s, AUROC=0.939, Accuracy=0.865, Epoch=4, LR=0.0001, Precision=0.861, Recall=0.875, Train_Loss=0.317]\n",
      "100%|██████████| 48/48 [00:18<00:00,  2.54it/s, AUROC=0.94, Accuracy=0.857, Epoch=4, Precision=0.885, Recall=0.826, Valid_Loss=0.317]\n"
     ]
    },
    {
     "name": "stdout",
     "output_type": "stream",
     "text": [
      "Validation AUROC Improved (0.3273 -> 0.3174)\n"
     ]
    },
    {
     "name": "stderr",
     "output_type": "stream",
     "text": [
      "100%|██████████| 759/759 [03:29<00:00,  3.62it/s, AUROC=0.952, Accuracy=0.885, Epoch=5, LR=0.0001, Precision=0.877, Recall=0.9, Train_Loss=0.28]\n",
      "100%|██████████| 48/48 [00:18<00:00,  2.61it/s, AUROC=0.942, Accuracy=0.863, Epoch=5, Precision=0.86, Recall=0.874, Valid_Loss=0.31]\n"
     ]
    },
    {
     "name": "stdout",
     "output_type": "stream",
     "text": [
      "Validation AUROC Improved (0.3174 -> 0.3103)\n"
     ]
    },
    {
     "name": "stderr",
     "output_type": "stream",
     "text": [
      "100%|██████████| 759/759 [03:29<00:00,  3.63it/s, AUROC=0.961, Accuracy=0.899, Epoch=6, LR=0.0001, Precision=0.895, Recall=0.907, Train_Loss=0.254]\n",
      "100%|██████████| 48/48 [00:19<00:00,  2.51it/s, AUROC=0.943, Accuracy=0.862, Epoch=6, Precision=0.855, Recall=0.877, Valid_Loss=0.324]"
     ]
    },
    {
     "name": "stdout",
     "output_type": "stream",
     "text": [
      "No improvement for 1 epoch(s).\n"
     ]
    },
    {
     "name": "stderr",
     "output_type": "stream",
     "text": [
      "\n",
      "100%|██████████| 759/759 [03:29<00:00,  3.62it/s, AUROC=0.968, Accuracy=0.908, Epoch=7, LR=0.0001, Precision=0.905, Recall=0.917, Train_Loss=0.229]\n",
      "100%|██████████| 48/48 [00:18<00:00,  2.62it/s, AUROC=0.942, Accuracy=0.876, Epoch=7, Precision=0.878, Recall=0.879, Valid_Loss=0.319]"
     ]
    },
    {
     "name": "stdout",
     "output_type": "stream",
     "text": [
      "No improvement for 2 epoch(s).\n"
     ]
    },
    {
     "name": "stderr",
     "output_type": "stream",
     "text": [
      "\n",
      "100%|██████████| 759/759 [03:29<00:00,  3.63it/s, AUROC=0.974, Accuracy=0.919, Epoch=8, LR=0.0001, Precision=0.917, Recall=0.925, Train_Loss=0.205]\n",
      "100%|██████████| 48/48 [00:19<00:00,  2.46it/s, AUROC=0.945, Accuracy=0.882, Epoch=8, Precision=0.863, Recall=0.911, Valid_Loss=0.355]"
     ]
    },
    {
     "name": "stdout",
     "output_type": "stream",
     "text": [
      "No improvement for 3 epoch(s).\n"
     ]
    },
    {
     "name": "stderr",
     "output_type": "stream",
     "text": [
      "\n",
      "100%|██████████| 759/759 [03:30<00:00,  3.61it/s, AUROC=0.977, Accuracy=0.924, Epoch=9, LR=0.0001, Precision=0.92, Recall=0.932, Train_Loss=0.194]\n",
      "100%|██████████| 48/48 [00:18<00:00,  2.59it/s, AUROC=0.947, Accuracy=0.887, Epoch=9, Precision=0.876, Recall=0.906, Valid_Loss=0.339]"
     ]
    },
    {
     "name": "stdout",
     "output_type": "stream",
     "text": [
      "No improvement for 4 epoch(s).\n"
     ]
    },
    {
     "name": "stderr",
     "output_type": "stream",
     "text": [
      "\n",
      "100%|██████████| 759/759 [03:30<00:00,  3.61it/s, AUROC=0.981, Accuracy=0.934, Epoch=10, LR=0.0001, Precision=0.935, Recall=0.936, Train_Loss=0.175]\n",
      "100%|██████████| 48/48 [00:19<00:00,  2.52it/s, AUROC=0.949, Accuracy=0.881, Epoch=10, Precision=0.884, Recall=0.881, Valid_Loss=0.324]"
     ]
    },
    {
     "name": "stdout",
     "output_type": "stream",
     "text": [
      "No improvement for 5 epoch(s).\n"
     ]
    },
    {
     "name": "stderr",
     "output_type": "stream",
     "text": [
      "\n",
      "100%|██████████| 759/759 [03:29<00:00,  3.62it/s, AUROC=0.985, Accuracy=0.94, Epoch=11, LR=0.0001, Precision=0.936, Recall=0.946, Train_Loss=0.154]\n",
      "100%|██████████| 48/48 [00:18<00:00,  2.61it/s, AUROC=0.951, Accuracy=0.884, Epoch=11, Precision=0.888, Recall=0.883, Valid_Loss=0.321]"
     ]
    },
    {
     "name": "stdout",
     "output_type": "stream",
     "text": [
      "No improvement for 6 epoch(s).\n"
     ]
    },
    {
     "name": "stderr",
     "output_type": "stream",
     "text": [
      "\n",
      "100%|██████████| 759/759 [03:29<00:00,  3.62it/s, AUROC=0.986, Accuracy=0.944, Epoch=12, LR=0.0001, Precision=0.941, Recall=0.949, Train_Loss=0.147]\n",
      "100%|██████████| 48/48 [00:19<00:00,  2.49it/s, AUROC=0.946, Accuracy=0.879, Epoch=12, Precision=0.87, Recall=0.896, Valid_Loss=0.342]"
     ]
    },
    {
     "name": "stdout",
     "output_type": "stream",
     "text": [
      "No improvement for 7 epoch(s).\n"
     ]
    },
    {
     "name": "stderr",
     "output_type": "stream",
     "text": [
      "\n",
      "100%|██████████| 759/759 [03:29<00:00,  3.62it/s, AUROC=0.989, Accuracy=0.947, Epoch=13, LR=0.0001, Precision=0.944, Recall=0.952, Train_Loss=0.134]\n",
      "100%|██████████| 48/48 [00:18<00:00,  2.61it/s, AUROC=0.951, Accuracy=0.884, Epoch=13, Precision=0.855, Recall=0.928, Valid_Loss=0.349]"
     ]
    },
    {
     "name": "stdout",
     "output_type": "stream",
     "text": [
      "No improvement for 8 epoch(s).\n"
     ]
    },
    {
     "name": "stderr",
     "output_type": "stream",
     "text": [
      "\n",
      "100%|██████████| 759/759 [03:29<00:00,  3.62it/s, AUROC=0.992, Accuracy=0.958, Epoch=14, LR=0.0001, Precision=0.957, Recall=0.96, Train_Loss=0.113]\n",
      "100%|██████████| 48/48 [00:18<00:00,  2.54it/s, AUROC=0.941, Accuracy=0.869, Epoch=14, Precision=0.884, Recall=0.854, Valid_Loss=0.369]"
     ]
    },
    {
     "name": "stdout",
     "output_type": "stream",
     "text": [
      "No improvement for 9 epoch(s).\n"
     ]
    },
    {
     "name": "stderr",
     "output_type": "stream",
     "text": [
      "\n",
      "100%|██████████| 759/759 [03:29<00:00,  3.62it/s, AUROC=0.991, Accuracy=0.957, Epoch=15, LR=0.0001, Precision=0.958, Recall=0.958, Train_Loss=0.116]\n",
      "100%|██████████| 48/48 [00:18<00:00,  2.59it/s, AUROC=0.952, Accuracy=0.874, Epoch=15, Precision=0.912, Recall=0.832, Valid_Loss=0.369]"
     ]
    },
    {
     "name": "stdout",
     "output_type": "stream",
     "text": [
      "No improvement for 10 epoch(s).\n"
     ]
    },
    {
     "name": "stderr",
     "output_type": "stream",
     "text": [
      "\n",
      "100%|██████████| 759/759 [03:30<00:00,  3.60it/s, AUROC=0.994, Accuracy=0.963, Epoch=16, LR=0.0001, Precision=0.961, Recall=0.967, Train_Loss=0.0993]\n",
      "100%|██████████| 48/48 [00:19<00:00,  2.46it/s, AUROC=0.949, Accuracy=0.885, Epoch=16, Precision=0.885, Recall=0.889, Valid_Loss=0.362]\n"
     ]
    },
    {
     "name": "stdout",
     "output_type": "stream",
     "text": [
      "No improvement for 11 epoch(s).\n",
      "Early stopping triggered.\n",
      "Training complete in 60m 58s\n",
      "Best val loss: 0.3103\n"
     ]
    },
    {
     "name": "stderr",
     "output_type": "stream",
     "text": [
      "\u001b[34m\u001b[1mwandb\u001b[0m: uploading best_model_fold_1.pth; uploading best_model_fold_2.pth; uploading best_model_fold_3.pth; uploading best_model_fold_4.pth; uploading best_model_fold_5.pth\n",
      "\u001b[34m\u001b[1mwandb\u001b[0m:                                                                                \n",
      "\u001b[34m\u001b[1mwandb\u001b[0m: \n",
      "\u001b[34m\u001b[1mwandb\u001b[0m: Run history:\n",
      "\u001b[34m\u001b[1mwandb\u001b[0m:              LR ▁▁▁▁▁▁▁▁▁▁▁▁▁▁▁▁\n",
      "\u001b[34m\u001b[1mwandb\u001b[0m:     Train AUROC ▁▃▄▄▅▆▆▆▆▇▇▇▇███\n",
      "\u001b[34m\u001b[1mwandb\u001b[0m:  Train Accuracy ▁▃▄▄▅▅▆▆▆▇▇▇▇███\n",
      "\u001b[34m\u001b[1mwandb\u001b[0m:      Train Loss █▆▆▅▄▄▃▃▃▂▂▂▂▁▁▁\n",
      "\u001b[34m\u001b[1mwandb\u001b[0m: Train Precision ▁▃▄▄▅▆▆▆▇▇▇▇▇███\n",
      "\u001b[34m\u001b[1mwandb\u001b[0m:    Train Recall ▁▃▄▅▆▆▇▇▇▇██████\n",
      "\u001b[34m\u001b[1mwandb\u001b[0m:     Valid AUROC ▁▂▄▄▅▄▆▇█▇█▇█▅▆█\n",
      "\u001b[34m\u001b[1mwandb\u001b[0m:  Valid Accuracy ▃▁▅▆▅▄▆▅▆▆▆▅▄▆█▆\n",
      "\u001b[34m\u001b[1mwandb\u001b[0m:      Valid Loss █▆▃▂▁▃▂▆▄▃▂▅▆██▇\n",
      "\u001b[34m\u001b[1mwandb\u001b[0m: Valid Precision ▃█▄▁▄▄▅▇▆▅▅▆█▃▁▅\n",
      "\u001b[34m\u001b[1mwandb\u001b[0m:    Valid Recall ▁▃▄▆▆▆▆▇▇▇█▇█▆██\n",
      "\u001b[34m\u001b[1mwandb\u001b[0m: \n",
      "\u001b[34m\u001b[1mwandb\u001b[0m: Run summary:\n",
      "\u001b[34m\u001b[1mwandb\u001b[0m:              LR 0.0001\n",
      "\u001b[34m\u001b[1mwandb\u001b[0m:     Train AUROC 0.96336\n",
      "\u001b[34m\u001b[1mwandb\u001b[0m:  Train Accuracy 0.96135\n",
      "\u001b[34m\u001b[1mwandb\u001b[0m:      Train Loss 0.0993\n",
      "\u001b[34m\u001b[1mwandb\u001b[0m: Train Precision 0.9668\n",
      "\u001b[34m\u001b[1mwandb\u001b[0m:    Train Recall 0.99367\n",
      "\u001b[34m\u001b[1mwandb\u001b[0m:     Valid AUROC 0.88483\n",
      "\u001b[34m\u001b[1mwandb\u001b[0m:  Valid Accuracy 0.88474\n",
      "\u001b[34m\u001b[1mwandb\u001b[0m:      Valid Loss 0.36195\n",
      "\u001b[34m\u001b[1mwandb\u001b[0m: Valid Precision 0.88932\n",
      "\u001b[34m\u001b[1mwandb\u001b[0m:    Valid Recall 0.94911\n",
      "\u001b[34m\u001b[1mwandb\u001b[0m: \n",
      "\u001b[34m\u001b[1mwandb\u001b[0m: 🚀 View run \u001b[33mfold-2|img-224|model-tf_efficientnet_b4_ns|batchsize-16|scheduler-ReduceLROnPlateau\u001b[0m at: \u001b[34m\u001b[4mhttps://wandb.ai/mi79/skin-cancer-binary/runs/9culr6o2?apiKey=244773078898fd316c90a967a85e54043c14bb63\u001b[0m\n",
      "\u001b[34m\u001b[1mwandb\u001b[0m: ⭐️ View project at: \u001b[34m\u001b[4mhttps://wandb.ai/mi79/skin-cancer-binary?apiKey=244773078898fd316c90a967a85e54043c14bb63\u001b[0m\n",
      "\u001b[34m\u001b[1mwandb\u001b[0m: Synced 5 W&B file(s), 0 media file(s), 0 artifact file(s) and 5 other file(s)\n",
      "\u001b[34m\u001b[1mwandb\u001b[0m: Find logs at: \u001b[35m\u001b[1m./wandb/run-20250115_111408-9culr6o2/logs\u001b[0m\n"
     ]
    },
    {
     "name": "stdout",
     "output_type": "stream",
     "text": [
      "\n",
      "Starting Fold 4/5\n"
     ]
    },
    {
     "name": "stderr",
     "output_type": "stream",
     "text": [
      "\u001b[34m\u001b[1mwandb\u001b[0m: Tracking run with wandb version 0.19.3\n",
      "\u001b[34m\u001b[1mwandb\u001b[0m: Run data is saved locally in \u001b[35m\u001b[1m/kaggle/working/wandb/run-20250115_121512-zogila3k\u001b[0m\n",
      "\u001b[34m\u001b[1mwandb\u001b[0m: Run \u001b[1m`wandb offline`\u001b[0m to turn off syncing.\n",
      "\u001b[34m\u001b[1mwandb\u001b[0m: Syncing run \u001b[33mfold-3|img-224|model-tf_efficientnet_b4_ns|batchsize-16|scheduler-ReduceLROnPlateau\u001b[0m\n",
      "\u001b[34m\u001b[1mwandb\u001b[0m: ⭐️ View project at \u001b[34m\u001b[4mhttps://wandb.ai/mi79/skin-cancer-binary?apiKey=244773078898fd316c90a967a85e54043c14bb63\u001b[0m\n",
      "\u001b[34m\u001b[1mwandb\u001b[0m: 🚀 View run at \u001b[34m\u001b[4mhttps://wandb.ai/mi79/skin-cancer-binary/runs/zogila3k?apiKey=244773078898fd316c90a967a85e54043c14bb63\u001b[0m\n",
      "\u001b[34m\u001b[1mwandb\u001b[0m: \u001b[33mWARNING\u001b[0m Do NOT share these links with anyone. They can be used to claim your runs.\n"
     ]
    },
    {
     "name": "stdout",
     "output_type": "stream",
     "text": [
      "torch.Size([16, 3, 224, 224])\n",
      "torch.Size([16])\n",
      "[INFO] Using GPU: Tesla P100-PCIE-16GB\n",
      "\n"
     ]
    },
    {
     "name": "stderr",
     "output_type": "stream",
     "text": [
      "100%|██████████| 759/759 [03:29<00:00,  3.62it/s, AUROC=0.869, Accuracy=0.79, Epoch=1, LR=0.0001, Precision=0.792, Recall=0.796, Train_Loss=0.457]\n",
      "100%|██████████| 48/48 [00:18<00:00,  2.53it/s, AUROC=0.914, Accuracy=0.831, Epoch=1, Precision=0.812, Recall=0.869, Valid_Loss=0.374]\n"
     ]
    },
    {
     "name": "stdout",
     "output_type": "stream",
     "text": [
      "Validation AUROC Improved (inf -> 0.3742)\n"
     ]
    },
    {
     "name": "stderr",
     "output_type": "stream",
     "text": [
      "100%|██████████| 759/759 [03:30<00:00,  3.60it/s, AUROC=0.909, Accuracy=0.827, Epoch=2, LR=0.0001, Precision=0.822, Recall=0.842, Train_Loss=0.382]\n",
      "100%|██████████| 48/48 [00:18<00:00,  2.61it/s, AUROC=0.929, Accuracy=0.849, Epoch=2, Precision=0.831, Recall=0.883, Valid_Loss=0.346]\n"
     ]
    },
    {
     "name": "stdout",
     "output_type": "stream",
     "text": [
      "Validation AUROC Improved (0.3742 -> 0.3457)\n"
     ]
    },
    {
     "name": "stderr",
     "output_type": "stream",
     "text": [
      "100%|██████████| 759/759 [03:31<00:00,  3.59it/s, AUROC=0.928, Accuracy=0.858, Epoch=3, LR=0.0001, Precision=0.851, Recall=0.873, Train_Loss=0.343]\n",
      "100%|██████████| 48/48 [00:19<00:00,  2.52it/s, AUROC=0.939, Accuracy=0.862, Epoch=3, Precision=0.847, Recall=0.888, Valid_Loss=0.316]\n"
     ]
    },
    {
     "name": "stdout",
     "output_type": "stream",
     "text": [
      "Validation AUROC Improved (0.3457 -> 0.3159)\n"
     ]
    },
    {
     "name": "stderr",
     "output_type": "stream",
     "text": [
      "100%|██████████| 759/759 [03:30<00:00,  3.60it/s, AUROC=0.941, Accuracy=0.869, Epoch=4, LR=0.0001, Precision=0.863, Recall=0.882, Train_Loss=0.312]\n",
      "100%|██████████| 48/48 [00:20<00:00,  2.36it/s, AUROC=0.941, Accuracy=0.867, Epoch=4, Precision=0.848, Recall=0.9, Valid_Loss=0.314]\n"
     ]
    },
    {
     "name": "stdout",
     "output_type": "stream",
     "text": [
      "Validation AUROC Improved (0.3159 -> 0.3137)\n"
     ]
    },
    {
     "name": "stderr",
     "output_type": "stream",
     "text": [
      "100%|██████████| 759/759 [03:31<00:00,  3.59it/s, AUROC=0.951, Accuracy=0.884, Epoch=5, LR=0.0001, Precision=0.88, Recall=0.895, Train_Loss=0.283]\n",
      "100%|██████████| 48/48 [00:19<00:00,  2.52it/s, AUROC=0.94, Accuracy=0.861, Epoch=5, Precision=0.821, Recall=0.929, Valid_Loss=0.328]"
     ]
    },
    {
     "name": "stdout",
     "output_type": "stream",
     "text": [
      "No improvement for 1 epoch(s).\n"
     ]
    },
    {
     "name": "stderr",
     "output_type": "stream",
     "text": [
      "\n",
      "100%|██████████| 759/759 [03:31<00:00,  3.58it/s, AUROC=0.963, Accuracy=0.9, Epoch=6, LR=0.0001, Precision=0.896, Recall=0.909, Train_Loss=0.246]\n",
      "100%|██████████| 48/48 [00:20<00:00,  2.36it/s, AUROC=0.945, Accuracy=0.863, Epoch=6, Precision=0.816, Recall=0.944, Valid_Loss=0.342]"
     ]
    },
    {
     "name": "stdout",
     "output_type": "stream",
     "text": [
      "No improvement for 2 epoch(s).\n"
     ]
    },
    {
     "name": "stderr",
     "output_type": "stream",
     "text": [
      "\n",
      "100%|██████████| 759/759 [03:32<00:00,  3.57it/s, AUROC=0.968, Accuracy=0.909, Epoch=7, LR=0.0001, Precision=0.903, Recall=0.92, Train_Loss=0.229]\n",
      "100%|██████████| 48/48 [00:18<00:00,  2.56it/s, AUROC=0.941, Accuracy=0.866, Epoch=7, Precision=0.842, Recall=0.907, Valid_Loss=0.33]"
     ]
    },
    {
     "name": "stdout",
     "output_type": "stream",
     "text": [
      "No improvement for 3 epoch(s).\n"
     ]
    },
    {
     "name": "stderr",
     "output_type": "stream",
     "text": [
      "\n",
      "100%|██████████| 759/759 [03:32<00:00,  3.58it/s, AUROC=0.974, Accuracy=0.916, Epoch=8, LR=0.0001, Precision=0.912, Recall=0.924, Train_Loss=0.207]\n",
      "100%|██████████| 48/48 [00:19<00:00,  2.45it/s, AUROC=0.943, Accuracy=0.87, Epoch=8, Precision=0.836, Recall=0.926, Valid_Loss=0.321]"
     ]
    },
    {
     "name": "stdout",
     "output_type": "stream",
     "text": [
      "No improvement for 4 epoch(s).\n"
     ]
    },
    {
     "name": "stderr",
     "output_type": "stream",
     "text": [
      "\n",
      "100%|██████████| 759/759 [03:32<00:00,  3.57it/s, AUROC=0.977, Accuracy=0.924, Epoch=9, LR=0.0001, Precision=0.919, Recall=0.933, Train_Loss=0.194]\n",
      "100%|██████████| 48/48 [00:19<00:00,  2.52it/s, AUROC=0.944, Accuracy=0.873, Epoch=9, Precision=0.844, Recall=0.919, Valid_Loss=0.346]"
     ]
    },
    {
     "name": "stdout",
     "output_type": "stream",
     "text": [
      "No improvement for 5 epoch(s).\n"
     ]
    },
    {
     "name": "stderr",
     "output_type": "stream",
     "text": [
      "\n",
      "100%|██████████| 759/759 [03:32<00:00,  3.58it/s, AUROC=0.984, Accuracy=0.935, Epoch=10, LR=0.0001, Precision=0.93, Recall=0.943, Train_Loss=0.163]\n",
      "100%|██████████| 48/48 [00:18<00:00,  2.59it/s, AUROC=0.945, Accuracy=0.88, Epoch=10, Precision=0.877, Recall=0.888, Valid_Loss=0.333]"
     ]
    },
    {
     "name": "stdout",
     "output_type": "stream",
     "text": [
      "No improvement for 6 epoch(s).\n"
     ]
    },
    {
     "name": "stderr",
     "output_type": "stream",
     "text": [
      "\n",
      "100%|██████████| 759/759 [03:33<00:00,  3.56it/s, AUROC=0.984, Accuracy=0.938, Epoch=11, LR=0.0001, Precision=0.935, Recall=0.943, Train_Loss=0.159]\n",
      "100%|██████████| 48/48 [00:18<00:00,  2.56it/s, AUROC=0.948, Accuracy=0.869, Epoch=11, Precision=0.823, Recall=0.945, Valid_Loss=0.392]"
     ]
    },
    {
     "name": "stdout",
     "output_type": "stream",
     "text": [
      "No improvement for 7 epoch(s).\n"
     ]
    },
    {
     "name": "stderr",
     "output_type": "stream",
     "text": [
      "\n",
      "100%|██████████| 759/759 [03:32<00:00,  3.57it/s, AUROC=0.988, Accuracy=0.948, Epoch=12, LR=0.0001, Precision=0.944, Recall=0.955, Train_Loss=0.136]\n",
      "100%|██████████| 48/48 [00:18<00:00,  2.56it/s, AUROC=0.943, Accuracy=0.86, Epoch=12, Precision=0.81, Recall=0.948, Valid_Loss=0.413]"
     ]
    },
    {
     "name": "stdout",
     "output_type": "stream",
     "text": [
      "No improvement for 8 epoch(s).\n"
     ]
    },
    {
     "name": "stderr",
     "output_type": "stream",
     "text": [
      "\n",
      "100%|██████████| 759/759 [03:32<00:00,  3.57it/s, AUROC=0.99, Accuracy=0.954, Epoch=13, LR=0.0001, Precision=0.952, Recall=0.958, Train_Loss=0.122]\n",
      "100%|██████████| 48/48 [00:18<00:00,  2.55it/s, AUROC=0.946, Accuracy=0.88, Epoch=13, Precision=0.865, Recall=0.904, Valid_Loss=0.371]"
     ]
    },
    {
     "name": "stdout",
     "output_type": "stream",
     "text": [
      "No improvement for 9 epoch(s).\n"
     ]
    },
    {
     "name": "stderr",
     "output_type": "stream",
     "text": [
      "\n",
      "100%|██████████| 759/759 [03:32<00:00,  3.58it/s, AUROC=0.99, Accuracy=0.954, Epoch=14, LR=0.0001, Precision=0.953, Recall=0.957, Train_Loss=0.123]\n",
      "100%|██████████| 48/48 [00:18<00:00,  2.59it/s, AUROC=0.943, Accuracy=0.876, Epoch=14, Precision=0.86, Recall=0.904, Valid_Loss=0.388]"
     ]
    },
    {
     "name": "stdout",
     "output_type": "stream",
     "text": [
      "No improvement for 10 epoch(s).\n"
     ]
    },
    {
     "name": "stderr",
     "output_type": "stream",
     "text": [
      "\n",
      "100%|██████████| 759/759 [03:32<00:00,  3.58it/s, AUROC=0.991, Accuracy=0.957, Epoch=15, LR=0.0001, Precision=0.955, Recall=0.961, Train_Loss=0.119]\n",
      "100%|██████████| 48/48 [00:19<00:00,  2.40it/s, AUROC=0.953, Accuracy=0.887, Epoch=15, Precision=0.874, Recall=0.908, Valid_Loss=0.315]\n"
     ]
    },
    {
     "name": "stdout",
     "output_type": "stream",
     "text": [
      "No improvement for 11 epoch(s).\n",
      "Early stopping triggered.\n",
      "Training complete in 57m 48s\n",
      "Best val loss: 0.3137\n"
     ]
    },
    {
     "name": "stderr",
     "output_type": "stream",
     "text": [
      "\u001b[34m\u001b[1mwandb\u001b[0m: uploading best_model_fold_1.pth; uploading best_model_fold_2.pth; uploading best_model_fold_3.pth; uploading best_model_fold_4.pth\n",
      "\u001b[34m\u001b[1mwandb\u001b[0m:                                                                                \n",
      "\u001b[34m\u001b[1mwandb\u001b[0m: \n",
      "\u001b[34m\u001b[1mwandb\u001b[0m: Run history:\n",
      "\u001b[34m\u001b[1mwandb\u001b[0m:              LR ▁▁▁▁▁▁▁▁▁▁▁▁▁▁▁\n",
      "\u001b[34m\u001b[1mwandb\u001b[0m:     Train AUROC ▁▃▄▄▅▆▆▆▇▇▇████\n",
      "\u001b[34m\u001b[1mwandb\u001b[0m:  Train Accuracy ▁▂▄▄▅▅▆▆▆▇▇████\n",
      "\u001b[34m\u001b[1mwandb\u001b[0m:      Train Loss █▆▆▅▄▄▃▃▃▂▂▁▁▁▁\n",
      "\u001b[34m\u001b[1mwandb\u001b[0m: Train Precision ▁▃▄▅▅▆▆▆▇▇▇████\n",
      "\u001b[34m\u001b[1mwandb\u001b[0m:    Train Recall ▁▃▄▅▆▆▇▇▇██████\n",
      "\u001b[34m\u001b[1mwandb\u001b[0m:     Valid AUROC ▁▃▅▆▅▅▅▆▆▇▆▅▇▇█\n",
      "\u001b[34m\u001b[1mwandb\u001b[0m:  Valid Accuracy ▁▃▅▅▂▂▄▄▅█▂▁▇▆█\n",
      "\u001b[34m\u001b[1mwandb\u001b[0m:      Valid Loss ▅▃▁▁▂▃▂▂▃▂▇█▅▆▁\n",
      "\u001b[34m\u001b[1mwandb\u001b[0m: Valid Precision ▁▂▃▄▆█▄▆▅▃██▄▄▄\n",
      "\u001b[34m\u001b[1mwandb\u001b[0m:    Valid Recall ▁▄▆▆▆▇▆▆▇▇▇▆▇▆█\n",
      "\u001b[34m\u001b[1mwandb\u001b[0m: \n",
      "\u001b[34m\u001b[1mwandb\u001b[0m: Run summary:\n",
      "\u001b[34m\u001b[1mwandb\u001b[0m:              LR 0.0001\n",
      "\u001b[34m\u001b[1mwandb\u001b[0m:     Train AUROC 0.9571\n",
      "\u001b[34m\u001b[1mwandb\u001b[0m:  Train Accuracy 0.95507\n",
      "\u001b[34m\u001b[1mwandb\u001b[0m:      Train Loss 0.11892\n",
      "\u001b[34m\u001b[1mwandb\u001b[0m: Train Precision 0.9608\n",
      "\u001b[34m\u001b[1mwandb\u001b[0m:    Train Recall 0.99119\n",
      "\u001b[34m\u001b[1mwandb\u001b[0m:     Valid AUROC 0.8868\n",
      "\u001b[34m\u001b[1mwandb\u001b[0m:  Valid Accuracy 0.87414\n",
      "\u001b[34m\u001b[1mwandb\u001b[0m:      Valid Loss 0.31542\n",
      "\u001b[34m\u001b[1mwandb\u001b[0m: Valid Precision 0.90809\n",
      "\u001b[34m\u001b[1mwandb\u001b[0m:    Valid Recall 0.95267\n",
      "\u001b[34m\u001b[1mwandb\u001b[0m: \n",
      "\u001b[34m\u001b[1mwandb\u001b[0m: 🚀 View run \u001b[33mfold-3|img-224|model-tf_efficientnet_b4_ns|batchsize-16|scheduler-ReduceLROnPlateau\u001b[0m at: \u001b[34m\u001b[4mhttps://wandb.ai/mi79/skin-cancer-binary/runs/zogila3k?apiKey=244773078898fd316c90a967a85e54043c14bb63\u001b[0m\n",
      "\u001b[34m\u001b[1mwandb\u001b[0m: ⭐️ View project at: \u001b[34m\u001b[4mhttps://wandb.ai/mi79/skin-cancer-binary?apiKey=244773078898fd316c90a967a85e54043c14bb63\u001b[0m\n",
      "\u001b[34m\u001b[1mwandb\u001b[0m: Synced 5 W&B file(s), 0 media file(s), 0 artifact file(s) and 4 other file(s)\n",
      "\u001b[34m\u001b[1mwandb\u001b[0m: Find logs at: \u001b[35m\u001b[1m./wandb/run-20250115_121512-zogila3k/logs\u001b[0m\n"
     ]
    },
    {
     "name": "stdout",
     "output_type": "stream",
     "text": [
      "\n",
      "Starting Fold 5/5\n"
     ]
    },
    {
     "name": "stderr",
     "output_type": "stream",
     "text": [
      "\u001b[34m\u001b[1mwandb\u001b[0m: Tracking run with wandb version 0.19.3\n",
      "\u001b[34m\u001b[1mwandb\u001b[0m: Run data is saved locally in \u001b[35m\u001b[1m/kaggle/working/wandb/run-20250115_131305-wweswobc\u001b[0m\n",
      "\u001b[34m\u001b[1mwandb\u001b[0m: Run \u001b[1m`wandb offline`\u001b[0m to turn off syncing.\n",
      "\u001b[34m\u001b[1mwandb\u001b[0m: Syncing run \u001b[33mfold-4|img-224|model-tf_efficientnet_b4_ns|batchsize-16|scheduler-ReduceLROnPlateau\u001b[0m\n",
      "\u001b[34m\u001b[1mwandb\u001b[0m: ⭐️ View project at \u001b[34m\u001b[4mhttps://wandb.ai/mi79/skin-cancer-binary?apiKey=244773078898fd316c90a967a85e54043c14bb63\u001b[0m\n",
      "\u001b[34m\u001b[1mwandb\u001b[0m: 🚀 View run at \u001b[34m\u001b[4mhttps://wandb.ai/mi79/skin-cancer-binary/runs/wweswobc?apiKey=244773078898fd316c90a967a85e54043c14bb63\u001b[0m\n",
      "\u001b[34m\u001b[1mwandb\u001b[0m: \u001b[33mWARNING\u001b[0m Do NOT share these links with anyone. They can be used to claim your runs.\n"
     ]
    },
    {
     "name": "stdout",
     "output_type": "stream",
     "text": [
      "torch.Size([16, 3, 224, 224])\n",
      "torch.Size([16])\n",
      "[INFO] Using GPU: Tesla P100-PCIE-16GB\n",
      "\n"
     ]
    },
    {
     "name": "stderr",
     "output_type": "stream",
     "text": [
      "100%|██████████| 759/759 [03:31<00:00,  3.58it/s, AUROC=0.866, Accuracy=0.786, Epoch=1, LR=0.0001, Precision=0.787, Recall=0.793, Train_Loss=0.462]\n",
      "100%|██████████| 48/48 [00:18<00:00,  2.61it/s, AUROC=0.914, Accuracy=0.835, Epoch=1, Precision=0.836, Recall=0.84, Valid_Loss=0.374]\n"
     ]
    },
    {
     "name": "stdout",
     "output_type": "stream",
     "text": [
      "Validation AUROC Improved (inf -> 0.3738)\n"
     ]
    },
    {
     "name": "stderr",
     "output_type": "stream",
     "text": [
      "100%|██████████| 759/759 [03:32<00:00,  3.57it/s, AUROC=0.909, Accuracy=0.826, Epoch=2, LR=0.0001, Precision=0.824, Recall=0.837, Train_Loss=0.384]\n",
      "100%|██████████| 48/48 [00:19<00:00,  2.40it/s, AUROC=0.926, Accuracy=0.85, Epoch=2, Precision=0.836, Recall=0.877, Valid_Loss=0.344]\n"
     ]
    },
    {
     "name": "stdout",
     "output_type": "stream",
     "text": [
      "Validation AUROC Improved (0.3738 -> 0.3444)\n"
     ]
    },
    {
     "name": "stderr",
     "output_type": "stream",
     "text": [
      "100%|██████████| 759/759 [03:31<00:00,  3.58it/s, AUROC=0.928, Accuracy=0.855, Epoch=3, LR=0.0001, Precision=0.851, Recall=0.866, Train_Loss=0.342]\n",
      "100%|██████████| 48/48 [00:18<00:00,  2.53it/s, AUROC=0.935, Accuracy=0.851, Epoch=3, Precision=0.804, Recall=0.935, Valid_Loss=0.349]"
     ]
    },
    {
     "name": "stdout",
     "output_type": "stream",
     "text": [
      "No improvement for 1 epoch(s).\n"
     ]
    },
    {
     "name": "stderr",
     "output_type": "stream",
     "text": [
      "\n",
      "100%|██████████| 759/759 [03:32<00:00,  3.57it/s, AUROC=0.939, Accuracy=0.866, Epoch=4, LR=0.0001, Precision=0.862, Recall=0.877, Train_Loss=0.316]\n",
      "100%|██████████| 48/48 [00:18<00:00,  2.53it/s, AUROC=0.944, Accuracy=0.867, Epoch=4, Precision=0.831, Recall=0.927, Valid_Loss=0.312]\n"
     ]
    },
    {
     "name": "stdout",
     "output_type": "stream",
     "text": [
      "Validation AUROC Improved (0.3444 -> 0.3120)\n"
     ]
    },
    {
     "name": "stderr",
     "output_type": "stream",
     "text": [
      "100%|██████████| 759/759 [03:32<00:00,  3.56it/s, AUROC=0.951, Accuracy=0.884, Epoch=5, LR=0.0001, Precision=0.876, Recall=0.899, Train_Loss=0.283]\n",
      "100%|██████████| 48/48 [00:18<00:00,  2.56it/s, AUROC=0.94, Accuracy=0.863, Epoch=5, Precision=0.852, Recall=0.885, Valid_Loss=0.316]"
     ]
    },
    {
     "name": "stdout",
     "output_type": "stream",
     "text": [
      "No improvement for 1 epoch(s).\n"
     ]
    },
    {
     "name": "stderr",
     "output_type": "stream",
     "text": [
      "\n",
      "100%|██████████| 759/759 [03:33<00:00,  3.56it/s, AUROC=0.958, Accuracy=0.893, Epoch=6, LR=0.0001, Precision=0.884, Recall=0.909, Train_Loss=0.264]\n",
      "100%|██████████| 48/48 [00:18<00:00,  2.56it/s, AUROC=0.946, Accuracy=0.872, Epoch=6, Precision=0.871, Recall=0.879, Valid_Loss=0.298]\n"
     ]
    },
    {
     "name": "stdout",
     "output_type": "stream",
     "text": [
      "Validation AUROC Improved (0.3120 -> 0.2976)\n"
     ]
    },
    {
     "name": "stderr",
     "output_type": "stream",
     "text": [
      "100%|██████████| 759/759 [03:32<00:00,  3.56it/s, AUROC=0.968, Accuracy=0.908, Epoch=7, LR=0.0001, Precision=0.903, Recall=0.918, Train_Loss=0.23]\n",
      "100%|██████████| 48/48 [00:21<00:00,  2.28it/s, AUROC=0.943, Accuracy=0.863, Epoch=7, Precision=0.848, Recall=0.891, Valid_Loss=0.323]"
     ]
    },
    {
     "name": "stdout",
     "output_type": "stream",
     "text": [
      "No improvement for 1 epoch(s).\n"
     ]
    },
    {
     "name": "stderr",
     "output_type": "stream",
     "text": [
      "\n",
      "100%|██████████| 759/759 [03:32<00:00,  3.58it/s, AUROC=0.974, Accuracy=0.918, Epoch=8, LR=0.0001, Precision=0.915, Recall=0.924, Train_Loss=0.204]\n",
      "100%|██████████| 48/48 [00:19<00:00,  2.52it/s, AUROC=0.945, Accuracy=0.87, Epoch=8, Precision=0.831, Recall=0.933, Valid_Loss=0.331]"
     ]
    },
    {
     "name": "stdout",
     "output_type": "stream",
     "text": [
      "No improvement for 2 epoch(s).\n"
     ]
    },
    {
     "name": "stderr",
     "output_type": "stream",
     "text": [
      "\n",
      "100%|██████████| 759/759 [03:33<00:00,  3.56it/s, AUROC=0.979, Accuracy=0.929, Epoch=9, LR=0.0001, Precision=0.927, Recall=0.934, Train_Loss=0.185]\n",
      "100%|██████████| 48/48 [00:18<00:00,  2.62it/s, AUROC=0.946, Accuracy=0.875, Epoch=9, Precision=0.847, Recall=0.921, Valid_Loss=0.326]"
     ]
    },
    {
     "name": "stdout",
     "output_type": "stream",
     "text": [
      "No improvement for 3 epoch(s).\n"
     ]
    },
    {
     "name": "stderr",
     "output_type": "stream",
     "text": [
      "\n",
      "100%|██████████| 759/759 [03:33<00:00,  3.56it/s, AUROC=0.981, Accuracy=0.932, Epoch=10, LR=0.0001, Precision=0.932, Recall=0.934, Train_Loss=0.175]\n",
      "100%|██████████| 48/48 [00:19<00:00,  2.53it/s, AUROC=0.952, Accuracy=0.882, Epoch=10, Precision=0.852, Recall=0.929, Valid_Loss=0.327]"
     ]
    },
    {
     "name": "stdout",
     "output_type": "stream",
     "text": [
      "No improvement for 4 epoch(s).\n"
     ]
    },
    {
     "name": "stderr",
     "output_type": "stream",
     "text": [
      "\n",
      "100%|██████████| 759/759 [03:32<00:00,  3.56it/s, AUROC=0.985, Accuracy=0.942, Epoch=11, LR=0.0001, Precision=0.941, Recall=0.946, Train_Loss=0.153]\n",
      "100%|██████████| 48/48 [00:18<00:00,  2.57it/s, AUROC=0.946, Accuracy=0.884, Epoch=11, Precision=0.866, Recall=0.913, Valid_Loss=0.353]"
     ]
    },
    {
     "name": "stdout",
     "output_type": "stream",
     "text": [
      "No improvement for 5 epoch(s).\n"
     ]
    },
    {
     "name": "stderr",
     "output_type": "stream",
     "text": [
      "\n",
      "100%|██████████| 759/759 [03:33<00:00,  3.56it/s, AUROC=0.989, Accuracy=0.952, Epoch=12, LR=0.0001, Precision=0.952, Recall=0.955, Train_Loss=0.132]\n",
      "100%|██████████| 48/48 [00:20<00:00,  2.38it/s, AUROC=0.945, Accuracy=0.874, Epoch=12, Precision=0.85, Recall=0.913, Valid_Loss=0.355]"
     ]
    },
    {
     "name": "stdout",
     "output_type": "stream",
     "text": [
      "No improvement for 6 epoch(s).\n"
     ]
    },
    {
     "name": "stderr",
     "output_type": "stream",
     "text": [
      "\n",
      "100%|██████████| 759/759 [03:32<00:00,  3.57it/s, AUROC=0.989, Accuracy=0.95, Epoch=13, LR=0.0001, Precision=0.949, Recall=0.953, Train_Loss=0.133]\n",
      "100%|██████████| 48/48 [00:18<00:00,  2.61it/s, AUROC=0.953, Accuracy=0.885, Epoch=13, Precision=0.873, Recall=0.906, Valid_Loss=0.352]"
     ]
    },
    {
     "name": "stdout",
     "output_type": "stream",
     "text": [
      "No improvement for 7 epoch(s).\n"
     ]
    },
    {
     "name": "stderr",
     "output_type": "stream",
     "text": [
      "\n",
      "100%|██████████| 759/759 [03:32<00:00,  3.57it/s, AUROC=0.991, Accuracy=0.956, Epoch=14, LR=0.0001, Precision=0.954, Recall=0.959, Train_Loss=0.122]\n",
      "100%|██████████| 48/48 [00:19<00:00,  2.50it/s, AUROC=0.946, Accuracy=0.883, Epoch=14, Precision=0.871, Recall=0.904, Valid_Loss=0.383]"
     ]
    },
    {
     "name": "stdout",
     "output_type": "stream",
     "text": [
      "No improvement for 8 epoch(s).\n"
     ]
    },
    {
     "name": "stderr",
     "output_type": "stream",
     "text": [
      "\n",
      "100%|██████████| 759/759 [03:32<00:00,  3.56it/s, AUROC=0.993, Accuracy=0.963, Epoch=15, LR=0.0001, Precision=0.961, Recall=0.966, Train_Loss=0.1]\n",
      "100%|██████████| 48/48 [00:20<00:00,  2.32it/s, AUROC=0.946, Accuracy=0.883, Epoch=15, Precision=0.858, Recall=0.921, Valid_Loss=0.374]"
     ]
    },
    {
     "name": "stdout",
     "output_type": "stream",
     "text": [
      "No improvement for 9 epoch(s).\n"
     ]
    },
    {
     "name": "stderr",
     "output_type": "stream",
     "text": [
      "\n",
      "100%|██████████| 759/759 [03:33<00:00,  3.56it/s, AUROC=0.994, Accuracy=0.965, Epoch=16, LR=0.0001, Precision=0.962, Recall=0.969, Train_Loss=0.0962]\n",
      "100%|██████████| 48/48 [00:18<00:00,  2.58it/s, AUROC=0.951, Accuracy=0.884, Epoch=16, Precision=0.863, Recall=0.918, Valid_Loss=0.356]"
     ]
    },
    {
     "name": "stdout",
     "output_type": "stream",
     "text": [
      "No improvement for 10 epoch(s).\n"
     ]
    },
    {
     "name": "stderr",
     "output_type": "stream",
     "text": [
      "\n",
      "100%|██████████| 759/759 [03:32<00:00,  3.56it/s, AUROC=0.995, Accuracy=0.967, Epoch=17, LR=0.0001, Precision=0.965, Recall=0.97, Train_Loss=0.0913]\n",
      "100%|██████████| 48/48 [00:18<00:00,  2.53it/s, AUROC=0.945, Accuracy=0.876, Epoch=17, Precision=0.872, Recall=0.887, Valid_Loss=0.358]\n"
     ]
    },
    {
     "name": "stdout",
     "output_type": "stream",
     "text": [
      "No improvement for 11 epoch(s).\n",
      "Early stopping triggered.\n",
      "Training complete in 65m 48s\n",
      "Best val loss: 0.2976\n"
     ]
    },
    {
     "name": "stderr",
     "output_type": "stream",
     "text": [
      "\u001b[34m\u001b[1mwandb\u001b[0m: uploading best_model_fold_1.pth; uploading best_model_fold_2.pth; uploading best_model_fold_4.pth; uploading best_model_fold_6.pth\n",
      "\u001b[34m\u001b[1mwandb\u001b[0m:                                                                                \n",
      "\u001b[34m\u001b[1mwandb\u001b[0m: \n",
      "\u001b[34m\u001b[1mwandb\u001b[0m: Run history:\n",
      "\u001b[34m\u001b[1mwandb\u001b[0m:              LR ▁▁▁▁▁▁▁▁▁▁▁▁▁▁▁▁▁\n",
      "\u001b[34m\u001b[1mwandb\u001b[0m:     Train AUROC ▁▃▄▄▅▅▆▆▇▇▇▇▇████\n",
      "\u001b[34m\u001b[1mwandb\u001b[0m:  Train Accuracy ▁▂▃▄▄▅▆▆▆▇▇▇▇████\n",
      "\u001b[34m\u001b[1mwandb\u001b[0m:      Train Loss █▇▆▅▅▄▄▃▃▃▂▂▂▂▁▁▁\n",
      "\u001b[34m\u001b[1mwandb\u001b[0m: Train Precision ▁▃▄▄▅▆▆▆▇▇▇▇▇████\n",
      "\u001b[34m\u001b[1mwandb\u001b[0m:    Train Recall ▁▃▄▅▆▆▇▇▇▇▇██████\n",
      "\u001b[34m\u001b[1mwandb\u001b[0m:     Valid AUROC ▁▃▃▅▅▆▅▆▇██▆████▇\n",
      "\u001b[34m\u001b[1mwandb\u001b[0m:  Valid Accuracy ▄▄▁▄▆█▅▄▅▆▇▆██▇▇█\n",
      "\u001b[34m\u001b[1mwandb\u001b[0m:      Valid Loss ▇▅▅▂▃▁▃▄▃▃▆▆▅█▇▆▆\n",
      "\u001b[34m\u001b[1mwandb\u001b[0m: Valid Precision ▁▄█▇▄▄▅█▇█▆▆▆▆▇▇▄\n",
      "\u001b[34m\u001b[1mwandb\u001b[0m:    Valid Recall ▁▃▅▆▆▇▆▇▇█▇▇█▇▇█▇\n",
      "\u001b[34m\u001b[1mwandb\u001b[0m: \n",
      "\u001b[34m\u001b[1mwandb\u001b[0m: Run summary:\n",
      "\u001b[34m\u001b[1mwandb\u001b[0m:              LR 0.0001\n",
      "\u001b[34m\u001b[1mwandb\u001b[0m:     Train AUROC 0.9669\n",
      "\u001b[34m\u001b[1mwandb\u001b[0m:  Train Accuracy 0.96518\n",
      "\u001b[34m\u001b[1mwandb\u001b[0m:      Train Loss 0.09134\n",
      "\u001b[34m\u001b[1mwandb\u001b[0m: Train Precision 0.96987\n",
      "\u001b[34m\u001b[1mwandb\u001b[0m:    Train Recall 0.99461\n",
      "\u001b[34m\u001b[1mwandb\u001b[0m:     Valid AUROC 0.87628\n",
      "\u001b[34m\u001b[1mwandb\u001b[0m:  Valid Accuracy 0.87206\n",
      "\u001b[34m\u001b[1mwandb\u001b[0m:      Valid Loss 0.35831\n",
      "\u001b[34m\u001b[1mwandb\u001b[0m: Valid Precision 0.88673\n",
      "\u001b[34m\u001b[1mwandb\u001b[0m:    Valid Recall 0.94467\n",
      "\u001b[34m\u001b[1mwandb\u001b[0m: \n",
      "\u001b[34m\u001b[1mwandb\u001b[0m: 🚀 View run \u001b[33mfold-4|img-224|model-tf_efficientnet_b4_ns|batchsize-16|scheduler-ReduceLROnPlateau\u001b[0m at: \u001b[34m\u001b[4mhttps://wandb.ai/mi79/skin-cancer-binary/runs/wweswobc?apiKey=244773078898fd316c90a967a85e54043c14bb63\u001b[0m\n",
      "\u001b[34m\u001b[1mwandb\u001b[0m: ⭐️ View project at: \u001b[34m\u001b[4mhttps://wandb.ai/mi79/skin-cancer-binary?apiKey=244773078898fd316c90a967a85e54043c14bb63\u001b[0m\n",
      "\u001b[34m\u001b[1mwandb\u001b[0m: Synced 5 W&B file(s), 0 media file(s), 0 artifact file(s) and 4 other file(s)\n",
      "\u001b[34m\u001b[1mwandb\u001b[0m: Find logs at: \u001b[35m\u001b[1m./wandb/run-20250115_131305-wweswobc/logs\u001b[0m\n"
     ]
    },
    {
     "name": "stdout",
     "output_type": "stream",
     "text": [
      "\n",
      "K-Fold Training Complete\n",
      "Best AUROC per fold: [0.901612401008606, 0.8897663950920105, 0.8868048787117004, 0.8868048787117004, 0.8848305344581604]\n",
      "Mean Best AUROC: 0.8900, Std Dev: 0.0060\n",
      "Best Accuracy per fold: [0.8899490833282471, 0.886318564414978, 0.9120567440986633, 0.877237856388092, 0.8727385997772217]\n",
      "Mean Best Accuracy: 0.8877, Std Dev: 0.0137\n",
      "Best Precision per fold: [0.9436893463134766, 0.9495145678520203, 0.9281553626060486, 0.9475728273391724, 0.9346278309822083]\n",
      "Mean Best Precision: 0.9407, Std Dev: 0.0081\n",
      "Best Recall per fold: [0.9594392776489258, 0.9560689330101013, 0.9515425562858582, 0.9526685476303101, 0.9526877403259277]\n",
      "Mean Best Recall: 0.9545, Std Dev: 0.0029\n"
     ]
    }
   ],
   "source": [
    "# Run K-Fold Training\n",
    "history_per_fold = run_kfold_training(\n",
    "    df=df_train,\n",
    "    model_class=ISICModel,\n",
    "    optimizer_class=torch.optim.Adam,  # Pass the optimizer class\n",
    "    scheduler_class=fetch_scheduler,  # Pass the scheduler fetch function\n",
    "    num_folds=CONFIG['n_fold'],\n",
    "    patience=CONFIG['patience']\n",
    ")\n"
   ]
  },
  {
   "cell_type": "markdown",
   "id": "19381dea",
   "metadata": {
    "papermill": {
     "duration": 6.993794,
     "end_time": "2025-01-15T14:19:12.782124",
     "exception": false,
     "start_time": "2025-01-15T14:19:05.788330",
     "status": "completed"
    },
    "tags": []
   },
   "source": [
    "## Training Loop"
   ]
  },
  {
   "cell_type": "code",
   "execution_count": 53,
   "id": "77609dc8",
   "metadata": {
    "execution": {
     "iopub.execute_input": "2025-01-15T14:19:26.252268Z",
     "iopub.status.busy": "2025-01-15T14:19:26.251899Z",
     "iopub.status.idle": "2025-01-15T14:19:26.258404Z",
     "shell.execute_reply": "2025-01-15T14:19:26.257316Z"
    },
    "papermill": {
     "duration": 6.748592,
     "end_time": "2025-01-15T14:19:26.259820",
     "exception": true,
     "start_time": "2025-01-15T14:19:19.511228",
     "status": "failed"
    },
    "tags": []
   },
   "outputs": [
    {
     "ename": "SyntaxError",
     "evalue": "positional argument follows keyword argument (3405421859.py, line 1)",
     "output_type": "error",
     "traceback": [
      "\u001b[0;36m  Cell \u001b[0;32mIn[53], line 1\u001b[0;36m\u001b[0m\n\u001b[0;31m    model, history = run_training(model, optimizer, scheduler, device=CONFIG['device'],train_loader, valid_loader, num_epochs=CONFIG['epochs'], patience=5)\u001b[0m\n\u001b[0m                                                                                                                                                          ^\u001b[0m\n\u001b[0;31mSyntaxError\u001b[0m\u001b[0;31m:\u001b[0m positional argument follows keyword argument\n"
     ]
    }
   ],
   "source": [
    "model, history = run_training(model, optimizer, scheduler, device=CONFIG['device'],train_loader, valid_loader, num_epochs=CONFIG['epochs'], patience=5)\n"
   ]
  },
  {
   "cell_type": "markdown",
   "id": "93f1feea",
   "metadata": {
    "papermill": {
     "duration": null,
     "end_time": null,
     "exception": null,
     "start_time": null,
     "status": "pending"
    },
    "tags": []
   },
   "source": [
    "## Result Visualization"
   ]
  },
  {
   "cell_type": "code",
   "execution_count": null,
   "id": "f4a7c318",
   "metadata": {
    "papermill": {
     "duration": null,
     "end_time": null,
     "exception": null,
     "start_time": null,
     "status": "pending"
    },
    "tags": []
   },
   "outputs": [],
   "source": [
    "history = pd.DataFrame.from_dict(history)\n",
    "history.to_csv(\"history.csv\", index=False)"
   ]
  },
  {
   "cell_type": "code",
   "execution_count": null,
   "id": "5b0ab94a",
   "metadata": {
    "papermill": {
     "duration": null,
     "end_time": null,
     "exception": null,
     "start_time": null,
     "status": "pending"
    },
    "tags": []
   },
   "outputs": [],
   "source": [
    "plt.plot( range(history.shape[0]), history[\"Train Loss\"].values, label=\"Train Loss\")\n",
    "plt.plot( range(history.shape[0]), history[\"Valid Loss\"].values, label=\"Valid Loss\")\n",
    "plt.xlabel(\"epochs\")\n",
    "plt.ylabel(\"Loss\")\n",
    "plt.grid()\n",
    "plt.legend()\n",
    "plt.show()"
   ]
  },
  {
   "cell_type": "code",
   "execution_count": null,
   "id": "19347e14",
   "metadata": {
    "papermill": {
     "duration": null,
     "end_time": null,
     "exception": null,
     "start_time": null,
     "status": "pending"
    },
    "tags": []
   },
   "outputs": [],
   "source": [
    "plt.plot( range(history.shape[0]), history[\"Train AUROC\"].values, label=\"Train AUROC\")\n",
    "plt.plot( range(history.shape[0]), history[\"Valid AUROC\"].values, label=\"Valid AUROC\")\n",
    "plt.xlabel(\"epochs\")\n",
    "plt.ylabel(\"AUROC\")\n",
    "plt.grid()\n",
    "plt.legend()\n",
    "plt.show()"
   ]
  },
  {
   "cell_type": "code",
   "execution_count": null,
   "id": "0ded7289",
   "metadata": {
    "papermill": {
     "duration": null,
     "end_time": null,
     "exception": null,
     "start_time": null,
     "status": "pending"
    },
    "tags": []
   },
   "outputs": [],
   "source": [
    "plt.plot( range(history.shape[0]), history[\"lr\"].values, label=\"lr\")\n",
    "plt.xlabel(\"epochs\")\n",
    "plt.ylabel(\"lr\")\n",
    "plt.grid()\n",
    "plt.legend()\n",
    "plt.show()"
   ]
  }
 ],
 "metadata": {
  "kaggle": {
   "accelerator": "gpu",
   "dataSources": [
    {
     "datasetId": 5768843,
     "sourceId": 9781360,
     "sourceType": "datasetVersion"
    }
   ],
   "dockerImageVersionId": 30787,
   "isGpuEnabled": true,
   "isInternetEnabled": true,
   "language": "python",
   "sourceType": "notebook"
  },
  "kernelspec": {
   "display_name": "Python 3",
   "language": "python",
   "name": "python3"
  },
  "language_info": {
   "codemirror_mode": {
    "name": "ipython",
    "version": 3
   },
   "file_extension": ".py",
   "mimetype": "text/x-python",
   "name": "python",
   "nbconvert_exporter": "python",
   "pygments_lexer": "ipython3",
   "version": "3.10.14"
  },
  "papermill": {
   "default_parameters": {},
   "duration": 22867.610955,
   "end_time": "2025-01-15T14:19:36.195953",
   "environment_variables": {},
   "exception": true,
   "input_path": "__notebook__.ipynb",
   "output_path": "__notebook__.ipynb",
   "parameters": {},
   "start_time": "2025-01-15T07:58:28.584998",
   "version": "2.6.0"
  },
  "widgets": {
   "application/vnd.jupyter.widget-state+json": {
    "state": {
     "264ab38b4b8d45ba96d2a57817a1ebf2": {
      "model_module": "@jupyter-widgets/base",
      "model_module_version": "1.2.0",
      "model_name": "LayoutModel",
      "state": {
       "_model_module": "@jupyter-widgets/base",
       "_model_module_version": "1.2.0",
       "_model_name": "LayoutModel",
       "_view_count": null,
       "_view_module": "@jupyter-widgets/base",
       "_view_module_version": "1.2.0",
       "_view_name": "LayoutView",
       "align_content": null,
       "align_items": null,
       "align_self": null,
       "border": null,
       "bottom": null,
       "display": null,
       "flex": null,
       "flex_flow": null,
       "grid_area": null,
       "grid_auto_columns": null,
       "grid_auto_flow": null,
       "grid_auto_rows": null,
       "grid_column": null,
       "grid_gap": null,
       "grid_row": null,
       "grid_template_areas": null,
       "grid_template_columns": null,
       "grid_template_rows": null,
       "height": null,
       "justify_content": null,
       "justify_items": null,
       "left": null,
       "margin": null,
       "max_height": null,
       "max_width": null,
       "min_height": null,
       "min_width": null,
       "object_fit": null,
       "object_position": null,
       "order": null,
       "overflow": null,
       "overflow_x": null,
       "overflow_y": null,
       "padding": null,
       "right": null,
       "top": null,
       "visibility": null,
       "width": null
      }
     },
     "2c99edd95b25423094e13ab5550eff30": {
      "model_module": "@jupyter-widgets/controls",
      "model_module_version": "1.5.0",
      "model_name": "HBoxModel",
      "state": {
       "_dom_classes": [],
       "_model_module": "@jupyter-widgets/controls",
       "_model_module_version": "1.5.0",
       "_model_name": "HBoxModel",
       "_view_count": null,
       "_view_module": "@jupyter-widgets/controls",
       "_view_module_version": "1.5.0",
       "_view_name": "HBoxView",
       "box_style": "",
       "children": [
        "IPY_MODEL_701d972003444b9a85710c4cc569f736",
        "IPY_MODEL_af210706c8324daab861fca7db9b57fa",
        "IPY_MODEL_2d3d899a70be4d5b9af7522dec6f15c3"
       ],
       "layout": "IPY_MODEL_264ab38b4b8d45ba96d2a57817a1ebf2"
      }
     },
     "2d3d899a70be4d5b9af7522dec6f15c3": {
      "model_module": "@jupyter-widgets/controls",
      "model_module_version": "1.5.0",
      "model_name": "HTMLModel",
      "state": {
       "_dom_classes": [],
       "_model_module": "@jupyter-widgets/controls",
       "_model_module_version": "1.5.0",
       "_model_name": "HTMLModel",
       "_view_count": null,
       "_view_module": "@jupyter-widgets/controls",
       "_view_module_version": "1.5.0",
       "_view_name": "HTMLView",
       "description": "",
       "description_tooltip": null,
       "layout": "IPY_MODEL_44deacedd0c64e46a8357db58dd82399",
       "placeholder": "​",
       "style": "IPY_MODEL_c9f914191074482ab86ace5d2f366d5b",
       "value": " 77.9M/77.9M [00:00&lt;00:00, 234MB/s]"
      }
     },
     "44deacedd0c64e46a8357db58dd82399": {
      "model_module": "@jupyter-widgets/base",
      "model_module_version": "1.2.0",
      "model_name": "LayoutModel",
      "state": {
       "_model_module": "@jupyter-widgets/base",
       "_model_module_version": "1.2.0",
       "_model_name": "LayoutModel",
       "_view_count": null,
       "_view_module": "@jupyter-widgets/base",
       "_view_module_version": "1.2.0",
       "_view_name": "LayoutView",
       "align_content": null,
       "align_items": null,
       "align_self": null,
       "border": null,
       "bottom": null,
       "display": null,
       "flex": null,
       "flex_flow": null,
       "grid_area": null,
       "grid_auto_columns": null,
       "grid_auto_flow": null,
       "grid_auto_rows": null,
       "grid_column": null,
       "grid_gap": null,
       "grid_row": null,
       "grid_template_areas": null,
       "grid_template_columns": null,
       "grid_template_rows": null,
       "height": null,
       "justify_content": null,
       "justify_items": null,
       "left": null,
       "margin": null,
       "max_height": null,
       "max_width": null,
       "min_height": null,
       "min_width": null,
       "object_fit": null,
       "object_position": null,
       "order": null,
       "overflow": null,
       "overflow_x": null,
       "overflow_y": null,
       "padding": null,
       "right": null,
       "top": null,
       "visibility": null,
       "width": null
      }
     },
     "701d972003444b9a85710c4cc569f736": {
      "model_module": "@jupyter-widgets/controls",
      "model_module_version": "1.5.0",
      "model_name": "HTMLModel",
      "state": {
       "_dom_classes": [],
       "_model_module": "@jupyter-widgets/controls",
       "_model_module_version": "1.5.0",
       "_model_name": "HTMLModel",
       "_view_count": null,
       "_view_module": "@jupyter-widgets/controls",
       "_view_module_version": "1.5.0",
       "_view_name": "HTMLView",
       "description": "",
       "description_tooltip": null,
       "layout": "IPY_MODEL_982cb835fb29418e9995073ccd51198d",
       "placeholder": "​",
       "style": "IPY_MODEL_97d58babc6364e20abf705c09e360e89",
       "value": "model.safetensors: 100%"
      }
     },
     "97d58babc6364e20abf705c09e360e89": {
      "model_module": "@jupyter-widgets/controls",
      "model_module_version": "1.5.0",
      "model_name": "DescriptionStyleModel",
      "state": {
       "_model_module": "@jupyter-widgets/controls",
       "_model_module_version": "1.5.0",
       "_model_name": "DescriptionStyleModel",
       "_view_count": null,
       "_view_module": "@jupyter-widgets/base",
       "_view_module_version": "1.2.0",
       "_view_name": "StyleView",
       "description_width": ""
      }
     },
     "982cb835fb29418e9995073ccd51198d": {
      "model_module": "@jupyter-widgets/base",
      "model_module_version": "1.2.0",
      "model_name": "LayoutModel",
      "state": {
       "_model_module": "@jupyter-widgets/base",
       "_model_module_version": "1.2.0",
       "_model_name": "LayoutModel",
       "_view_count": null,
       "_view_module": "@jupyter-widgets/base",
       "_view_module_version": "1.2.0",
       "_view_name": "LayoutView",
       "align_content": null,
       "align_items": null,
       "align_self": null,
       "border": null,
       "bottom": null,
       "display": null,
       "flex": null,
       "flex_flow": null,
       "grid_area": null,
       "grid_auto_columns": null,
       "grid_auto_flow": null,
       "grid_auto_rows": null,
       "grid_column": null,
       "grid_gap": null,
       "grid_row": null,
       "grid_template_areas": null,
       "grid_template_columns": null,
       "grid_template_rows": null,
       "height": null,
       "justify_content": null,
       "justify_items": null,
       "left": null,
       "margin": null,
       "max_height": null,
       "max_width": null,
       "min_height": null,
       "min_width": null,
       "object_fit": null,
       "object_position": null,
       "order": null,
       "overflow": null,
       "overflow_x": null,
       "overflow_y": null,
       "padding": null,
       "right": null,
       "top": null,
       "visibility": null,
       "width": null
      }
     },
     "af210706c8324daab861fca7db9b57fa": {
      "model_module": "@jupyter-widgets/controls",
      "model_module_version": "1.5.0",
      "model_name": "FloatProgressModel",
      "state": {
       "_dom_classes": [],
       "_model_module": "@jupyter-widgets/controls",
       "_model_module_version": "1.5.0",
       "_model_name": "FloatProgressModel",
       "_view_count": null,
       "_view_module": "@jupyter-widgets/controls",
       "_view_module_version": "1.5.0",
       "_view_name": "ProgressView",
       "bar_style": "success",
       "description": "",
       "description_tooltip": null,
       "layout": "IPY_MODEL_ce9eb8de0bd34aa3b0a1dbdfd87f7459",
       "max": 77933206.0,
       "min": 0.0,
       "orientation": "horizontal",
       "style": "IPY_MODEL_df83dcc2a428453d93c179a7bf61e601",
       "value": 77933206.0
      }
     },
     "c9f914191074482ab86ace5d2f366d5b": {
      "model_module": "@jupyter-widgets/controls",
      "model_module_version": "1.5.0",
      "model_name": "DescriptionStyleModel",
      "state": {
       "_model_module": "@jupyter-widgets/controls",
       "_model_module_version": "1.5.0",
       "_model_name": "DescriptionStyleModel",
       "_view_count": null,
       "_view_module": "@jupyter-widgets/base",
       "_view_module_version": "1.2.0",
       "_view_name": "StyleView",
       "description_width": ""
      }
     },
     "ce9eb8de0bd34aa3b0a1dbdfd87f7459": {
      "model_module": "@jupyter-widgets/base",
      "model_module_version": "1.2.0",
      "model_name": "LayoutModel",
      "state": {
       "_model_module": "@jupyter-widgets/base",
       "_model_module_version": "1.2.0",
       "_model_name": "LayoutModel",
       "_view_count": null,
       "_view_module": "@jupyter-widgets/base",
       "_view_module_version": "1.2.0",
       "_view_name": "LayoutView",
       "align_content": null,
       "align_items": null,
       "align_self": null,
       "border": null,
       "bottom": null,
       "display": null,
       "flex": null,
       "flex_flow": null,
       "grid_area": null,
       "grid_auto_columns": null,
       "grid_auto_flow": null,
       "grid_auto_rows": null,
       "grid_column": null,
       "grid_gap": null,
       "grid_row": null,
       "grid_template_areas": null,
       "grid_template_columns": null,
       "grid_template_rows": null,
       "height": null,
       "justify_content": null,
       "justify_items": null,
       "left": null,
       "margin": null,
       "max_height": null,
       "max_width": null,
       "min_height": null,
       "min_width": null,
       "object_fit": null,
       "object_position": null,
       "order": null,
       "overflow": null,
       "overflow_x": null,
       "overflow_y": null,
       "padding": null,
       "right": null,
       "top": null,
       "visibility": null,
       "width": null
      }
     },
     "df83dcc2a428453d93c179a7bf61e601": {
      "model_module": "@jupyter-widgets/controls",
      "model_module_version": "1.5.0",
      "model_name": "ProgressStyleModel",
      "state": {
       "_model_module": "@jupyter-widgets/controls",
       "_model_module_version": "1.5.0",
       "_model_name": "ProgressStyleModel",
       "_view_count": null,
       "_view_module": "@jupyter-widgets/base",
       "_view_module_version": "1.2.0",
       "_view_name": "StyleView",
       "bar_color": null,
       "description_width": ""
      }
     }
    },
    "version_major": 2,
    "version_minor": 0
   }
  }
 },
 "nbformat": 4,
 "nbformat_minor": 5
}
